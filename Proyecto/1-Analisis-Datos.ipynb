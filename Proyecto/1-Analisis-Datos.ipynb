{
 "cells": [
  {
   "cell_type": "markdown",
   "id": "c4cdd109-11f7-423f-9240-bdde1bacac0f",
   "metadata": {
    "tags": [],
    "pycharm": {
     "name": "#%% md\n"
    }
   },
   "source": [
    "# 1. Análisis de los datos - Detección de *Fake News*\n",
    "\n",
    "José Luis Aguilera Luzania"
   ]
  },
  {
   "cell_type": "markdown",
   "id": "51d0b164-a700-4adf-a4f4-780f517075dc",
   "metadata": {
    "tags": [],
    "pycharm": {
     "name": "#%% md\n"
    }
   },
   "source": [
    "## Introducción\n",
    "\n",
    "### ¿Qué es la detección de *Fake News*?\n",
    "- Es la tarea de evaluar la veracidad de las afirmaciones en las noticias.\n",
    "- Es un problema crítico en Procesamiento del Lenguaje Natural porque tanto en medios de noticias tradicionales como en medios digitales las Fake News generan un gran impacto social y político en cada individuo.\n",
    "- La exposición a las Fake News puede generar actitudes de ineficacia, alienación y cinismo hacia ciertos candidatos políticos (Balmas, 2014).\n",
    "\n",
    "### Objetivo de la libreta\n",
    "El objetivo de esta libreta es proporcionar una análisis de los datos, su estructura e información básica antes de ser preprocesados."
   ]
  },
  {
   "cell_type": "markdown",
   "id": "2d1dcd3a-e0a0-4fcc-bc69-a6c7709eddc5",
   "metadata": {
    "pycharm": {
     "name": "#%% md\n"
    }
   },
   "source": [
    "## Análisis de los datos\n",
    "\n",
    "### Librerías\n",
    "\n",
    "- Manipulación de datos:\n",
    "    - `pandas`: Librería para manipular los datos de forma tabular.\n",
    "    - `matplotlib`: Librería para graficar.\n",
    "    - `openpyxl`: Librería para leer archivos de hoja de cálculo en pandas.\n",
    "    - `cmd`: Librería para controlar el formato de impresión en la consola.\n",
    "    - `unicode`: Librería para eliminar acentos de las palabras.\n",
    "    - `re`: Librería para utilizar expresiones regulares.\n",
    "    \n",
    "- Procesamiento del lenguaje natural:\n",
    "    - `nltk`: Librería para utilizar técnicas de procesameinto del lenguaje natural."
   ]
  },
  {
   "cell_type": "code",
   "execution_count": 2,
   "id": "9086439b-9a97-4278-a569-6d430ddd92d4",
   "metadata": {
    "pycharm": {
     "name": "#%%\n"
    }
   },
   "outputs": [],
   "source": [
    "import pandas as pd\n",
    "import matplotlib.pyplot as plt\n",
    "import openpyxl\n",
    "import cmd\n",
    "import unidecode\n",
    "import re\n",
    "import nltk"
   ]
  },
  {
   "cell_type": "markdown",
   "id": "ded74cfe-83f3-4696-9eec-53d5765b90d9",
   "metadata": {
    "tags": [],
    "pycharm": {
     "name": "#%% md\n"
    }
   },
   "source": [
    "### Datos adicionales para la librería `nltk`\n",
    "- `punkt`: Necesario para utilizar el tokenizador de los textos.\n",
    "- `stopwords`: Palabras comunes que no añaden información, como: el, la, los, etc."
   ]
  },
  {
   "cell_type": "code",
   "execution_count": 3,
   "id": "f9769787-1786-405d-825f-57bc0c91afa9",
   "metadata": {
    "pycharm": {
     "name": "#%%\n"
    }
   },
   "outputs": [
    {
     "name": "stderr",
     "output_type": "stream",
     "text": [
      "[nltk_data] Downloading package punkt to\n",
      "[nltk_data]     C:\\Users\\JoseLuis_AL\\AppData\\Roaming\\nltk_data...\n",
      "[nltk_data]   Package punkt is already up-to-date!\n",
      "[nltk_data] Downloading package stopwords to\n",
      "[nltk_data]     C:\\Users\\JoseLuis_AL\\AppData\\Roaming\\nltk_data...\n",
      "[nltk_data]   Package stopwords is already up-to-date!\n"
     ]
    },
    {
     "data": {
      "text/plain": "True"
     },
     "execution_count": 3,
     "metadata": {},
     "output_type": "execute_result"
    }
   ],
   "source": [
    "# Descargar los datos necesarios.\n",
    "nltk.download('punkt')\n",
    "nltk.download('stopwords')"
   ]
  },
  {
   "cell_type": "markdown",
   "id": "d81e2d8a-dc9e-4f9b-a824-d33527a0f3cd",
   "metadata": {
    "tags": [],
    "pycharm": {
     "name": "#%% md\n"
    }
   },
   "source": [
    "Información del conjunto de datos\n",
    "\n",
    "**Información general**  \n",
    "- Se obtuvieron del repositorio de Github \"FakeNewsCorpusSpanish\" de J.P.Posadas. ([jpposadas](https://github.com/jpposadas/FakeNewsCorpusSpanish))\n",
    "- Las noticias fueron recolectadas de enero a julio del 2018.\n",
    "- Todas las noticias están escritas en el idioma español.\n",
    "- El *corpus* contiene 971 noticias divididas en:\n",
    "    - 491 noticias reales.\n",
    "    - 480 noticias falsas.\n",
    "    \n",
    "**¿Cómo se etiquetaron los datos?**  \n",
    "El proceso de etiquetación de las noticias fue manual y se tomaron en cuenta los siguientes aspectos:  \n",
    "\n",
    "1. Una noticia es etiquetada como verdadera si hay evidencia de que fue publicada en sitios de confianza, periódicos establecidos o en páginas de periodistas renombrados.  \n",
    "2. Una noticia es etiquetada como falsa si había noticias publicadas en sitios confiables o especializados en detección de contenido engañoso como VerificadoMX que contradicen la información o si no se encontró otra evidencia sobre la noticia.  \n",
    "3. La correlación entre las noticias se mantuvo, recolectando un par Verdadera-Falsa de cada evento.  \n",
    "4. Se buscó incluir la fuente original de cada noticia.\n",
    "\n",
    "**Temas de las noticias**  \n",
    "El *corpus* cubre noticias de 9 temas diferentes.\n",
    "\n",
    "1. Ciencia.\n",
    "2. Deportes.\n",
    "3. Economía.\n",
    "4. Entretenimiento.\n",
    "5. Educación.\n",
    "6. Política.\n",
    "7. Salud.\n",
    "8. Seguridad.\n",
    "9. Sociedad\n",
    "\n",
    "**Estructura de los datos**\n",
    "- **Id**: Identificador de cada instancia.\n",
    "- **Category**: Categoría de la noticia (True o False).\n",
    "- **Topic**: Tema relacionado con la noticia.\n",
    "- **Source**: Nombre de la fuente.\n",
    "- **Headline**: Titulo de la noticia.\n",
    "- **Text**: Texto de la noticia\t.\n",
    "- **Link**: URL de la fuente."
   ]
  },
  {
   "cell_type": "markdown",
   "id": "5b66a92f-de36-465e-8fca-d9624251e99b",
   "metadata": {
    "pycharm": {
     "name": "#%% md\n"
    }
   },
   "source": [
    "### Leer los datos\n",
    "\n",
    "Los datos estan divididos en los archivos `train.xlsx` y `development.xlsx`, con 80% para entrenamiento y 20% para pruebas respectivamente.\n",
    "\n",
    "Para cargar los conjuntos de datos se utilizará la librería `pandas` y su estructura `DataFrame`."
   ]
  },
  {
   "cell_type": "code",
   "execution_count": 4,
   "id": "0ecdef95-3ace-483f-a23c-e4dc10e0158c",
   "metadata": {
    "pycharm": {
     "name": "#%%\n"
    }
   },
   "outputs": [],
   "source": [
    "df_entrenamiento = pd.read_excel('Datos/train.xlsx')\n",
    "df_pruebas = pd.read_excel('Datos/development.xlsx')"
   ]
  },
  {
   "cell_type": "markdown",
   "id": "49b31eb8-e73f-4c10-a2d0-3aba3a3e4dbd",
   "metadata": {
    "pycharm": {
     "name": "#%% md\n"
    }
   },
   "source": [
    "### Conjunto de entrenamiento"
   ]
  },
  {
   "cell_type": "code",
   "execution_count": 5,
   "id": "a01c3fbe-3f19-4a14-9dbe-e475afd08305",
   "metadata": {
    "pycharm": {
     "name": "#%%\n"
    }
   },
   "outputs": [
    {
     "name": "stdout",
     "output_type": "stream",
     "text": [
      "Noticias, Columnas: (676, 7)\n",
      "Columnas: ['Id', 'Category', 'Topic', 'Source', 'Headline', 'Text', 'Link']\n",
      "Noticias verdaderas: 338\n",
      "Noticias falsas: 338\n"
     ]
    }
   ],
   "source": [
    "print(f'Noticias, Columnas: {df_entrenamiento.shape}')\n",
    "print(f'Columnas: {list(df_entrenamiento.columns)}')\n",
    "print('Noticias verdaderas: {}'.format(df_entrenamiento.groupby('Category').size()[0]))\n",
    "print('Noticias falsas: {}'    .format(df_entrenamiento.groupby('Category').size()[1]))"
   ]
  },
  {
   "cell_type": "markdown",
   "id": "6ba5b58d-9463-4c23-ad2d-4f7833d8ea49",
   "metadata": {
    "pycharm": {
     "name": "#%% md\n"
    }
   },
   "source": [
    "### Conjunto de pruebas"
   ]
  },
  {
   "cell_type": "code",
   "execution_count": 6,
   "id": "41a005c9-cae8-422e-a840-17f5f3be440e",
   "metadata": {
    "pycharm": {
     "name": "#%%\n"
    }
   },
   "outputs": [
    {
     "name": "stdout",
     "output_type": "stream",
     "text": [
      "Noticias, Columnas: (295, 7)\n",
      "Columnas: ['Id', 'Category', 'Topic', 'Source', 'Headline', 'Text', 'Link']\n",
      "Noticias verdaderas: 142\n",
      "Noticias falsas: 153\n"
     ]
    }
   ],
   "source": [
    "print(f'Noticias, Columnas: {df_pruebas.shape}')\n",
    "print(f'Columnas: {list(df_pruebas.columns)}')\n",
    "print('Noticias verdaderas: {}'.format(df_pruebas.groupby('Category').size()[0]))\n",
    "print('Noticias falsas: {}'    .format(df_pruebas.groupby('Category').size()[1]))"
   ]
  },
  {
   "cell_type": "markdown",
   "id": "18aef274-cb67-46f4-90a4-10d2adf69a47",
   "metadata": {
    "pycharm": {
     "name": "#%% md\n"
    }
   },
   "source": [
    "### Temas\n",
    "\n",
    "Como se describió en la sección 2.3 el *corpus* cuenta con 9 temas, las noticias se encuentran distribuidas de la siguiente manera:"
   ]
  },
  {
   "cell_type": "code",
   "execution_count": 7,
   "id": "3cce4b53-5f34-43f8-a43c-1f796bc638e5",
   "metadata": {
    "pycharm": {
     "name": "#%%\n"
    }
   },
   "outputs": [
    {
     "data": {
      "text/plain": "               Entrenamiento  Pruebas\nEconomy                   30       13\nEducation                 15        7\nEntertainment            103       45\nHealth                    32       14\nPolitics                 226       97\nScience                   62       27\nSecurity                  29       13\nSociety                   93       41\nSport                     86       38",
      "text/html": "<div>\n<style scoped>\n    .dataframe tbody tr th:only-of-type {\n        vertical-align: middle;\n    }\n\n    .dataframe tbody tr th {\n        vertical-align: top;\n    }\n\n    .dataframe thead th {\n        text-align: right;\n    }\n</style>\n<table border=\"1\" class=\"dataframe\">\n  <thead>\n    <tr style=\"text-align: right;\">\n      <th></th>\n      <th>Entrenamiento</th>\n      <th>Pruebas</th>\n    </tr>\n  </thead>\n  <tbody>\n    <tr>\n      <th>Economy</th>\n      <td>30</td>\n      <td>13</td>\n    </tr>\n    <tr>\n      <th>Education</th>\n      <td>15</td>\n      <td>7</td>\n    </tr>\n    <tr>\n      <th>Entertainment</th>\n      <td>103</td>\n      <td>45</td>\n    </tr>\n    <tr>\n      <th>Health</th>\n      <td>32</td>\n      <td>14</td>\n    </tr>\n    <tr>\n      <th>Politics</th>\n      <td>226</td>\n      <td>97</td>\n    </tr>\n    <tr>\n      <th>Science</th>\n      <td>62</td>\n      <td>27</td>\n    </tr>\n    <tr>\n      <th>Security</th>\n      <td>29</td>\n      <td>13</td>\n    </tr>\n    <tr>\n      <th>Society</th>\n      <td>93</td>\n      <td>41</td>\n    </tr>\n    <tr>\n      <th>Sport</th>\n      <td>86</td>\n      <td>38</td>\n    </tr>\n  </tbody>\n</table>\n</div>"
     },
     "execution_count": 7,
     "metadata": {},
     "output_type": "execute_result"
    }
   ],
   "source": [
    "df_temas_entrenamiento = pd.DataFrame.from_dict(\n",
    "    dict(df_entrenamiento.groupby('Topic').size()), \n",
    "    orient='index', \n",
    "    columns=['Entrenamiento'])\n",
    "\n",
    "df_temas_pruebas = pd.DataFrame.from_dict(\n",
    "    dict(df_pruebas.groupby('Topic').size()), \n",
    "    orient='index', \n",
    "    columns=['Pruebas'])\n",
    "\n",
    "df_temas = pd.concat([df_temas_entrenamiento, df_temas_pruebas], axis=1)\n",
    "df_temas.to_csv('Tablas-CSV/Temas-Noticias.csv')\n",
    "df_temas"
   ]
  },
  {
   "cell_type": "code",
   "execution_count": 8,
   "id": "32dba826-d2de-4652-812b-07015b63d1a4",
   "metadata": {
    "pycharm": {
     "name": "#%%\n"
    }
   },
   "outputs": [
    {
     "data": {
      "text/plain": "<Figure size 720x504 with 1 Axes>",
      "image/png": "[encoded data removed]"
     },
     "metadata": {
      "needs_background": "light"
     },
     "output_type": "display_data"
    }
   ],
   "source": [
    "temas_plot = df_temas.plot(kind='bar', figsize=(10, 7))\n",
    "temas_plot.set_xlabel('Temas', fontsize=15)\n",
    "temas_plot.set_ylabel('Número de noticias', fontsize=15)\n",
    "\n",
    "temas_plot.figure.savefig('Plots/Temas-Noticias.png')"
   ]
  },
  {
   "cell_type": "markdown",
   "id": "20e05bc6-d951-4e71-8184-d956fee1a3e6",
   "metadata": {
    "pycharm": {
     "name": "#%% md\n"
    }
   },
   "source": [
    "### ¿Cuáles son las fuentes?\n",
    "\n",
    "Para conocer todas las fuentes hay que hacer un preprocesado de los datos.\n",
    "\n",
    "1. Concatenar los DataFrames de entrenamiento y pruebas.\n",
    "1. Crear un nuevo DataFrame con las columnas `Category` y `Source`.\n",
    "2. Crear una lista con las fuentes (columna `Source`).\n",
    "3. Eliminar valores repetidos en la lista e imprimir el número de fuentes.\n",
    "4. Imprimir los primeros 15."
   ]
  },
  {
   "cell_type": "code",
   "execution_count": 9,
   "id": "a982a1bf-ab2e-4ccc-8ace-d5f62a02408e",
   "metadata": {
    "pycharm": {
     "name": "#%%\n"
    }
   },
   "outputs": [
    {
     "name": "stdout",
     "output_type": "stream",
     "text": [
      "Número de fuentes: 167\n"
     ]
    },
    {
     "data": {
      "text/plain": "['20 Minutos',\n 'ABC',\n 'ABC EL RECREO',\n 'ABC Noticias',\n 'ABC sociedad',\n 'ANONYMOUS  AZTECA',\n 'ARGUMENTO POLÍTICO',\n 'Actualidad RT',\n 'Alerta digital',\n 'Animal Politico ',\n 'Animal Político',\n 'Animal político',\n 'Argumento Político',\n 'Aristegui Noticias',\n 'Aristegui noticias']"
     },
     "execution_count": 9,
     "metadata": {},
     "output_type": "execute_result"
    }
   ],
   "source": [
    "# 1. Concatenamos los DataFrames de entrenamiento y pruebas.\n",
    "df_datos = pd.concat([df_entrenamiento, df_pruebas], axis=0)\n",
    "\n",
    "# 2. Separar los datos.\n",
    "df_categoria_fuente = df_datos[['Category', 'Source']]\n",
    "\n",
    "# 3. Todos los valores en la columna 'Source'.\n",
    "fuentes_ls = df_categoria_fuente['Source'].to_list()\n",
    "\n",
    "# 4. Eliminar valores repetidos e imprimir el número de fuentes.\n",
    "fuentes_ls = list(sorted(set(fuentes_ls)))\n",
    "print(f'Número de fuentes: {len(fuentes_ls)}')\n",
    "\n",
    "# 5. Imprimir los primeros 15.\n",
    "fuentes_ls[:15]"
   ]
  },
  {
   "cell_type": "markdown",
   "id": "b7ca9706-3056-4649-bf26-d08283d62e9b",
   "metadata": {
    "pycharm": {
     "name": "#%% md\n"
    }
   },
   "source": [
    "**Fuentes repetidas**  \n",
    "\n",
    "Se puede observar que existen fuentes repetidas en la lista como 'Animal Político' o 'Aristegui Noticias' porque no se escribieron de la misma manera, sin embargo, son la misma fuente de información.  \n",
    "\n",
    "Para resolver este problema es necesaro crear una función para procesar el texto de las fuentes con las siguientes reglas:\n",
    "\n",
    "1. Convertir todas las fuentes en minúsculas.\n",
    "2. Eliminar acentos.\n",
    "3. Eliminar todo excepto las palabras."
   ]
  },
  {
   "cell_type": "code",
   "execution_count": 10,
   "id": "5cb4da66-a7ab-4e0f-97f7-3151ef6a8c31",
   "metadata": {
    "pycharm": {
     "name": "#%%\n"
    }
   },
   "outputs": [],
   "source": [
    "def procesar_fuentes(texto):\n",
    "    '''\n",
    "    Input: \n",
    "        texto: una cadena de texto.\n",
    "        \n",
    "    Output:\n",
    "        texto: una cadena de texto formada solo por las palabras del texto original, sin acentos, caracteres especiales o espacios extra.\n",
    "    '''\n",
    "    # 1. Convertir el texto en minúsculas.\n",
    "    texto = texto.lower()\n",
    "    \n",
    "    # 2. Eliminar acentos.\n",
    "    texto = unidecode.unidecode(texto)\n",
    "    \n",
    "    # 3. Quedarnos solo con las palabras.\n",
    "    texto = re.findall(r'\\w+', texto)\n",
    "    texto = ' '.join(texto)\n",
    "    \n",
    "    return texto"
   ]
  },
  {
   "cell_type": "markdown",
   "id": "33228907-77a3-4259-8986-4f7420106f7e",
   "metadata": {
    "pycharm": {
     "name": "#%% md\n"
    }
   },
   "source": [
    "**Procesar todas las fuentes**  \n",
    "\n",
    "1. Se aplica la función `procesar_fuentes` a la columna `Source`.\n",
    "2. Crear una lista con las fuentes (columna `Source`).\n",
    "3. Eliminar valores repetidos en la lista e imprimir el número de fuentes.\n",
    "4. Imprimir los primeros 15."
   ]
  },
  {
   "cell_type": "code",
   "execution_count": 11,
   "id": "21b100f6-9eef-49e2-af5a-59684343709a",
   "metadata": {
    "pycharm": {
     "name": "#%%\n"
    }
   },
   "outputs": [
    {
     "name": "stdout",
     "output_type": "stream",
     "text": [
      "Número de fuentes: 147\n"
     ]
    },
    {
     "data": {
      "text/plain": "['20 minutos',\n 'abc',\n 'abc el recreo',\n 'abc noticias',\n 'abc sociedad',\n 'actualidad rt',\n 'alerta digital',\n 'animal politico',\n 'anonymous azteca',\n 'argumento politico',\n 'aristegui noticias',\n 'azteca deporte',\n 'bbc',\n 'bbc news',\n 'billboard']"
     },
     "execution_count": 11,
     "metadata": {},
     "output_type": "execute_result"
    }
   ],
   "source": [
    "# 1. Aplicar la función 'procesar_fuentes'.\n",
    "fuentes_procesadas = df_categoria_fuente['Source'].apply(procesar_fuentes)\n",
    "\n",
    "# 2. Crear una lista con las fuentes procesadas.\n",
    "fuentes_procesadas_ls = fuentes_procesadas.to_list()\n",
    "\n",
    "# 3. Eliminar valores repetidos e imprimir el número de fuentes.\n",
    "fuentes_procesadas_ls = list(sorted(set(fuentes_procesadas_ls)))\n",
    "print(f'Número de fuentes: {len(fuentes_procesadas_ls)}')\n",
    "\n",
    "# 4. Imprimir las primeras 15 fuentes.\n",
    "fuentes_procesadas_ls[:15]"
   ]
  },
  {
   "cell_type": "code",
   "execution_count": 12,
   "id": "63986d67-4043-40a2-ade9-c32d63dc6460",
   "metadata": {
    "pycharm": {
     "name": "#%%\n"
    }
   },
   "outputs": [
    {
     "name": "stdout",
     "output_type": "stream",
     "text": [
      "Número de fuentes original: 167\n",
      "Número de fuentes real: 147\n"
     ]
    }
   ],
   "source": [
    "print(f'Número de fuentes original: {len(fuentes_ls)}')\n",
    "print(f'Número de fuentes real: {len(fuentes_procesadas_ls)}')"
   ]
  },
  {
   "cell_type": "markdown",
   "id": "10e8046a-268d-4bfc-99a9-5e6478e397c3",
   "metadata": {
    "pycharm": {
     "name": "#%% md\n"
    }
   },
   "source": [
    "El número de fuentes original era 167, pero después de procesar los textos de las fuentes podemos observar que en realidad solo hay 147 fuentes en total, es decir, existen 20 fuentes que fueron escritas de forma incorrecta."
   ]
  },
  {
   "cell_type": "markdown",
   "id": "2fab77bd-62f8-42a6-accf-867cf9d34014",
   "metadata": {
    "pycharm": {
     "name": "#%% md\n"
    }
   },
   "source": [
    "**Lista de fuentes**  "
   ]
  },
  {
   "cell_type": "code",
   "execution_count": 13,
   "id": "38c3b9b4-4c0d-4cf7-9b85-2c03f1594e47",
   "metadata": {
    "pycharm": {
     "name": "#%%\n"
    }
   },
   "outputs": [
    {
     "name": "stdout",
     "output_type": "stream",
     "text": [
      "20 minutos                 dos mundos                 facebook el senor lopez  la verdad es           razon                  \n",
      "abc                        eco portal                 facebook unico noticias  la voz popular         record                 \n",
      "abc el recreo              eje central                fifa                     lamula                 resumen latinoamericano\n",
      "abc noticias               el buen tono               fisgon politico          lo que calla la tv     retroceso              \n",
      "abc sociedad               el clarin                  forbes                   los replicantes        rey misterios          \n",
      "actualidad rt              el coleccionista de datos  frentes politicos        marca                  sabor a merengue       \n",
      "alerta digital             el dizque                  grandes medios           medio tiempo           sdp noticias           \n",
      "animal politico            el economista              grupo formula            mediterraneo digital   sdpnoticias            \n",
      "anonymous azteca           el espectador              hay noticia              merca2 0               sin embargo            \n",
      "argumento politico         el financiero              heraldo                  milenio                su medico              \n",
      "aristegui noticias         el grafico                 heraldo de mexico        modo noticia           telemundo              \n",
      "azteca deporte             el heraldo                 hipertextual             modonoticia            televisa deporte       \n",
      "bbc                        el librero de gutenberg    hispantv                 muy interesante        texto noticias         \n",
      "bbc news                   el manana                  hola                     mvs noticias           the new york times     \n",
      "billboard                  el manana global           hola mexico              nacion unida           tiempo                 \n",
      "caracol radio              el milenio                 http www2 esmas com      nacion321              tiempo digital         \n",
      "caras                      el mundo                   huffpost                 news week espanol      todo informe           \n",
      "carlosagaton blogspot com  el mundo today             inciclopedia             newsner                tribuna noticias       \n",
      "censura 0                  el nuevo dia               info bae                 nippon                 tv notas               \n",
      "clarin                     el pais                    jornada                  noticieros televisa    twitter                \n",
      "cnn en espanol             el ruinaversal             konbini                  novedades quitana roo  twitter calderon       \n",
      "cnn espanol                el sol de mexico           la jornada               opinion                twitter rafael ramirez \n",
      "cnnespanol                 el universal               la nacion                pan tweet              twitter ricardo aleman \n",
      "criterio universal         elle                       la neta virtual          parabolica             twitter simmsa         \n",
      "cuba debate                enpareja com               la opinion               people en espanol      universo deportivo     \n",
      "denuncias mx               es diario                  la otra opinion          playgroundmag          uno cero               \n",
      "denunciasmx com            espn                       la parada digital        proceso                voz del sur            \n",
      "diario cambio              excelsior                  la prensa                publimetro           \n",
      "diario de ibiza            exclusivas puebla          la red 21                quien                \n",
      "diario del huila           expansion                  la vanguardia            radio formula        \n"
     ]
    }
   ],
   "source": [
    "cli = cmd.Cmd()\n",
    "cli.columnize(fuentes_procesadas_ls, displaywidth=130)"
   ]
  },
  {
   "cell_type": "markdown",
   "id": "ac5a0e3c-fb4d-4d8f-8c60-36ddf0d7b5bf",
   "metadata": {
    "tags": [],
    "pycharm": {
     "name": "#%% md\n"
    }
   },
   "source": [
    "### Fuentes con más *Fake News* y *True News* recolectadas\n",
    "\n",
    "Lo siguiente es conocer son las fuentes de donde se obtuvieron más noticias verdaderas y falsas.  \n",
    "Para esto debemos remplazar la columna de fuentes por la columna de fuentes procesadas con el fin de evitar fuentes duplicadas.\n",
    "\n",
    "1. Crear un DataFrame con las fuentes procesadas.\n",
    "2. Remplazar la columna de las fuentes originales en el DataFrame `df_categoria_fuente` con las fuentes procesadas.\n",
    "4. Ordenar el DataFrame según la columna `Source` por orden alfabético."
   ]
  },
  {
   "cell_type": "code",
   "execution_count": 14,
   "id": "761b8ddd-c3a3-424a-8ef3-16d7e5680e26",
   "metadata": {
    "pycharm": {
     "name": "#%%\n"
    }
   },
   "outputs": [],
   "source": [
    "# 1. Crear el DataFrame de las fuentes procesadas.\n",
    "df_fuentes_procesadas = pd.DataFrame(fuentes_procesadas, columns=['Source'])\n",
    "\n",
    "# 2. Remplazar la columna 'Source'.\n",
    "df_categoria_fuente = df_categoria_fuente.assign(Source=df_fuentes_procesadas['Source'])\n",
    "\n",
    "# 3. Ordenar los datos alfabéticamente según la columna 'Source'.\n",
    "df_categoria_fuente = df_categoria_fuente.sort_values(by=['Source'], ascending=True)"
   ]
  },
  {
   "cell_type": "markdown",
   "id": "9398d125-63fb-445b-8013-54ed6e244bfc",
   "metadata": {
    "pycharm": {
     "name": "#%% md\n"
    }
   },
   "source": [
    "**Calcular el número de noticias en base a la categoría**  \n",
    "Para realizar esta tarea se crea la función `calcular_noticias`."
   ]
  },
  {
   "cell_type": "code",
   "execution_count": 15,
   "id": "c2b5aaa0-bb19-41c2-8759-95fdde835a1a",
   "metadata": {
    "pycharm": {
     "name": "#%%\n"
    }
   },
   "outputs": [],
   "source": [
    "def calcular_noticias(dataframe, categoria):\n",
    "    '''\n",
    "    Input: \n",
    "        dataframe: DataFrame con los datos.\n",
    "        categoria: categoría a la que pertenecen las noticias (True o Fake).\n",
    "        \n",
    "    Output:\n",
    "        dict_noticias: diccionario donde las llaves son las fuentes y el valor es el número de veces que tuvo una noticia en la categoria.\n",
    "    '''\n",
    "    \n",
    "    dict_noticias = dict()\n",
    "    \n",
    "    for df_categoria, df_fuente in dataframe.values:\n",
    "    \n",
    "        # Verificamos que sea la categoría deseada.\n",
    "        if df_categoria == categoria:\n",
    "        \n",
    "            # Creamos una key para la fuente concatenando su valor de verdad.\n",
    "            key_fuente = df_fuente + ' - ' + categoria\n",
    "\n",
    "            # Si la key no se encuentra en el diccionario creamos una para cada categoria.\n",
    "            if not key_fuente in dict_noticias:\n",
    "                dict_noticias[key_fuente] = 0 \n",
    "\n",
    "            dict_noticias[key_fuente] += 1\n",
    "    \n",
    "    return dict_noticias"
   ]
  },
  {
   "cell_type": "markdown",
   "id": "907edb0b-04c2-4a3e-bacb-5a7f33cee906",
   "metadata": {
    "pycharm": {
     "name": "#%% md\n"
    }
   },
   "source": [
    "**Fuentes con noticias falsas o *Fake News***"
   ]
  },
  {
   "cell_type": "code",
   "execution_count": 16,
   "id": "b70d91b5-aae9-43dc-a17d-9b5eea92c185",
   "metadata": {
    "pycharm": {
     "name": "#%%\n"
    }
   },
   "outputs": [
    {
     "data": {
      "text/plain": "                      Fuente  Cantidad\n0           el dizque - Fake       135\n1      el ruinaversal - Fake        94\n2         hay noticia - Fake        39\n3           censura 0 - Fake        36\n4      la voz popular - Fake        24\n5        modo noticia - Fake        22\n6           retroceso - Fake        17\n7      el mundo today - Fake        11\n8  argumento politico - Fake         9\n9        nacion unida - Fake         5",
      "text/html": "<div>\n<style scoped>\n    .dataframe tbody tr th:only-of-type {\n        vertical-align: middle;\n    }\n\n    .dataframe tbody tr th {\n        vertical-align: top;\n    }\n\n    .dataframe thead th {\n        text-align: right;\n    }\n</style>\n<table border=\"1\" class=\"dataframe\">\n  <thead>\n    <tr style=\"text-align: right;\">\n      <th></th>\n      <th>Fuente</th>\n      <th>Cantidad</th>\n    </tr>\n  </thead>\n  <tbody>\n    <tr>\n      <th>0</th>\n      <td>el dizque - Fake</td>\n      <td>135</td>\n    </tr>\n    <tr>\n      <th>1</th>\n      <td>el ruinaversal - Fake</td>\n      <td>94</td>\n    </tr>\n    <tr>\n      <th>2</th>\n      <td>hay noticia - Fake</td>\n      <td>39</td>\n    </tr>\n    <tr>\n      <th>3</th>\n      <td>censura 0 - Fake</td>\n      <td>36</td>\n    </tr>\n    <tr>\n      <th>4</th>\n      <td>la voz popular - Fake</td>\n      <td>24</td>\n    </tr>\n    <tr>\n      <th>5</th>\n      <td>modo noticia - Fake</td>\n      <td>22</td>\n    </tr>\n    <tr>\n      <th>6</th>\n      <td>retroceso - Fake</td>\n      <td>17</td>\n    </tr>\n    <tr>\n      <th>7</th>\n      <td>el mundo today - Fake</td>\n      <td>11</td>\n    </tr>\n    <tr>\n      <th>8</th>\n      <td>argumento politico - Fake</td>\n      <td>9</td>\n    </tr>\n    <tr>\n      <th>9</th>\n      <td>nacion unida - Fake</td>\n      <td>5</td>\n    </tr>\n  </tbody>\n</table>\n</div>"
     },
     "execution_count": 16,
     "metadata": {},
     "output_type": "execute_result"
    }
   ],
   "source": [
    "df_fuentes_fake = calcular_noticias(df_categoria_fuente, 'Fake')\n",
    "df_fuentes_fake = pd.DataFrame(list(df_fuentes_fake.items()), columns=['Fuente', 'Cantidad'])\n",
    "df_fuentes_fake = df_fuentes_fake.sort_values(by=['Cantidad'], ascending=False).reset_index().drop('index', axis=1)\n",
    "\n",
    "df_fuentes_fake.head(10)"
   ]
  },
  {
   "cell_type": "markdown",
   "id": "4ea1bf63-94d9-4546-b39d-3ece25307f3f",
   "metadata": {
    "pycharm": {
     "name": "#%% md\n"
    }
   },
   "source": [
    "**Fuentes con noticias verdaderas o *True News***"
   ]
  },
  {
   "cell_type": "code",
   "execution_count": 17,
   "id": "bcf071f1-290d-4b3b-9f61-417e69018d6a",
   "metadata": {
    "pycharm": {
     "name": "#%%\n"
    }
   },
   "outputs": [
    {
     "data": {
      "text/plain": "                      Fuente  Cantidad\n0             el pais - True        80\n1        el universal - True        68\n2           excelsior - True        45\n3              forbes - True        34\n4            huffpost - True        26\n5             proceso - True        25\n6       el financiero - True        22\n7             milenio - True        18\n8            bbc news - True        17\n9  aristegui noticias - True        14",
      "text/html": "<div>\n<style scoped>\n    .dataframe tbody tr th:only-of-type {\n        vertical-align: middle;\n    }\n\n    .dataframe tbody tr th {\n        vertical-align: top;\n    }\n\n    .dataframe thead th {\n        text-align: right;\n    }\n</style>\n<table border=\"1\" class=\"dataframe\">\n  <thead>\n    <tr style=\"text-align: right;\">\n      <th></th>\n      <th>Fuente</th>\n      <th>Cantidad</th>\n    </tr>\n  </thead>\n  <tbody>\n    <tr>\n      <th>0</th>\n      <td>el pais - True</td>\n      <td>80</td>\n    </tr>\n    <tr>\n      <th>1</th>\n      <td>el universal - True</td>\n      <td>68</td>\n    </tr>\n    <tr>\n      <th>2</th>\n      <td>excelsior - True</td>\n      <td>45</td>\n    </tr>\n    <tr>\n      <th>3</th>\n      <td>forbes - True</td>\n      <td>34</td>\n    </tr>\n    <tr>\n      <th>4</th>\n      <td>huffpost - True</td>\n      <td>26</td>\n    </tr>\n    <tr>\n      <th>5</th>\n      <td>proceso - True</td>\n      <td>25</td>\n    </tr>\n    <tr>\n      <th>6</th>\n      <td>el financiero - True</td>\n      <td>22</td>\n    </tr>\n    <tr>\n      <th>7</th>\n      <td>milenio - True</td>\n      <td>18</td>\n    </tr>\n    <tr>\n      <th>8</th>\n      <td>bbc news - True</td>\n      <td>17</td>\n    </tr>\n    <tr>\n      <th>9</th>\n      <td>aristegui noticias - True</td>\n      <td>14</td>\n    </tr>\n  </tbody>\n</table>\n</div>"
     },
     "execution_count": 17,
     "metadata": {},
     "output_type": "execute_result"
    }
   ],
   "source": [
    "df_fuentes_true = calcular_noticias(df_categoria_fuente, 'True')\n",
    "df_fuentes_true = pd.DataFrame(list(df_fuentes_true.items()), columns=['Fuente', 'Cantidad'])\n",
    "df_fuentes_true = df_fuentes_true.sort_values(by=['Cantidad'], ascending=False).reset_index().drop('index', axis=1)\n",
    "\n",
    "df_fuentes_true.head(10)"
   ]
  },
  {
   "cell_type": "code",
   "execution_count": 17,
   "outputs": [],
   "source": [],
   "metadata": {
    "collapsed": false,
    "pycharm": {
     "name": "#%%\n"
    }
   }
  }
 ],
 "metadata": {
  "kernelspec": {
   "name": "python3",
   "language": "python",
   "display_name": "Python 3 (ipykernel)"
  },
  "language_info": {
   "codemirror_mode": {
    "name": "ipython",
    "version": 3
   },
   "file_extension": ".py",
   "mimetype": "text/x-python",
   "name": "python",
   "nbconvert_exporter": "python",
   "pygments_lexer": "ipython3",
   "version": "3.9.10"
  },
  "toc-autonumbering": false,
  "toc-showmarkdowntxt": false
 },
 "nbformat": 4,
 "nbformat_minor": 5
}