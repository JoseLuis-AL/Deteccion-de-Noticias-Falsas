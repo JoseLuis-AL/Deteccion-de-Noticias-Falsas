{
 "cells": [
  {
   "cell_type": "markdown",
   "id": "c4cdd109-11f7-423f-9240-bdde1bacac0f",
   "metadata": {
    "tags": [],
    "pycharm": {
     "name": "#%% md\n"
    }
   },
   "source": [
    "# 3. Análisis exploratorio - Detección de noticias falsas\n",
    "\n",
    "José Luis Aguilera Luzania"
   ]
  },
  {
   "cell_type": "markdown",
   "id": "51d0b164-a700-4adf-a4f4-780f517075dc",
   "metadata": {
    "tags": [],
    "pycharm": {
     "name": "#%% md\n"
    }
   },
   "source": [
    "## Introducción\n",
    "\n",
    "**¿Qué es la detección de *Fake News*?**\n",
    "La detección de noticias falsas (Fake News) es la tarea de evaluar la veracidad de las afirmaciones en las noticias. Este es un problema crítico en el Procesamiento del Lenguaje Natural (PLN) porque tanto en medios de noticias tradicionales como en medios digitales las Fake News generan un gran impacto social y político en cada individuo. Por ejemplo, la exposición a las Fake News puede generar actitudes de ineficacia, alienación y cinismo hacia ciertos candidatos políticos (Balmas, 2014).\n",
    "\n",
    "**Objetivo de la libreta**\n",
    "El objetivo de esta libreta es conocer mejor los datos, no solo su estructura, sino su comportamiento y características que sean útiles."
   ]
  },
  {
   "cell_type": "markdown",
   "id": "2d1dcd3a-e0a0-4fcc-bc69-a6c7709eddc5",
   "metadata": {
    "pycharm": {
     "name": "#%% md\n"
    }
   },
   "source": [
    "## Librerías y datos\n",
    "\n",
    "**Librerías**\n",
    "- Manipulación de datos:\n",
    "    - `pandas`: Librería para manipular los datos de forma tabular.\n",
    "    - `matplotlib`: Librería para graficar.\n",
    "    - `cmd`: Librería para controlar el formato de impresión en la consola.\n",
    "    - `re`: Librería para utilizar expresiones regulares.\n",
    "    \n",
    "- Procesamiento del lenguaje natural:\n",
    "    - `nltk`: Librería para utilizar técnicas de procesamiento del lenguaje natural.\n",
    "    \n",
    "- Representación de los datos:\n",
    "    - `wordcloud`: Librería para generar una nube de palabras y guardarla como imagen *.png*."
   ]
  },
  {
   "cell_type": "code",
   "execution_count": 1,
   "id": "9086439b-9a97-4278-a569-6d430ddd92d4",
   "metadata": {
    "pycharm": {
     "name": "#%%\n"
    }
   },
   "outputs": [],
   "source": [
    "import pandas as pd\n",
    "import matplotlib.pyplot as plt\n",
    "import cmd\n",
    "import nltk\n",
    "\n",
    "from nltk.corpus import stopwords\n",
    "from wordcloud import WordCloud"
   ]
  },
  {
   "cell_type": "markdown",
   "id": "ded74cfe-83f3-4696-9eec-53d5765b90d9",
   "metadata": {
    "tags": [],
    "pycharm": {
     "name": "#%% md\n"
    }
   },
   "source": [
    "### Datos adicionales para la librería `nltk`\n",
    "- `punkt`: Necesario para utilizar el tokenizador de los textos.\n",
    "- `stopwords`: Palabras comunes que no añaden información, como: el, la, los, etc."
   ]
  },
  {
   "cell_type": "code",
   "execution_count": 2,
   "id": "f9769787-1786-405d-825f-57bc0c91afa9",
   "metadata": {
    "pycharm": {
     "name": "#%%\n"
    }
   },
   "outputs": [
    {
     "name": "stderr",
     "output_type": "stream",
     "text": [
      "[nltk_data] Downloading package punkt to\n",
      "[nltk_data]     C:\\Users\\JoseLuis_AL\\AppData\\Roaming\\nltk_data...\n",
      "[nltk_data]   Package punkt is already up-to-date!\n",
      "[nltk_data] Downloading package stopwords to\n",
      "[nltk_data]     C:\\Users\\JoseLuis_AL\\AppData\\Roaming\\nltk_data...\n",
      "[nltk_data]   Package stopwords is already up-to-date!\n"
     ]
    },
    {
     "data": {
      "text/plain": "True"
     },
     "execution_count": 2,
     "metadata": {},
     "output_type": "execute_result"
    }
   ],
   "source": [
    "nltk.download('punkt')\n",
    "nltk.download('stopwords')"
   ]
  },
  {
   "cell_type": "markdown",
   "id": "5b66a92f-de36-465e-8fca-d9624251e99b",
   "metadata": {
    "pycharm": {
     "name": "#%% md\n"
    }
   },
   "source": [
    "### Leer los datos\n",
    "\n",
    "Los datos procesados se encuentran en el archivo `datos.csv`."
   ]
  },
  {
   "cell_type": "code",
   "execution_count": 3,
   "id": "0ecdef95-3ace-483f-a23c-e4dc10e0158c",
   "metadata": {
    "pycharm": {
     "name": "#%%\n"
    }
   },
   "outputs": [
    {
     "data": {
      "text/plain": "   Categoria       Tema          Fuente  \\\n0      falsa  educación  el ruinaversal   \n1      falsa  educación     hay noticia   \n2      falsa  educación  el ruinaversal   \n3  verdadera  educación    el universal   \n4      falsa  educación          lamula   \n\n                                          Encabezado  \\\n0  rae incluira la palabra lady en el diccionario...   \n1               la palabra haiga aceptada por la rae   \n2  yordi rosado escribira y disenara los nuevos l...   \n3  unam capacitara a maestros para aprobar prueba...   \n4  pretenden aprobar libros escolares con conteni...   \n\n                                               Texto  \n0  rae incluira la palabra lady en el diccionario...  \n1  la palabra haiga aceptada por la rae la real a...  \n2  yordi rosado escribira y disenara los nuevos l...  \n3  unam capacitara a maestros para aprobar prueba...  \n4  alerta pretenden aprobar libros escolares con ...  ",
      "text/html": "<div>\n<style scoped>\n    .dataframe tbody tr th:only-of-type {\n        vertical-align: middle;\n    }\n\n    .dataframe tbody tr th {\n        vertical-align: top;\n    }\n\n    .dataframe thead th {\n        text-align: right;\n    }\n</style>\n<table border=\"1\" class=\"dataframe\">\n  <thead>\n    <tr style=\"text-align: right;\">\n      <th></th>\n      <th>Categoria</th>\n      <th>Tema</th>\n      <th>Fuente</th>\n      <th>Encabezado</th>\n      <th>Texto</th>\n    </tr>\n  </thead>\n  <tbody>\n    <tr>\n      <th>0</th>\n      <td>falsa</td>\n      <td>educación</td>\n      <td>el ruinaversal</td>\n      <td>rae incluira la palabra lady en el diccionario...</td>\n      <td>rae incluira la palabra lady en el diccionario...</td>\n    </tr>\n    <tr>\n      <th>1</th>\n      <td>falsa</td>\n      <td>educación</td>\n      <td>hay noticia</td>\n      <td>la palabra haiga aceptada por la rae</td>\n      <td>la palabra haiga aceptada por la rae la real a...</td>\n    </tr>\n    <tr>\n      <th>2</th>\n      <td>falsa</td>\n      <td>educación</td>\n      <td>el ruinaversal</td>\n      <td>yordi rosado escribira y disenara los nuevos l...</td>\n      <td>yordi rosado escribira y disenara los nuevos l...</td>\n    </tr>\n    <tr>\n      <th>3</th>\n      <td>verdadera</td>\n      <td>educación</td>\n      <td>el universal</td>\n      <td>unam capacitara a maestros para aprobar prueba...</td>\n      <td>unam capacitara a maestros para aprobar prueba...</td>\n    </tr>\n    <tr>\n      <th>4</th>\n      <td>falsa</td>\n      <td>educación</td>\n      <td>lamula</td>\n      <td>pretenden aprobar libros escolares con conteni...</td>\n      <td>alerta pretenden aprobar libros escolares con ...</td>\n    </tr>\n  </tbody>\n</table>\n</div>"
     },
     "execution_count": 3,
     "metadata": {},
     "output_type": "execute_result"
    }
   ],
   "source": [
    "df_datos = pd.read_csv('Datos/datos.csv')\n",
    "df_datos.head()"
   ]
  },
  {
   "cell_type": "markdown",
   "id": "49b31eb8-e73f-4c10-a2d0-3aba3a3e4dbd",
   "metadata": {
    "pycharm": {
     "name": "#%% md\n"
    }
   },
   "source": [
    "### Información de los datos"
   ]
  },
  {
   "cell_type": "code",
   "execution_count": 4,
   "outputs": [
    {
     "name": "stdout",
     "output_type": "stream",
     "text": [
      "Noticias verdaderas: 338\n",
      "Noticias falsas: 338\n",
      "Todal de Noticias: 676\n",
      "Columnas: ['Categoria', 'Tema', 'Fuente', 'Encabezado', 'Texto']\n"
     ]
    }
   ],
   "source": [
    "print('Noticias verdaderas: {}'.format(df_datos.groupby('Categoria').size()[0]))\n",
    "print('Noticias falsas: {}'    .format(df_datos.groupby('Categoria').size()[1]))\n",
    "print(f'Todal de Noticias: {df_datos.shape[0]}')\n",
    "print(f'Columnas: {list(df_datos.columns)}')"
   ],
   "metadata": {
    "collapsed": false,
    "pycharm": {
     "name": "#%%\n"
    }
   }
  },
  {
   "cell_type": "markdown",
   "id": "18aef274-cb67-46f4-90a4-10d2adf69a47",
   "metadata": {
    "pycharm": {
     "name": "#%% md\n"
    }
   },
   "source": [
    "## Análisis exploratorio\n",
    "\n",
    "### Noticias según los temas\n",
    "\n",
    "El *corpus* cuenta con 9 temas, para observar como se encuentran distribuidas las noticias según el tema es necesario hacer lo siguiente:\n",
    "\n",
    "1. Contar todas las noticias y separarlas en un nuevo `DataFrame`.\n",
    "2. Guardar el nuevo `DataFrame` en un archivo `.csv`.\n",
    "3. Graficar el nuevo `DataFrame` utilizando un diagrama de barras."
   ]
  },
  {
   "cell_type": "code",
   "execution_count": 5,
   "id": "3cce4b53-5f34-43f8-a43c-1f796bc638e5",
   "metadata": {
    "pycharm": {
     "name": "#%%\n"
    }
   },
   "outputs": [
    {
     "data": {
      "text/plain": "<Figure size 720x432 with 1 Axes>",
      "image/png": "[encoded data removed]"
     },
     "metadata": {
      "needs_background": "light"
     },
     "output_type": "display_data"
    }
   ],
   "source": [
    "# Paso 1.\n",
    "df_datos_temas = pd.DataFrame.from_dict(\n",
    "    dict(df_datos.groupby('Tema').size()),\n",
    "    orient='index',\n",
    "    columns=['Noticias'])\n",
    "\n",
    "# Paso 2.\n",
    "df_datos_temas.to_csv('Tablas-CSV/Datos-Tabla-Noticias-Temas.csv')\n",
    "\n",
    "# Paso 3.\n",
    "color = '#0095e9'\n",
    "\n",
    "temas_plot = df_datos_temas.plot(kind='bar', figsize=(10, 6), fontsize=13, color=[color])\n",
    "temas_plot.set_title('Noticias - Tema', fontsize=23)\n",
    "temas_plot.set_xlabel('Temas', fontsize=20)\n",
    "temas_plot.set_ylabel('Noticias', fontsize=20)\n",
    "\n",
    "temas_plot.figure.savefig('Plots/Figura-Datos-Noticias-Temas.png')"
   ]
  },
  {
   "cell_type": "markdown",
   "id": "20e05bc6-d951-4e71-8184-d956fee1a3e6",
   "metadata": {
    "pycharm": {
     "name": "#%% md\n"
    }
   },
   "source": [
    "### ¿Cuáles son las fuentes?\n",
    "\n",
    "Para conocer el número de fuentes e imprimir cada una de ellas es necesario hacer los siguiente:\n",
    "\n",
    "1. Crear una lista con todas las fuentes.\n",
    "2. Eliminar todas las fuentes repetidas.\n",
    "3. Imprimir todas las fuentes.\n",
    "4. Imprimir el número de fuentes."
   ]
  },
  {
   "cell_type": "code",
   "execution_count": 6,
   "id": "21b100f6-9eef-49e2-af5a-59684343709a",
   "metadata": {
    "pycharm": {
     "name": "#%%\n"
    }
   },
   "outputs": [
    {
     "name": "stdout",
     "output_type": "stream",
     "text": [
      "20 minutos                 dos mundos                 exclusivas puebla        la vanguardia        radio formula          \n",
      "abc                        eco portal                 expansion                la voz popular       razon                  \n",
      "abc noticias               eje central                facebook el senor lopez  lamula               record                 \n",
      "abc sociedad               el clarin                  facebook unico noticias  lo que calla la tv   resumen latinoamericano\n",
      "alerta digital             el coleccionista de datos  fisgon politico          los replicantes      retroceso              \n",
      "animal politico            el dizque                  forbes                   marca                rey misterios          \n",
      "anonymous azteca           el economista              frentes politicos        medio tiempo         sabor a merengue       \n",
      "argumento politico         el espectador              hay noticia              merca2 0             sdp noticias           \n",
      "aristegui noticias         el financiero              heraldo                  milenio              su medico              \n",
      "azteca deporte             el grafico                 heraldo de mexico        modo noticia         telemundo              \n",
      "bbc                        el heraldo                 hipertextual             modonoticia          the new york times     \n",
      "bbc news                   el librero de gutenberg    hispantv                 mvs noticias         tiempo                 \n",
      "caracol radio              el manana                  hola                     nacion unida         tiempo digital         \n",
      "caras                      el milenio                 hola mexico              nacion321            todo informe           \n",
      "carlosagaton blogspot com  el mundo                   huffpost                 nippon               tribuna noticias       \n",
      "censura 0                  el mundo today             inciclopedia             noticieros televisa  tv notas               \n",
      "clarin                     el nuevo dia               jornada                  opinion              twitter                \n",
      "cnn en espanol             el pais                    konbini                  pan tweet            twitter calderon       \n",
      "cnn espanol                el ruinaversal             la jornada               parabolica           twitter rafael ramirez \n",
      "cnnespanol                 el sol de mexico           la nacion                people en espanol    twitter ricardo aleman \n",
      "denuncias mx               el universal               la neta virtual          playgroundmag        twitter simmsa         \n",
      "denunciasmx com            enpareja com               la opinion               proceso              universo deportivo     \n",
      "diario de ibiza            es diario                  la otra opinion          publimetro           uno cero               \n",
      "diario del huila           excelsior                  la parada digital        quien              \n",
      "\n",
      "Número de fuentes: 119\n"
     ]
    }
   ],
   "source": [
    "#  Paso 1.\n",
    "fuentes_ls = df_datos['Fuente'].to_list()\n",
    "\n",
    "# Paso 2.\n",
    "fuentes_ls = list(sorted(set(fuentes_ls)))\n",
    "\n",
    "# Paso 3.\n",
    "cli = cmd.Cmd()\n",
    "cli.columnize(fuentes_ls, displaywidth=130)\n",
    "\n",
    "# Paso 4.\n",
    "print(f'\\nNúmero de fuentes: {len(fuentes_ls)}')"
   ]
  },
  {
   "cell_type": "markdown",
   "id": "70d52720-fdcf-44eb-adcc-5038ad8ab774",
   "metadata": {
    "pycharm": {
     "name": "#%% md\n"
    }
   },
   "source": [
    "### Tipos de noticias según los temas.\n",
    "\n",
    "Para obtener la cantidad de las noticias falsas y verdaderas se deben seguir los siguientes pasos:\n",
    "\n",
    "1. Separar las noticias con categoría verdadera.\n",
    "2. Generar un diccionario de las noticias agrupadas por tema.\n",
    "3. Generar un `DataFrame` a partir del diccionario.\n",
    "4. Repetir los tres pasos anteriores para la categoría de noticias falsas.\n",
    "5. Unir los dos `DataFrame` resultantes.\n",
    "6. Graficar el `DataFrame` resultado.\n"
   ]
  },
  {
   "cell_type": "code",
   "execution_count": 7,
   "id": "86ce7320-37bb-4c17-b1b6-3ddee7c874f7",
   "metadata": {
    "pycharm": {
     "name": "#%%\n"
    }
   },
   "outputs": [
    {
     "data": {
      "text/plain": "Text(0, 0.5, 'Noticias')"
     },
     "execution_count": 7,
     "metadata": {},
     "output_type": "execute_result"
    },
    {
     "data": {
      "text/plain": "<Figure size 720x432 with 1 Axes>",
      "image/png": "[encoded data removed]"
     },
     "metadata": {
      "needs_background": "light"
     },
     "output_type": "display_data"
    }
   ],
   "source": [
    "# CATEGORÍA: VERDADERAS.\n",
    "# Paso 1.\n",
    "df_verdaderas = df_datos[df_datos['Categoria'] == 'verdadera']\n",
    "\n",
    "# Paso 2 y 3.\n",
    "df_verdaderas = pd.DataFrame.from_dict(\n",
    "    dict(\n",
    "        df_verdaderas.groupby('Tema').size()),\n",
    "        orient='index',\n",
    "        columns=['Noticias Verdaderas'])\n",
    "\n",
    "# CATEGORÍA: FALSAS.\n",
    "# Paso 1.\n",
    "df_falsas = df_datos[df_datos['Categoria'] == 'falsa']\n",
    "\n",
    "# Paso 2 y 3.\n",
    "df_falsas = pd.DataFrame.from_dict(\n",
    "    dict(\n",
    "        df_falsas.groupby('Tema').size()),\n",
    "        orient='index',\n",
    "        columns=['Noticias Falsas'])\n",
    "\n",
    "# Paso 5.\n",
    "df_total_noticias = pd.concat([df_verdaderas, df_falsas], axis=1)\n",
    "\n",
    "# Paso 6.\n",
    "color_verdaderas = '#0095e9'\n",
    "color_falsas = '#3a4466'\n",
    "\n",
    "total_noticias_plot = df_total_noticias.plot(kind='bar', figsize=(10, 6), fontsize=13, color=[color_verdaderas, color_falsas])\n",
    "total_noticias_plot.set_title('Noticias Falsas / Verdaderas (Entrenamiento)', fontsize=23)\n",
    "total_noticias_plot.set_xlabel('Temas', fontsize=20)\n",
    "total_noticias_plot.set_ylabel('Noticias', fontsize=20)"
   ]
  },
  {
   "cell_type": "markdown",
   "source": [
    "## El sesgo de los datos.\n",
    "\n",
    "Como se observa en la gráfica anterior, la cantidad de noticias sobre política es mayor a la cantidad de los otros temas, esto implica que nuestros modelos serán mejor clasificando noticias sobre política que de cualquier otro tema."
   ],
   "metadata": {
    "collapsed": false,
    "pycharm": {
     "name": "#%% md\n"
    }
   }
  },
  {
   "cell_type": "markdown",
   "id": "c7abf890-f5b6-4888-acc6-730e7e820758",
   "metadata": {
    "pycharm": {
     "name": "#%% md\n"
    }
   },
   "source": [
    "## Word Cloud\n",
    "\n",
    "*Word Cloud* es una representación visual de las palabras que forman un texto, donde el tamaño es mayor para las palabras que aparecen con más frecuencia.\n",
    "\n",
    "### Stopwords en español\n",
    "\n",
    "Las *stopwords* o palabras vacías son aquellas que carecen de sentido de manera individual o sin una palabra clave o *keyword*. Algunos ejemplos son: el, la, ellos, ustedes, para, ser, etc.\n",
    "\n",
    "Se utilizan las *stopwords* proporcionadas por la librería `nltk` en conjunto con las obtenidas del repositorio \"stopwords-es\" del usuario [genediazjr](https://github.com/stopwords-iso/stopwords-es)"
   ]
  },
  {
   "cell_type": "code",
   "execution_count": 8,
   "id": "831e5cfd-38a4-4200-884a-23974d24b690",
   "metadata": {
    "pycharm": {
     "name": "#%%\n"
    }
   },
   "outputs": [],
   "source": [
    "# Obtener las stopwords.\n",
    "stopwords_spanish_nltk = stopwords.words('spanish')\n",
    "stopwords_spanish_json = list(pd.read_json('stopwords-es.json')[0])\n",
    "\n",
    "# Se concatenan las stopwords, se crea un set para eliminar repetidos y sé genera una lista.\n",
    "stopwords_spanish = list(set(stopwords_spanish_nltk+stopwords_spanish_json))\n",
    "\n",
    "# Se agrega la stopword 'NUMBER', debido a que no aporta nada a los datos para el análisis.\n",
    "stopwords_spanish.append('number')"
   ]
  },
  {
   "cell_type": "markdown",
   "id": "2811959a-69a0-4b51-8b41-a5b5cbaf3a75",
   "metadata": {
    "pycharm": {
     "name": "#%% md\n"
    }
   },
   "source": [
    "### Función para generar *Word Cloud*"
   ]
  },
  {
   "cell_type": "code",
   "execution_count": 9,
   "id": "5680460b-e75a-4f0c-88ca-ca12b21a2f08",
   "metadata": {
    "pycharm": {
     "name": "#%%\n"
    }
   },
   "outputs": [],
   "source": [
    "def generar_word_cloud(datos, nombre_archivo, stopwords_ls=None, categoria='todas', tema='todas'):\n",
    "    \"\"\"\n",
    "    Input:\n",
    "        datos: DataFrame que contiene las noticias.\n",
    "        categoria: Categoría a utilizar para los datos (True o Fake).\n",
    "        tema: Tema de las noticias.\n",
    "        nombre_archivo: nombre del archivo donde se guardará la nube de palabras.\n",
    "    \"\"\"\n",
    "    \n",
    "    # Guardamos las noticias según la categoría.\n",
    "    df = datos if categoria == 'todas' else datos[datos['Categoria'] == categoria]\n",
    "\n",
    "    # Guardamos las noticias según el tema.\n",
    "    if tema != 'todas': df = df[df['Tema'] == tema]\n",
    "\n",
    "    # Removemos las columnas que no son necesarias.\n",
    "    df = df[['Texto']]\n",
    "    \n",
    "    # Imprimiremos la información de los datos utilizados.\n",
    "    print(f'NOTICIAS [{tema.upper()}] {categoria.upper()}S: {df.shape[0]}')\n",
    "\n",
    "    # Generamos una lista con todos los textos.\n",
    "    news_ls = [w for w in df['Texto']]\n",
    "\n",
    "    # Generamos un objeto str con la lista de textos (concatenamos los textos).\n",
    "    news_str = ' '.join(news_ls)\n",
    "    \n",
    "    # Crear un tokenizer que separe solo las palabras.\n",
    "    tokenizer = nltk.RegexpTokenizer(r'\\w+')\n",
    "\n",
    "    # Tokenizar las palabras.\n",
    "    words = tokenizer.tokenize(news_str)\n",
    "\n",
    "    # Eliminar las stopwords.\n",
    "    if stopwords_ls is None:\n",
    "        stopwords_ls = []\n",
    "\n",
    "    words_content = [w for w in words if w.lower() not in stopwords_ls]\n",
    "\n",
    "    # Obtener la frequencia de las palabras de contenido sin las stopwords.\n",
    "    words_content_freq = nltk.FreqDist(words_content)\n",
    "    words_content_freq_dict = dict(words_content_freq)\n",
    "\n",
    "    # Crear el word cloud.\n",
    "    word_cloud = WordCloud(collocations = False, background_color = 'white', width=1000, height=1000).fit_words(words_content_freq_dict)\n",
    "\n",
    "    # Guardarlo en un archivo.\n",
    "    word_cloud.to_file(nombre_archivo);\n",
    "    \n",
    "    return None"
   ]
  },
  {
   "cell_type": "markdown",
   "id": "613a076f-96ff-4706-96d6-f28ec5c15d97",
   "metadata": {
    "tags": [],
    "pycharm": {
     "name": "#%% md\n"
    }
   },
   "source": [
    "### Generar *Word Cloud* para análisis del texto.\n",
    "\n",
    "Se generan las *Word CLoud* para las siguientes noticias.\n",
    "\n",
    "- Todas las noticias verdaderas de cualquier tema.\n",
    "- Todas las noticias falsas de cualquier tema.\n",
    "\n",
    "- Todas las noticias verdaderas del tema de entretenimiento.\n",
    "- Todas las noticias falsas del tema de entretenimiento.\n",
    "\n",
    "- Todas las noticias verdaderas del tema de salud.\n",
    "- Todas las noticias falsas del tema de salud."
   ]
  },
  {
   "cell_type": "code",
   "execution_count": 10,
   "id": "495a1afe-b304-48c4-9df5-40bfbc73ebdf",
   "metadata": {
    "pycharm": {
     "name": "#%%\n"
    }
   },
   "outputs": [
    {
     "name": "stdout",
     "output_type": "stream",
     "text": [
      "NOTICIAS [TODAS] VERDADERAS: 338\n",
      "NOTICIAS [TODAS] FALSAS: 338\n",
      "NOTICIAS [ENTRETENIMIENTO] VERDADERAS: 48\n",
      "NOTICIAS [ENTRETENIMIENTO] FALSAS: 55\n",
      "NOTICIAS [SALUD] VERDADERAS: 16\n",
      "NOTICIAS [SALUD] FALSAS: 16\n"
     ]
    }
   ],
   "source": [
    "# Word Cloud de todas las noticias.\n",
    "generar_word_cloud(df_datos, 'Word-Cloud/Word_Cloud_True_News.png', stopwords_spanish, 'verdadera', 'todas',)\n",
    "generar_word_cloud(df_datos, 'Word-Cloud/Word_Cloud_Fake_News.png', stopwords_spanish, 'falsa', 'todas',)\n",
    "\n",
    "# Word Cloud de las noticias de entretenimiento.\n",
    "generar_word_cloud(df_datos, 'Word-Cloud/Word_Cloud_Entertainment_True_News.png', stopwords_spanish, 'verdadera', 'entretenimiento',)\n",
    "generar_word_cloud(df_datos, 'Word-Cloud/Word_Cloud_Entertainment_Fake_News.png', stopwords_spanish, 'falsa', 'entretenimiento',)\n",
    "\n",
    "# Word Cloud de las noticias de salud.\n",
    "generar_word_cloud(df_datos, 'Word-Cloud/Word_Cloud_Health_True_News.png', stopwords_spanish, 'verdadera', 'salud',)\n",
    "generar_word_cloud(df_datos, 'Word-Cloud/Word_Cloud_Health_Fake_News.png', stopwords_spanish, 'falsa', 'salud',)"
   ]
  },
  {
   "cell_type": "markdown",
   "source": [
    "<h3>Word Cloud de todas las noticias verdaderas</h3>\n",
    "<img src=\"Word-Cloud/Word_Cloud_True_News.png\" width=\"400\" height=\"400\">\n",
    "\n",
    "<h3>Word Cloud de todas las noticias falsas</h3>\n",
    "<img src=\"Word-Cloud/Word_Cloud_Fake_News.png\" width=\"400\" height=\"400\">\n",
    "\n",
    "<h3>Word Cloud de todas las noticias verdaderas sobre entretenimiento</h3>\n",
    "<img src=\"Word-Cloud/Word_Cloud_Entertainment_True_News.png\" width=\"400\" height=\"400\">\n",
    "\n",
    "<h3>Word Cloud de todas las noticias falsas sobre entretenimiento</h3>\n",
    "<img src=\"Word-Cloud/Word_Cloud_Entertainment_Fake_News.png\" width=\"400\" height=\"400\">\n",
    "\n",
    "<h3>Word Cloud de todas las noticias verdaderas sobre salud</h3>\n",
    "<img src=\"Word-Cloud/Word_Cloud_Health_True_News.png\" width=\"400\" height=\"400\">\n",
    "\n",
    "<h3>Word Cloud de todas las noticias falsas sobre salud</h3>\n",
    "<img src=\"Word-Cloud/Word_Cloud_Health_Fake_News.png\" width=\"400\" height=\"400\">"
   ],
   "metadata": {
    "collapsed": false,
    "pycharm": {
     "name": "#%% md\n"
    }
   }
  }
 ],
 "metadata": {
  "kernelspec": {
   "name": "python3",
   "language": "python",
   "display_name": "Python 3 (ipykernel)"
  },
  "language_info": {
   "codemirror_mode": {
    "name": "ipython",
    "version": 3
   },
   "file_extension": ".py",
   "mimetype": "text/x-python",
   "name": "python",
   "nbconvert_exporter": "python",
   "pygments_lexer": "ipython3",
   "version": "3.9.10"
  },
  "toc-autonumbering": false,
  "toc-showmarkdowntxt": false
 },
 "nbformat": 4,
 "nbformat_minor": 5
}