{
 "cells": [
  {
   "cell_type": "markdown",
   "id": "c4cdd109-11f7-423f-9240-bdde1bacac0f",
   "metadata": {
    "tags": [],
    "pycharm": {
     "name": "#%% md\n"
    }
   },
   "source": [
    "# 3. Análisis exploratorio - Detección de *Fake News*\n",
    "\n",
    "José Luis Aguilera Luzania"
   ]
  },
  {
   "cell_type": "markdown",
   "id": "51d0b164-a700-4adf-a4f4-780f517075dc",
   "metadata": {
    "tags": [],
    "pycharm": {
     "name": "#%% md\n"
    }
   },
   "source": [
    "## Introducción\n",
    "\n",
    "### ¿Qué es la detección de *Fake News*?\n",
    "- Es la tarea de evaluar la veracidad de las afirmaciones en las noticias.\n",
    "- Es un problema crítico en Procesamiento del Lenguaje Natural porque tanto en medios de noticias tradicionales como en medios digitales las Fake News generan un gran impacto social y político en cada individuo.\n",
    "- La exposición a las Fake News puede generar actitudes de ineficacia, alienación y cinismo hacia ciertos candidatos políticos (Balmas, 2014).\n",
    "\n",
    "### Objetivo de la libreta\n",
    "El objetivo de esta libreta es conocer mejor los datos, no solo su estructura, sino su comportamiento y caracteristicas que sean útiles."
   ]
  },
  {
   "cell_type": "markdown",
   "id": "2d1dcd3a-e0a0-4fcc-bc69-a6c7709eddc5",
   "metadata": {
    "pycharm": {
     "name": "#%% md\n"
    }
   },
   "source": [
    "## Análisis de los datos\n",
    "\n",
    "### Librerías\n",
    "\n",
    "- Manipulación de datos:\n",
    "    - `pandas`: Librería para manipular los datos de forma tabular.\n",
    "    - `matplotlib`: Librería para graficar.\n",
    "    - `cmd`: Librería para controlar el formato de impresión en la consola.\n",
    "    - `unicode`: Librería para eliminar acentos de las palabras.\n",
    "    - `re`: Librería para utilizar expresiones regulares.\n",
    "    \n",
    "- Procesamiento del lenguaje natural:\n",
    "    - `nltk`: Librería para utilizar técnicas de procesameinto del lenguaje natural.\n",
    "    \n",
    "- Representación de los datos:\n",
    "    - `wordcloud`: Librería para generar una nube de palabras y guardarla como imagen *.png*."
   ]
  },
  {
   "cell_type": "code",
   "execution_count": 2,
   "id": "9086439b-9a97-4278-a569-6d430ddd92d4",
   "metadata": {
    "pycharm": {
     "name": "#%%\n"
    }
   },
   "outputs": [],
   "source": [
    "import pandas as pd\n",
    "import matplotlib.pyplot as plt\n",
    "import cmd\n",
    "import unidecode\n",
    "import re\n",
    "import nltk\n",
    "\n",
    "from nltk import regexp_tokenize\n",
    "from nltk.corpus import stopwords\n",
    "from wordcloud import WordCloud"
   ]
  },
  {
   "cell_type": "markdown",
   "id": "ded74cfe-83f3-4696-9eec-53d5765b90d9",
   "metadata": {
    "tags": [],
    "pycharm": {
     "name": "#%% md\n"
    }
   },
   "source": [
    "### Datos adicionales para la librería `nltk`\n",
    "- `punkt`: Necesario para utilizar el tokenizador de los textos.\n",
    "- `stopwords`: Palabras comunes que no añaden información, como: el, la, los, etc."
   ]
  },
  {
   "cell_type": "code",
   "execution_count": 3,
   "id": "f9769787-1786-405d-825f-57bc0c91afa9",
   "metadata": {
    "pycharm": {
     "name": "#%%\n"
    }
   },
   "outputs": [
    {
     "name": "stderr",
     "output_type": "stream",
     "text": [
      "[nltk_data] Downloading package punkt to\n",
      "[nltk_data]     C:\\Users\\JoseLuis_AL\\AppData\\Roaming\\nltk_data...\n",
      "[nltk_data]   Package punkt is already up-to-date!\n",
      "[nltk_data] Downloading package stopwords to\n",
      "[nltk_data]     C:\\Users\\JoseLuis_AL\\AppData\\Roaming\\nltk_data...\n",
      "[nltk_data]   Package stopwords is already up-to-date!\n"
     ]
    },
    {
     "data": {
      "text/plain": "True"
     },
     "execution_count": 3,
     "metadata": {},
     "output_type": "execute_result"
    }
   ],
   "source": [
    "# Descargar los datos necesarios.\n",
    "nltk.download('punkt')\n",
    "nltk.download('stopwords')"
   ]
  },
  {
   "cell_type": "markdown",
   "id": "5b66a92f-de36-465e-8fca-d9624251e99b",
   "metadata": {
    "pycharm": {
     "name": "#%% md\n"
    }
   },
   "source": [
    "### Leer los datos\n",
    "\n",
    "Los datos estan divididos en los archivos `train.xlsx` y `development.xlsx`, con 80% para entrenamiento y 20% para pruebas respectivamente.\n",
    "\n",
    "Para cargar los conjuntos de datos se utilizará la librería `pandas` y su estructura `DataFrame`."
   ]
  },
  {
   "cell_type": "code",
   "execution_count": 4,
   "id": "0ecdef95-3ace-483f-a23c-e4dc10e0158c",
   "metadata": {
    "pycharm": {
     "name": "#%%\n"
    }
   },
   "outputs": [],
   "source": [
    "df_entrenamiento = pd.read_csv('Datos/datos_entrenamiento.csv')\n",
    "df_pruebas = pd.read_csv('Datos/datos_pruebas.csv')"
   ]
  },
  {
   "cell_type": "markdown",
   "id": "54b2bcd7-f0ec-42ea-b9a3-088868943fe2",
   "metadata": {
    "pycharm": {
     "name": "#%% md\n"
    }
   },
   "source": [
    "**Datos**\n",
    "Con el fin de análizar mejor los datos, se unirán los dos conjuntos de datos en un solo ``DataFrame``."
   ]
  },
  {
   "cell_type": "code",
   "execution_count": 5,
   "id": "de1028d8-2886-453f-87c9-6d58c6cb45ba",
   "metadata": {
    "pycharm": {
     "name": "#%%\n"
    }
   },
   "outputs": [
    {
     "data": {
      "text/plain": "  Categoria       Tema          Fuente  \\\n0      fake  education  el ruinaversal   \n1      fake  education     hay noticia   \n2      fake  education  el ruinaversal   \n3      true  education    el universal   \n4      fake  education          lamula   \n\n                                          Encabezado  \\\n0  rae incluira la palabra lady en el diccionario...   \n1               la palabra haiga aceptada por la rae   \n2  yordi rosado escribira y disenara los nuevos l...   \n3  unam capacitara a maestros para aprobar prueba...   \n4  pretenden aprobar libros escolares con conteni...   \n\n                                               Texto  \n0  rae incluira la palabra lady en el diccionario...  \n1  la palabra haiga aceptada por la rae la real a...  \n2  yordi rosado escribira y disenara los nuevos l...  \n3  unam capacitara a maestros para aprobar prueba...  \n4  alerta pretenden aprobar libros escolares con ...  ",
      "text/html": "<div>\n<style scoped>\n    .dataframe tbody tr th:only-of-type {\n        vertical-align: middle;\n    }\n\n    .dataframe tbody tr th {\n        vertical-align: top;\n    }\n\n    .dataframe thead th {\n        text-align: right;\n    }\n</style>\n<table border=\"1\" class=\"dataframe\">\n  <thead>\n    <tr style=\"text-align: right;\">\n      <th></th>\n      <th>Categoria</th>\n      <th>Tema</th>\n      <th>Fuente</th>\n      <th>Encabezado</th>\n      <th>Texto</th>\n    </tr>\n  </thead>\n  <tbody>\n    <tr>\n      <th>0</th>\n      <td>fake</td>\n      <td>education</td>\n      <td>el ruinaversal</td>\n      <td>rae incluira la palabra lady en el diccionario...</td>\n      <td>rae incluira la palabra lady en el diccionario...</td>\n    </tr>\n    <tr>\n      <th>1</th>\n      <td>fake</td>\n      <td>education</td>\n      <td>hay noticia</td>\n      <td>la palabra haiga aceptada por la rae</td>\n      <td>la palabra haiga aceptada por la rae la real a...</td>\n    </tr>\n    <tr>\n      <th>2</th>\n      <td>fake</td>\n      <td>education</td>\n      <td>el ruinaversal</td>\n      <td>yordi rosado escribira y disenara los nuevos l...</td>\n      <td>yordi rosado escribira y disenara los nuevos l...</td>\n    </tr>\n    <tr>\n      <th>3</th>\n      <td>true</td>\n      <td>education</td>\n      <td>el universal</td>\n      <td>unam capacitara a maestros para aprobar prueba...</td>\n      <td>unam capacitara a maestros para aprobar prueba...</td>\n    </tr>\n    <tr>\n      <th>4</th>\n      <td>fake</td>\n      <td>education</td>\n      <td>lamula</td>\n      <td>pretenden aprobar libros escolares con conteni...</td>\n      <td>alerta pretenden aprobar libros escolares con ...</td>\n    </tr>\n  </tbody>\n</table>\n</div>"
     },
     "execution_count": 5,
     "metadata": {},
     "output_type": "execute_result"
    }
   ],
   "source": [
    "df_datos = pd.concat([df_entrenamiento, df_pruebas])\n",
    "df_datos.head()"
   ]
  },
  {
   "cell_type": "markdown",
   "id": "49b31eb8-e73f-4c10-a2d0-3aba3a3e4dbd",
   "metadata": {
    "pycharm": {
     "name": "#%% md\n"
    }
   },
   "source": [
    "### Conjunto de entrenamiento"
   ]
  },
  {
   "cell_type": "code",
   "execution_count": 6,
   "id": "a01c3fbe-3f19-4a14-9dbe-e475afd08305",
   "metadata": {
    "pycharm": {
     "name": "#%%\n"
    }
   },
   "outputs": [
    {
     "name": "stdout",
     "output_type": "stream",
     "text": [
      "Noticias, Columnas: (676, 5)\n",
      "Columnas: ['Categoria', 'Tema', 'Fuente', 'Encabezado', 'Texto']\n",
      "Noticias verdaderas: 338\n",
      "Noticias falsas: 338\n"
     ]
    }
   ],
   "source": [
    "print(f'Noticias, Columnas: {df_entrenamiento.shape}')\n",
    "print(f'Columnas: {list(df_entrenamiento.columns)}')\n",
    "print('Noticias verdaderas: {}'.format(df_entrenamiento.groupby('Categoria').size()[0]))\n",
    "print('Noticias falsas: {}'    .format(df_entrenamiento.groupby('Categoria').size()[1]))"
   ]
  },
  {
   "cell_type": "markdown",
   "id": "6ba5b58d-9463-4c23-ad2d-4f7833d8ea49",
   "metadata": {
    "pycharm": {
     "name": "#%% md\n"
    }
   },
   "source": [
    "### Conjunto de pruebas"
   ]
  },
  {
   "cell_type": "code",
   "execution_count": 7,
   "id": "41a005c9-cae8-422e-a840-17f5f3be440e",
   "metadata": {
    "pycharm": {
     "name": "#%%\n"
    }
   },
   "outputs": [
    {
     "name": "stdout",
     "output_type": "stream",
     "text": [
      "Noticias, Columnas: (295, 5)\n",
      "Columnas: ['Categoria', 'Tema', 'Fuente', 'Encabezado', 'Texto']\n",
      "Noticias verdaderas: 142\n",
      "Noticias falsas: 153\n"
     ]
    }
   ],
   "source": [
    "print(f'Noticias, Columnas: {df_pruebas.shape}')\n",
    "print(f'Columnas: {list(df_pruebas.columns)}')\n",
    "print('Noticias verdaderas: {}'.format(df_pruebas.groupby('Categoria').size()[0]))\n",
    "print('Noticias falsas: {}'    .format(df_pruebas.groupby('Categoria').size()[1]))"
   ]
  },
  {
   "cell_type": "markdown",
   "id": "18aef274-cb67-46f4-90a4-10d2adf69a47",
   "metadata": {
    "pycharm": {
     "name": "#%% md\n"
    }
   },
   "source": [
    "### Noticias según los temas\n",
    "\n",
    "El *corpus* cuenta con 9 temas, para observar como se encuentran distribuidas las noticias según el tema es necesario hacer lo siguiente:\n",
    "\n",
    "1. Contar todas las noticias en el `DataFrame` de entrenamiento y separarlas en un nuevo `DataFrame`.\n",
    "2. Contar todas las noticias en el `DataFrame` de pruebas y separarlas en un nuevo `DataFrame`.\n",
    "3. Combinar los `DataFrame` en uno nuevo donde el *index* serán los temas y las columnas los respectivos conteos según el tema.\n",
    "4. Gráficar el nuevo `DataFrame` con un diagrama de barras."
   ]
  },
  {
   "cell_type": "code",
   "execution_count": 8,
   "id": "3cce4b53-5f34-43f8-a43c-1f796bc638e5",
   "metadata": {
    "pycharm": {
     "name": "#%%\n"
    }
   },
   "outputs": [
    {
     "data": {
      "text/plain": "<Figure size 720x432 with 1 Axes>",
      "image/png": "[encoded data removed]"
     },
     "metadata": {
      "needs_background": "light"
     },
     "output_type": "display_data"
    }
   ],
   "source": [
    "# 1. Contar y separar las noticias de entrenamiento según el tema en un nuevo DataFrame.\n",
    "df_temas_entrenamiento = pd.DataFrame.from_dict(\n",
    "    dict(df_entrenamiento.groupby('Tema').size()), \n",
    "    orient='index', \n",
    "    columns=['Entrenamiento'])\n",
    "\n",
    "# 2. Contar y separar las noticias de pruebas según el tema en un nuevo DataFrame.\n",
    "df_temas_pruebas = pd.DataFrame.from_dict(\n",
    "    dict(df_pruebas.groupby('Tema').size()), \n",
    "    orient='index', \n",
    "    columns=['Pruebas'])\n",
    "\n",
    "# 3. Obtener un `DataFrame` con el número de noticias según los temas.\n",
    "df_temas = pd.concat([df_temas_entrenamiento, df_temas_pruebas], axis=1)\n",
    "df_temas.to_csv('Tablas-CSV/Tabla-Noticias-Temas.csv')\n",
    "\n",
    "# 4. Gráfica de la distribución de las noticias según el tema.\n",
    "color_entrenamiento = '#0095e9'\n",
    "color_pruebas = '#feae34'\n",
    "\n",
    "temas_plot = df_temas.plot(kind='bar', figsize=(10, 6), fontsize=13, color=[color_entrenamiento, color_pruebas])\n",
    "temas_plot.set_title('Noticias - Tema', fontsize=23)\n",
    "temas_plot.set_xlabel('Temas', fontsize=20)\n",
    "temas_plot.set_ylabel('Noticias', fontsize=20)\n",
    "\n",
    "temas_plot.figure.savefig('Plots/Figura-Noticias-Temas.png')"
   ]
  },
  {
   "cell_type": "markdown",
   "id": "20e05bc6-d951-4e71-8184-d956fee1a3e6",
   "metadata": {
    "pycharm": {
     "name": "#%% md\n"
    }
   },
   "source": [
    "### ¿Cuáles son las fuentes?\n",
    "\n",
    "Para conocer el número de fuentes e imprimir cada una de ellas es necesario hacer los iguiente:\n",
    "\n",
    "1. Crear una lista con todas las fuentes.\n",
    "2. Eliminar todas las fuentes repetidas.\n",
    "3. Imprimir todas las fuentes.\n",
    "4. Imprimir el número de fuentes."
   ]
  },
  {
   "cell_type": "code",
   "execution_count": 9,
   "id": "21b100f6-9eef-49e2-af5a-59684343709a",
   "metadata": {
    "pycharm": {
     "name": "#%%\n"
    }
   },
   "outputs": [
    {
     "name": "stdout",
     "output_type": "stream",
     "text": [
      "20 minutos                 dos mundos                 facebook el senor lopez  la verdad es           razon                  \n",
      "abc                        eco portal                 facebook unico noticias  la voz popular         record                 \n",
      "abc el recreo              eje central                fifa                     lamula                 resumen latinoamericano\n",
      "abc noticias               el buen tono               fisgon politico          lo que calla la tv     retroceso              \n",
      "abc sociedad               el clarin                  forbes                   los replicantes        rey misterios          \n",
      "actualidad rt              el coleccionista de datos  frentes politicos        marca                  sabor a merengue       \n",
      "alerta digital             el dizque                  grandes medios           medio tiempo           sdp noticias           \n",
      "animal politico            el economista              grupo formula            mediterraneo digital   sdpnoticias            \n",
      "anonymous azteca           el espectador              hay noticia              merca2 0               sin embargo            \n",
      "argumento politico         el financiero              heraldo                  milenio                su medico              \n",
      "aristegui noticias         el grafico                 heraldo de mexico        modo noticia           telemundo              \n",
      "azteca deporte             el heraldo                 hipertextual             modonoticia            televisa deporte       \n",
      "bbc                        el librero de gutenberg    hispantv                 muy interesante        texto noticias         \n",
      "bbc news                   el manana                  hola                     mvs noticias           the new york times     \n",
      "billboard                  el manana global           hola mexico              nacion unida           tiempo                 \n",
      "caracol radio              el milenio                 http www2 esmas com      nacion321              tiempo digital         \n",
      "caras                      el mundo                   huffpost                 news week espanol      todo informe           \n",
      "carlosagaton blogspot com  el mundo today             inciclopedia             newsner                tribuna noticias       \n",
      "censura 0                  el nuevo dia               info bae                 nippon                 tv notas               \n",
      "clarin                     el pais                    jornada                  noticieros televisa    twitter                \n",
      "cnn en espanol             el ruinaversal             konbini                  novedades quitana roo  twitter calderon       \n",
      "cnn espanol                el sol de mexico           la jornada               opinion                twitter rafael ramirez \n",
      "cnnespanol                 el universal               la nacion                pan tweet              twitter ricardo aleman \n",
      "criterio universal         elle                       la neta virtual          parabolica             twitter simmsa         \n",
      "cuba debate                enpareja com               la opinion               people en espanol      universo deportivo     \n",
      "denuncias mx               es diario                  la otra opinion          playgroundmag          uno cero               \n",
      "denunciasmx com            espn                       la parada digital        proceso                voz del sur            \n",
      "diario cambio              excelsior                  la prensa                publimetro           \n",
      "diario de ibiza            exclusivas puebla          la red 21                quien                \n",
      "diario del huila           expansion                  la vanguardia            radio formula        \n",
      "\n",
      "Número de fuentes: 147\n"
     ]
    }
   ],
   "source": [
    "# Crear una lista con las fuentes procesadas.\n",
    "fuentes_ls = df_datos['Fuente'].to_list()\n",
    "\n",
    "# Eliminar valores repetidos e imprimir el número de fuentes.\n",
    "fuentes_ls = list(sorted(set(fuentes_ls)))\n",
    "\n",
    "# Imprimir todas las fuentes.\n",
    "cli = cmd.Cmd()\n",
    "cli.columnize(fuentes_ls, displaywidth=130)\n",
    "\n",
    "# . Imprimir el número de fuentes.\n",
    "print(f'\\nNúmero de fuentes: {len(fuentes_ls)}')"
   ]
  },
  {
   "cell_type": "markdown",
   "id": "70d52720-fdcf-44eb-adcc-5038ad8ab774",
   "metadata": {
    "pycharm": {
     "name": "#%% md\n"
    }
   },
   "source": [
    "### Tipos de noticias según los temas.\n",
    "\n",
    "Para obtener la cantidad de noticias falsas y verdaderas según el tema es necesario hacer lo siguiente para cada conjunto de datos:\n",
    "\n",
    "1. Separar solo las noticias de la categoría de noticias verdaderas.\n",
    "2. Agrupar las noticias por tema.\n",
    "3. Contar las noticias según el tema.\n",
    "4. Convertir en un diccionario el resultado del conteo.\n",
    "5. Convertir en un `DataFrame` el diccionario.\n",
    "6. Repetir para la categoría de noticias falsas.\n",
    "7. Unir los dos `DataFrames`.\n",
    "8. Gráficar el `DataFrame` resultado.\n",
    "\n",
    "los nombres para las variables y `DataFrames` serán muy largos si se escribe el para que se utilizan y el conjunto al que pretenecen, por lo tanto, se utilizarán los siguientes nombres:\n",
    "\n",
    "- `df_v_e`: `DataFrame` que contiene las noticias verdaderas del conjunto de entrenamiento.\n",
    "- `df_f_e`: `DataFrame` que contiene las noticias falsas del conjunto de entrenamiento.\n",
    "- `df_v_p`: `DataFrame` que contiene las noticias verdaderas del conjunto de pruebas.\n",
    "- `df_f_p`: `DataFrame` que contiene las noticias falsas del conjunto de pruebas.\n",
    "- `df_vf_e`: `DataFrame` que contiene el conteo de todas las noticias según el tema, separadas por categoría del conjunto de entrenamiento.\n",
    "- `df_vf_p`: `DataFrame` que contiene el conteo de todas las noticias según el tema, separadas por categoría del conjunto de entrenamiento.\n",
    "\n",
    "**Conjunto de entrenamiento**"
   ]
  },
  {
   "cell_type": "code",
   "execution_count": 10,
   "id": "86ce7320-37bb-4c17-b1b6-3ddee7c874f7",
   "metadata": {
    "pycharm": {
     "name": "#%%\n"
    }
   },
   "outputs": [],
   "source": [
    "# CATEGORÍA: VERDADERAS.\n",
    "# 1. Separar las noticias verdaderas.\n",
    "df_v_e = df_entrenamiento[df_entrenamiento['Categoria'] == 'true']\n",
    "\n",
    "# 2,3,4,5. Agrupar por tema, realizar el conteo y crear un DataFrame según el conteo.\n",
    "df_v_e = pd.DataFrame.from_dict(dict(df_v_e.groupby('Tema').size()), orient='index', columns=['Noticias Verdaderas'])\n",
    "\n",
    "# CATEGORÍA: FALSAS.\n",
    "# 1. Separar las noticias verdaderas.\n",
    "df_f_e = df_entrenamiento[df_entrenamiento['Categoria'] == 'fake']\n",
    "\n",
    "# 2,3,4,5. Agrupar por tema, realizar el conteo y crear un DataFrame según el conteo.\n",
    "df_f_e = pd.DataFrame.from_dict(dict(df_f_e.groupby('Tema').size()), orient='index', columns=['Noticias Falsas'])\n",
    "\n",
    "# 7. Unir los DataFrames.\n",
    "df_vf_e = pd.concat([df_v_e, df_f_e], axis=1)"
   ]
  },
  {
   "cell_type": "markdown",
   "id": "383c0490-d65b-43a1-b94a-7e606e86e35a",
   "metadata": {
    "pycharm": {
     "name": "#%% md\n"
    }
   },
   "source": [
    "**Conjunto de pruebas**"
   ]
  },
  {
   "cell_type": "code",
   "execution_count": 11,
   "id": "e40a87df-01c2-4d1c-9b05-f4d19979fc39",
   "metadata": {
    "pycharm": {
     "name": "#%%\n"
    }
   },
   "outputs": [],
   "source": [
    "# CATEGORÍA: VERDADERAS.\n",
    "# 1. Separar las noticias verdaderas.\n",
    "df_v_p = df_pruebas[df_pruebas['Categoria'] == 'true']\n",
    "\n",
    "# 2,3,4,5. Agrupar por tema, realizar el conteo y crear un DataFrame según el conteo.\n",
    "df_v_p = pd.DataFrame.from_dict(dict(df_v_p.groupby('Tema').size()), orient='index', columns=['Noticias Verdaderas'])\n",
    "\n",
    "# CATEGORÍA: FALSAS.\n",
    "# 1. Separar las noticias verdaderas.\n",
    "df_f_p = df_pruebas[df_pruebas['Categoria'] == 'fake']\n",
    "\n",
    "# 2,3,4,5. Agrupar por tema, realizar el conteo y crear un DataFrame según el conteo.\n",
    "df_f_p = pd.DataFrame.from_dict(dict(df_f_p.groupby('Tema').size()), orient='index', columns=['Noticias Falsas'])\n",
    "\n",
    "# 7. Unir los DataFrames.\n",
    "df_vf_p = pd.concat([df_v_p, df_f_p], axis=1)"
   ]
  },
  {
   "cell_type": "markdown",
   "id": "414e107c-9b3d-4791-9f4e-c85939cb3066",
   "metadata": {
    "pycharm": {
     "name": "#%% md\n"
    }
   },
   "source": [
    "**Gráficas**"
   ]
  },
  {
   "cell_type": "code",
   "execution_count": 12,
   "id": "3d177cb3-6741-40bb-aeee-8e1993609b42",
   "metadata": {
    "pycharm": {
     "name": "#%%\n"
    }
   },
   "outputs": [
    {
     "data": {
      "text/plain": "Text(0, 0.5, 'Noticias')"
     },
     "execution_count": 12,
     "metadata": {},
     "output_type": "execute_result"
    },
    {
     "data": {
      "text/plain": "<Figure size 720x432 with 2 Axes>",
      "image/png": "[encoded data removed]"
     },
     "metadata": {
      "needs_background": "light"
     },
     "output_type": "display_data"
    }
   ],
   "source": [
    "# Colores.\n",
    "color_verdaderas_e = '#0095e9'\n",
    "color_falsas_e = '#3a4466'\n",
    "\n",
    "color_verdaderas_p = '#feae34'\n",
    "color_falsas_p = '#e43b44'\n",
    "\n",
    "# Subplots.\n",
    "fig, axes = plt.subplots(nrows=2)\n",
    "plt.subplots_adjust(left=0.1, right=1, top=2, hspace=.7)\n",
    "\n",
    "# Gráfica entrenamiento.\n",
    "df_vf_e_plot = df_vf_e.plot(kind='bar', figsize=(10, 6), fontsize=13, color=[color_verdaderas_e, color_falsas_e], ax=axes[0])\n",
    "df_vf_e_plot.set_title('Noticias Falsas / Verdaderas (Entrenamiento)', fontsize=23)\n",
    "df_vf_e_plot.set_xlabel('Temas', fontsize=20)\n",
    "df_vf_e_plot.set_ylabel('Noticias', fontsize=20)\n",
    "\n",
    "# Gráfica pruebas.\n",
    "df_vf_p_plot = df_vf_p.plot(kind='bar', figsize=(10, 6), fontsize=13, color=[color_verdaderas_p, color_falsas_p], ax=axes[1])\n",
    "df_vf_p_plot.set_title('Noticias Falsas / Verdaderas (Pruebas)', fontsize=23)\n",
    "df_vf_p_plot.set_xlabel('Temas', fontsize=20)\n",
    "df_vf_p_plot.set_ylabel('Noticias', fontsize=20)"
   ]
  },
  {
   "cell_type": "markdown",
   "id": "c7abf890-f5b6-4888-acc6-730e7e820758",
   "metadata": {
    "pycharm": {
     "name": "#%% md\n"
    }
   },
   "source": [
    "## Word Cloud\n",
    "\n",
    "*Word Cloud* es una representación visual de las palabras que forman un texto, donde el tamaño es mayor para las palabras que aparecen con más frecuencia.\n",
    "\n",
    "### Stopwords en español\n",
    "\n",
    "Las *stopwords* o palabras vacías son aquellas que carecen de sentido escritas de manera individual o sin una palabra clave o *keyword*. Algunos esjemplos son: el, la, ellos, ustedes, para, ser, etc.\n",
    "\n",
    "Se utilizan las *stopwords* proporcionadas por la librería `nltk` en conjunto con las obtenidas del repositorio \"stopwords-es\" del usuario [genediazjr](https://github.com/stopwords-iso/stopwords-es)"
   ]
  },
  {
   "cell_type": "code",
   "execution_count": 13,
   "id": "831e5cfd-38a4-4200-884a-23974d24b690",
   "metadata": {
    "pycharm": {
     "name": "#%%\n"
    }
   },
   "outputs": [],
   "source": [
    "# Obtener las stopwords.\n",
    "stopwords_spanish_nltk = stopwords.words('spanish')\n",
    "stopwords_spanish_json = list(pd.read_json('stopwords-es.json')[0])\n",
    "\n",
    "# Se concatenan las stopwords, se crea un set para eliminar repetidos y sé genera una lista.\n",
    "stopwords_spanish = list(set(stopwords_spanish_nltk+stopwords_spanish_json))\n",
    "\n",
    "# Se agrega la stopword 'NUMBER', debido a que no aporta nada a los datos para el análisis.\n",
    "stopwords_spanish.append('number')"
   ]
  },
  {
   "cell_type": "markdown",
   "id": "2811959a-69a0-4b51-8b41-a5b5cbaf3a75",
   "metadata": {
    "pycharm": {
     "name": "#%% md\n"
    }
   },
   "source": [
    "### Función para generar *Word Cloud*"
   ]
  },
  {
   "cell_type": "code",
   "execution_count": 14,
   "id": "5680460b-e75a-4f0c-88ca-ca12b21a2f08",
   "metadata": {
    "pycharm": {
     "name": "#%%\n"
    }
   },
   "outputs": [],
   "source": [
    "def generar_word_cloud(datos, nombre_archivo, stopwords=[], categoria='all', tema='all'):\n",
    "    '''\n",
    "    Input:\n",
    "        datos: DataFrame que contiene las noticias.\n",
    "        categoria: Categoría a utilizar para los datos (True o Fake).\n",
    "        tema: Tema de las noticias.\n",
    "        nombre_archivo: nombre del archivo donde se guardará la nube de palabras.\n",
    "    '''\n",
    "    \n",
    "    # Guardamos las noticias según la categoría.\n",
    "    df = datos if categoria == 'all' else datos[datos['Categoria'] == categoria]\n",
    "\n",
    "    # Guardamos las noticias según el tema.\n",
    "    if tema != 'all': df = df[df['Tema'] == tema]\n",
    "\n",
    "    # Removemos las columnas que no son necesarias.\n",
    "    df = df[['Texto']]\n",
    "    \n",
    "    # Imprimirmos la información de los datos utilizados.\n",
    "    print(f'{tema.upper()} {categoria.upper()} NEWS: {df.shape[0]}')\n",
    "\n",
    "    # Generamos una lista con todos los textos.\n",
    "    news_ls = [w for w in df['Texto']]\n",
    "\n",
    "    # Generamos un objeto str con la lista de textos (concatenamos los textos).\n",
    "    news_str = ' '.join(news_ls)\n",
    "    \n",
    "    # Crear un tokenizer que separe solo las palabras.\n",
    "    tokenizer = nltk.RegexpTokenizer(r'\\w+')\n",
    "\n",
    "    # Tokenizar las palabras.\n",
    "    words = tokenizer.tokenize(news_str)\n",
    "\n",
    "    # Eliminar las stopwords.\n",
    "    words_content = [w for w in words if w.lower() not in stopwords]\n",
    "\n",
    "    # Obtener la frequencia de las palabras de contendio sin las stopwords.\n",
    "    words_content_freq = nltk.FreqDist(words_content)\n",
    "    words_content_freq_dict = dict(words_content_freq)\n",
    "\n",
    "    # Crear el word cloud.\n",
    "    word_cloud = WordCloud(collocations = False, background_color = 'white', width=1000, height=1000).fit_words(words_content_freq_dict)\n",
    "\n",
    "    # Guardarlo en un archivo.\n",
    "    word_cloud.to_file(nombre_archivo);\n",
    "    \n",
    "    return None"
   ]
  },
  {
   "cell_type": "markdown",
   "id": "613a076f-96ff-4706-96d6-f28ec5c15d97",
   "metadata": {
    "tags": [],
    "pycharm": {
     "name": "#%% md\n"
    }
   },
   "source": [
    "### Generar *Word Cloud* para análisis del texto.\n",
    "\n",
    "Se generan las *Word CLoud* para las siguientes noticias.\n",
    "\n",
    "- Todas las *True News* de cualquier tema.\n",
    "- Todas las *Fake News* de cualquier tema.  \n",
    "\n",
    "- Todas las *True News* del tema de entretenimiento.\n",
    "- Todas las *Fake News* del tema de entretenimiento.  \n",
    "\n",
    "- Todas las *True News* del tema de salud.\n",
    "- Todas las *Fake News* del tema de salud."
   ]
  },
  {
   "cell_type": "code",
   "execution_count": 16,
   "id": "495a1afe-b304-48c4-9df5-40bfbc73ebdf",
   "metadata": {
    "pycharm": {
     "name": "#%%\n"
    }
   },
   "outputs": [
    {
     "name": "stdout",
     "output_type": "stream",
     "text": [
      "ALL TRUE NEWS: 338\n",
      "ALL FAKE NEWS: 338\n",
      "ENTERTAINMENT TRUE NEWS: 48\n",
      "ENTERTAINMENT FAKE NEWS: 55\n",
      "HEALTH TRUE NEWS: 16\n",
      "HEALTH FAKE NEWS: 16\n"
     ]
    }
   ],
   "source": [
    "# Word Cloud de todas las noticias.\n",
    "generar_word_cloud(df_entrenamiento, 'Word-Cloud/Word_Cloud_True_News.png', stopwords_spanish, 'true', 'all',)\n",
    "generar_word_cloud(df_entrenamiento, 'Word-Cloud/Word_Cloud_Fake_News.png', stopwords_spanish, 'fake', 'all',)\n",
    "\n",
    "# Word Cloud de las noticias de entretenimiento.\n",
    "generar_word_cloud(df_entrenamiento, 'Word-Cloud/Word_Cloud_Entertainment_True_News.png', stopwords_spanish, 'true', 'entertainment',)\n",
    "generar_word_cloud(df_entrenamiento, 'Word-Cloud/Word_Cloud_Entertainment_Fake_News.png', stopwords_spanish, 'fake', 'entertainment',)\n",
    "\n",
    "# Word Cloud de las noticias de salud.\n",
    "generar_word_cloud(df_entrenamiento, 'Word-Cloud/Word_Cloud_Health_True_News.png', stopwords_spanish, 'true', 'health',)\n",
    "generar_word_cloud(df_entrenamiento, 'Word-Cloud/Word_Cloud_Health_Fake_News.png', stopwords_spanish, 'fake', 'health',)"
   ]
  },
  {
   "cell_type": "markdown",
   "source": [
    "<h3>Word Cloud de todas las noticias verdaderas</h3>\n",
    "<img src=\"Word-Cloud/Word_Cloud_True_News.png\" width=\"400\" height=\"400\">\n",
    "\n",
    "<h3>Word Cloud de todas las noticias falsas</h3>\n",
    "<img src=\"Word-Cloud/Word_Cloud_Fake_News.png\" width=\"400\" height=\"400\">\n",
    "\n",
    "<h3>Word Cloud de todas las noticias verdaderas sobre entretenimiento</h3>\n",
    "<img src=\"Word-Cloud/Word_Cloud_Entertainment_True_News.png\" width=\"400\" height=\"400\">\n",
    "\n",
    "<h3>Word Cloud de todas las noticias falsas sobre entretenimiento</h3>\n",
    "<img src=\"Word-Cloud/Word_Cloud_Entertainment_Fake_News.png\" width=\"400\" height=\"400\">\n",
    "\n",
    "<h3>Word Cloud de todas las noticias verdaderas sobre salud</h3>\n",
    "<img src=\"Word-Cloud/Word_Cloud_Health_True_News.png\" width=\"400\" height=\"400\">\n",
    "\n",
    "<h3>Word Cloud de todas las noticias falsas sobre salud</h3>\n",
    "<img src=\"Word-Cloud/Word_Cloud_Health_Fake_News.png\" width=\"400\" height=\"400\">"
   ],
   "metadata": {
    "collapsed": false,
    "pycharm": {
     "name": "#%% md\n"
    }
   }
  },
  {
   "cell_type": "code",
   "execution_count": null,
   "id": "57670c29-ed29-40d1-be17-ce231c75be4a",
   "metadata": {
    "pycharm": {
     "name": "#%%\n"
    }
   },
   "outputs": [],
   "source": []
  }
 ],
 "metadata": {
  "kernelspec": {
   "name": "python3",
   "language": "python",
   "display_name": "Python 3 (ipykernel)"
  },
  "language_info": {
   "codemirror_mode": {
    "name": "ipython",
    "version": 3
   },
   "file_extension": ".py",
   "mimetype": "text/x-python",
   "name": "python",
   "nbconvert_exporter": "python",
   "pygments_lexer": "ipython3",
   "version": "3.9.10"
  },
  "toc-autonumbering": false,
  "toc-showmarkdowntxt": false
 },
 "nbformat": 4,
 "nbformat_minor": 5
}