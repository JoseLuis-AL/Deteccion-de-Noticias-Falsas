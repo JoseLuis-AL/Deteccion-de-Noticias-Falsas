{
 "cells": [
  {
   "cell_type": "markdown",
   "source": [
    "# 3. Clasificación\n",
    "\n",
    "**Alumno:** Aguilera Luzania José Luis"
   ],
   "metadata": {
    "collapsed": false,
    "pycharm": {
     "name": "#%% md\n"
    }
   }
  },
  {
   "cell_type": "markdown",
   "source": [
    "## Contenido\n",
    "---\n",
    "\n",
    "**Introducción**\n",
    "- ¿Qué es la detección de noticias falsas? (*Fake news*).\n",
    "- Objetivo de la libreta.\n",
    "\n",
    "**Procesamiento de los datos**\n",
    "- Librerías\n",
    "- Cargar el *corpus*\n",
    "- Datos necesarios: *Text* y *Category*\n",
    "- Palabras vacías o *stopwords*\n",
    "- *Snowball Stemmer*\n",
    "- Procesamiento del texto\n",
    "- Vectorización y características TFIDF\n",
    "- Separación de los conjuntos de datos\n",
    "\n",
    "**Métricas**\n",
    "- Matriz de confusión\n",
    "\n",
    "**Naive Bayes Multinomial**\n",
    "- Modelo\n",
    "- Resultados\n",
    "\n",
    "**Regresión Logística**\n",
    "- Modelo\n",
    "- Resultados\n",
    "\n",
    "**Red LSTM (Long Short-Term Memory)**\n",
    "- Procesar los datos\n",
    "- Tokenizar los datos\n",
    "- Cargar embeddings de palabras en español\n",
    "- Conjunto de entrenamiento y de pruebas\n",
    "- Modelo\n",
    "- Entrenamiento\n",
    "- Resultados"
   ],
   "metadata": {
    "collapsed": false,
    "pycharm": {
     "name": "#%% md\n"
    }
   }
  },
  {
   "cell_type": "markdown",
   "source": [
    "## Introducción\n",
    "---"
   ],
   "metadata": {
    "collapsed": false,
    "pycharm": {
     "name": "#%% md\n"
    }
   }
  },
  {
   "cell_type": "markdown",
   "source": [
    "#### Clasificación de texto\n",
    "\n",
    "La clasificación de textos es la tarea de clasificar un documento en una categoría predefinida, es decir, si *d_j* es un documento del conjunto de documentos *D* y *{c_1, c_2, ..., c_n}* es el conjunto de categorías, entonces la clasificación de textos asigna una categoría *c_i* al documento *d_j*. El caso de la detección de noticias falsas se puede resolver como un problema de clasificación de textos, donde a cada noticia *n_i* del conjunto de noticias *N* le asignamos una categoría del conjunto *{true, fake}*.\n",
    "\n",
    "El proceso de clasificación de textos se muestra en la siguiente figura:\n",
    "\n",
    "\n",
    "<p align=\"center\">\n",
    "<img src=\"Imagenes\\proceso_clasificacion_textos.png\" width=\"500\">\n",
    "</p>"
   ],
   "metadata": {
    "collapsed": false,
    "pycharm": {
     "name": "#%% md\n"
    }
   }
  },
  {
   "cell_type": "markdown",
   "source": [
    "#### Objetivo de la libreta\n",
    "\n",
    "El objetivo de esta libreta es mostrar el procesamiento necesario del texto para después ser usado en un clasificador de texto y utilizar distintos métodos para clasificar el texto."
   ],
   "metadata": {
    "collapsed": false,
    "pycharm": {
     "name": "#%% md\n"
    }
   }
  },
  {
   "cell_type": "markdown",
   "source": [
    "## Procesamiento de los datos\n",
    "---"
   ],
   "metadata": {
    "collapsed": false,
    "pycharm": {
     "name": "#%% md\n"
    }
   }
  },
  {
   "cell_type": "markdown",
   "source": [
    "#### Librerías"
   ],
   "metadata": {
    "collapsed": false,
    "pycharm": {
     "name": "#%% md\n"
    }
   }
  },
  {
   "cell_type": "code",
   "execution_count": 1,
   "outputs": [],
   "source": [
    "import pandas as pd\n",
    "import numpy as np\n",
    "import matplotlib.pyplot as plt\n",
    "import seaborn as sns\n",
    "import re\n",
    "import nltk\n",
    "import spacy\n",
    "import spacy_spanish_lemmatizer\n",
    "import pathlib\n",
    "\n",
    "from nltk.corpus import stopwords\n",
    "\n",
    "from tqdm.notebook import tqdm_notebook\n",
    "\n",
    "from sklearn.naive_bayes import MultinomialNB\n",
    "from sklearn.linear_model import LogisticRegression\n",
    "from sklearn.model_selection import train_test_split\n",
    "from sklearn.feature_extraction.text import TfidfVectorizer\n",
    "from sklearn.metrics import confusion_matrix, classification_report\n",
    "\n",
    "import tensorflow as tf\n",
    "from tensorflow import keras\n",
    "from keras.preprocessing.text import Tokenizer\n",
    "from keras.preprocessing.sequence import pad_sequences\n",
    "from keras.layers.core import Dropout, Dense\n",
    "from keras.layers import LSTM, Embedding, Bidirectional\n",
    "from keras import Sequential\n",
    "\n",
    "from tensorflow.keras.utils import plot_model"
   ],
   "metadata": {
    "collapsed": false,
    "pycharm": {
     "name": "#%%\n"
    }
   }
  },
  {
   "cell_type": "markdown",
   "source": [
    "#### Datos adicionales para la librería `nltk`"
   ],
   "metadata": {
    "collapsed": false,
    "pycharm": {
     "name": "#%% md\n"
    }
   }
  },
  {
   "cell_type": "code",
   "execution_count": 2,
   "outputs": [
    {
     "name": "stderr",
     "output_type": "stream",
     "text": [
      "[nltk_data] Downloading package punkt to\n",
      "[nltk_data]     C:\\Users\\JoseLuisAL\\AppData\\Roaming\\nltk_data...\n",
      "[nltk_data]   Package punkt is already up-to-date!\n",
      "[nltk_data] Downloading package stopwords to\n",
      "[nltk_data]     C:\\Users\\JoseLuisAL\\AppData\\Roaming\\nltk_data...\n",
      "[nltk_data]   Package stopwords is already up-to-date!\n"
     ]
    },
    {
     "data": {
      "text/plain": "True"
     },
     "execution_count": 2,
     "metadata": {},
     "output_type": "execute_result"
    }
   ],
   "source": [
    "nltk.download('punkt')\n",
    "nltk.download('stopwords')"
   ],
   "metadata": {
    "collapsed": false,
    "pycharm": {
     "name": "#%%\n"
    }
   }
  },
  {
   "cell_type": "markdown",
   "source": [
    "#### Cargar el corpus"
   ],
   "metadata": {
    "collapsed": false,
    "pycharm": {
     "name": "#%% md\n"
    }
   }
  },
  {
   "cell_type": "code",
   "execution_count": 3,
   "outputs": [
    {
     "data": {
      "text/plain": "  Category     Topic                      Source  \\\n0     True   Science                     El país   \n1     True   Economy               El financiero   \n2     Fake     Sport  actualidadpanamericana.com   \n3     Fake  Politics  actualidadpanamericana.com   \n4     Fake  Politics  actualidadpanamericana.com   \n\n                                            Headline  \\\n0  La NASA recupera el contacto con un satélite d...   \n1  AMLO aceleraría el consumo y el crecimiento ec...   \n2  Compañero de James se ‘calvea’ y le juega pesa...   \n3  Dian gravará este año a los niños que recojan ...   \n4         Uribe asegura que insultó 358 guerrilleros   \n\n                                                Text  \\\n0  La NASA recupera el contacto con un satélite d...   \n1  AMLO aceleraría el consumo y el crecimiento ec...   \n2  Al borde de un colapso nervioso quedó el hábil...   \n3  Mediante pupitrazo de último minuto anoche, el...   \n4  Muy temprano esta mañana el expresidente y aho...   \n\n                                                Link  \n0  https://elpais.com/elpais/2018/02/01/ciencia/1...  \n1  http://www.elfinanciero.com.mx/economia/amlo-a...  \n2  http://www.actualidadpanamericana.com/companer...  \n3  http://www.actualidadpanamericana.com/dian-gra...  \n4  http://www.actualidadpanamericana.com/uribe-as...  ",
      "text/html": "<div>\n<style scoped>\n    .dataframe tbody tr th:only-of-type {\n        vertical-align: middle;\n    }\n\n    .dataframe tbody tr th {\n        vertical-align: top;\n    }\n\n    .dataframe thead th {\n        text-align: right;\n    }\n</style>\n<table border=\"1\" class=\"dataframe\">\n  <thead>\n    <tr style=\"text-align: right;\">\n      <th></th>\n      <th>Category</th>\n      <th>Topic</th>\n      <th>Source</th>\n      <th>Headline</th>\n      <th>Text</th>\n      <th>Link</th>\n    </tr>\n  </thead>\n  <tbody>\n    <tr>\n      <th>0</th>\n      <td>True</td>\n      <td>Science</td>\n      <td>El país</td>\n      <td>La NASA recupera el contacto con un satélite d...</td>\n      <td>La NASA recupera el contacto con un satélite d...</td>\n      <td>https://elpais.com/elpais/2018/02/01/ciencia/1...</td>\n    </tr>\n    <tr>\n      <th>1</th>\n      <td>True</td>\n      <td>Economy</td>\n      <td>El financiero</td>\n      <td>AMLO aceleraría el consumo y el crecimiento ec...</td>\n      <td>AMLO aceleraría el consumo y el crecimiento ec...</td>\n      <td>http://www.elfinanciero.com.mx/economia/amlo-a...</td>\n    </tr>\n    <tr>\n      <th>2</th>\n      <td>Fake</td>\n      <td>Sport</td>\n      <td>actualidadpanamericana.com</td>\n      <td>Compañero de James se ‘calvea’ y le juega pesa...</td>\n      <td>Al borde de un colapso nervioso quedó el hábil...</td>\n      <td>http://www.actualidadpanamericana.com/companer...</td>\n    </tr>\n    <tr>\n      <th>3</th>\n      <td>Fake</td>\n      <td>Politics</td>\n      <td>actualidadpanamericana.com</td>\n      <td>Dian gravará este año a los niños que recojan ...</td>\n      <td>Mediante pupitrazo de último minuto anoche, el...</td>\n      <td>http://www.actualidadpanamericana.com/dian-gra...</td>\n    </tr>\n    <tr>\n      <th>4</th>\n      <td>Fake</td>\n      <td>Politics</td>\n      <td>actualidadpanamericana.com</td>\n      <td>Uribe asegura que insultó 358 guerrilleros</td>\n      <td>Muy temprano esta mañana el expresidente y aho...</td>\n      <td>http://www.actualidadpanamericana.com/uribe-as...</td>\n    </tr>\n  </tbody>\n</table>\n</div>"
     },
     "execution_count": 3,
     "metadata": {},
     "output_type": "execute_result"
    }
   ],
   "source": [
    "corpus = pd.read_csv('Datos/corpus_spanish_v3.csv', encoding='utf-8', index_col=0)\n",
    "corpus.head()"
   ],
   "metadata": {
    "collapsed": false,
    "pycharm": {
     "name": "#%%\n"
    }
   }
  },
  {
   "cell_type": "markdown",
   "source": [
    "#### Palabras vacías o *stopwords*\n",
    "\n",
    "Las *stopwords* o palabras vacías son aquellas que carecen de sentido de manera individual o sin una palabra clave o *keyword*. Se utilizan las *stopwords* proporcionadas por la librería `nltk` en conjunto con las obtenidas del repositorio \"stopwords-es\" del usuario [genediazjr](https://github.com/stopwords-iso/stopwords-es)."
   ],
   "metadata": {
    "collapsed": false,
    "pycharm": {
     "name": "#%% md\n"
    }
   }
  },
  {
   "cell_type": "code",
   "execution_count": 4,
   "outputs": [],
   "source": [
    "stopwords_spanish_nltk = stopwords.words('spanish')\n",
    "stopwords_spanish_json = list(pd.read_json('Datos/stopwords-es.json')[0])\n",
    "\n",
    "stopwords_spanish = list(set(stopwords_spanish_nltk+stopwords_spanish_json))"
   ],
   "metadata": {
    "collapsed": false,
    "pycharm": {
     "name": "#%%\n"
    }
   }
  },
  {
   "cell_type": "markdown",
   "source": [
    "#### Cargar el lematizador\n",
    "\n",
    "Para poder utilizar el lematizador es necesario ejecutar los siguientes comandos en la consola.\n",
    "\n",
    "```powershell\n",
    "pip install -U pip setuptools wheel\n",
    "python -m spacy download es_core_news_sm\n",
    "python -m spacy download es_core_news_lg\n",
    "python -m spacy_spanish_lemmatizer download wiki\n",
    "```"
   ],
   "metadata": {
    "collapsed": false,
    "pycharm": {
     "name": "#%% md\n"
    }
   }
  },
  {
   "cell_type": "code",
   "execution_count": 5,
   "outputs": [
    {
     "data": {
      "text/plain": "<spacy_spanish_lemmatizer.main.SpacyCustomLemmatizer at 0x247ebcda0e0>"
     },
     "execution_count": 5,
     "metadata": {},
     "output_type": "execute_result"
    }
   ],
   "source": [
    "spacy.require_gpu()\n",
    "nlp = spacy.load('es_core_news_lg')\n",
    "nlp.replace_pipe('lemmatizer', 'spanish_lemmatizer')"
   ],
   "metadata": {
    "collapsed": false,
    "pycharm": {
     "name": "#%%\n"
    }
   }
  },
  {
   "cell_type": "markdown",
   "source": [
    "#### Procesamiento del texto"
   ],
   "metadata": {
    "collapsed": false,
    "pycharm": {
     "name": "#%% md\n"
    }
   }
  },
  {
   "cell_type": "code",
   "execution_count": 6,
   "outputs": [],
   "source": [
    "def process_text(text):\n",
    "    text = re.sub(r\"http\\S+\", \"\", text)\n",
    "    text = re.sub(r\"http\", \"\", text)\n",
    "    text = re.sub(\"\\n\", \" \", text)\n",
    "    text = text.replace(r\"*NUMBER*\", \"número\")\n",
    "    text = text.replace(r\"*PHONE*\", \"número\")\n",
    "    text = text.replace(r\"*EMAIL*\", \"email\")\n",
    "    text = text.replace(r\"*URL*\", \"url\")\n",
    "    text = [token.lemma_ for token in nlp(text) if token.is_alpha and not token.lemma_ in stopwords_spanish]\n",
    "    text = ' '.join(text)\n",
    "\n",
    "    return text\n",
    "\n",
    "\n",
    "def get_processed_corpus():\n",
    "    processed_corpus_file = pathlib.Path('Datos/processed_corpus_spanish.csv')\n",
    "    if processed_corpus_file.is_file():\n",
    "        df = pd.read_csv(processed_corpus_file, encoding='utf-8')\n",
    "    else:\n",
    "        # Procesar el texto.\n",
    "        tqdm_notebook.pandas(desc=\"Procesando el texto\")\n",
    "        text_to_process = corpus['Text']\n",
    "        text_to_process = text_to_process.progress_apply(process_text)\n",
    "\n",
    "        # Procesar las etiquetas.\n",
    "        text_labels = corpus['Category']\n",
    "        text_labels = text_labels.astype('category').cat.codes\n",
    "\n",
    "        # Guardar los datos procesados.\n",
    "        df = pd.concat([text_to_process, text_labels], axis=1)\n",
    "        df.columns = ['Text','Category']\n",
    "        df.to_csv(processed_corpus_file, encoding='utf-8', index=False)\n",
    "\n",
    "    return df['Text'], df['Category']"
   ],
   "metadata": {
    "collapsed": false,
    "pycharm": {
     "name": "#%%\n"
    }
   }
  },
  {
   "cell_type": "code",
   "execution_count": 7,
   "outputs": [],
   "source": [
    "X, y = get_processed_corpus()\n",
    "\n",
    "# Convertir los conjuntos a un numpy ndarray\n",
    "X = X.values\n",
    "y = y.values"
   ],
   "metadata": {
    "collapsed": false,
    "pycharm": {
     "name": "#%%\n"
    }
   }
  },
  {
   "cell_type": "markdown",
   "source": [
    "#### Vectorización y características TFIDF"
   ],
   "metadata": {
    "collapsed": false,
    "pycharm": {
     "name": "#%% md\n"
    }
   }
  },
  {
   "cell_type": "code",
   "execution_count": 8,
   "outputs": [],
   "source": [
    "tfidf_vectorizer = TfidfVectorizer(max_features=5000, ngram_range=(1,2), lowercase=False, strip_accents='unicode')\n",
    "X = tfidf_vectorizer.fit_transform(X).toarray()"
   ],
   "metadata": {
    "collapsed": false,
    "pycharm": {
     "name": "#%%\n"
    }
   }
  },
  {
   "cell_type": "markdown",
   "source": [
    "#### Separación de los conjuntos de datos"
   ],
   "metadata": {
    "collapsed": false,
    "pycharm": {
     "name": "#%% md\n"
    }
   }
  },
  {
   "cell_type": "code",
   "execution_count": 9,
   "outputs": [],
   "source": [
    "X_train, X_test, y_train, y_test = train_test_split(X, y, test_size=0.4, stratify=y, random_state=2021)"
   ],
   "metadata": {
    "collapsed": false,
    "pycharm": {
     "name": "#%%\n"
    }
   }
  },
  {
   "cell_type": "markdown",
   "source": [
    "## Métricas\n",
    "---"
   ],
   "metadata": {
    "collapsed": false,
    "pycharm": {
     "name": "#%% md\n"
    }
   }
  },
  {
   "cell_type": "markdown",
   "source": [
    "#### Matriz de confusión"
   ],
   "metadata": {
    "collapsed": false,
    "pycharm": {
     "name": "#%% md\n"
    }
   }
  },
  {
   "cell_type": "code",
   "execution_count": 10,
   "outputs": [],
   "source": [
    "def plot_confusion_matrix(y_test_values, y_predicted_values, method=''):\n",
    "    cf_matrix = confusion_matrix(y_test_values, y_predicted_values)\n",
    "    group_counts = ['{0:0.0f}'.format(value) for value in cf_matrix.flatten()]\n",
    "    group_percentages = ['{0:.2%}'.format(value) for value in cf_matrix.flatten() / np.sum(cf_matrix)]\n",
    "    labels = [f'{v1}\\n{v2}' for v1, v2 in zip(group_counts, group_percentages)]\n",
    "    labels = np.asarray(labels).reshape(2, 2)\n",
    "\n",
    "    fig, ax = plt.subplots(figsize = (7, 5.5))\n",
    "    sns.heatmap(cf_matrix, annot = labels, ax = ax, fmt = '',cmap = 'Blues', annot_kws = {\"size\": 13})\n",
    "\n",
    "    # Etiquetas, título y ticks\n",
    "    label_font = {'size':'15'}\n",
    "    ax.set_xlabel(' \\nPredicción', fontdict = label_font)\n",
    "    ax.set_ylabel('Valores reales\\n', fontdict = label_font)\n",
    "\n",
    "    title_font = {'size':'16'}\n",
    "    cf_matrix_title = 'Matriz de confusión: ' + method + '\\n'\n",
    "    ax.set_title(cf_matrix_title, fontdict = title_font)\n",
    "\n",
    "    ax.tick_params(axis = 'both', which = 'major', labelsize = 13)\n",
    "    ax.xaxis.set_ticklabels(['Fake', 'Real'])\n",
    "    ax.yaxis.set_ticklabels(['Fake', 'Real'])\n",
    "    plt.show()"
   ],
   "metadata": {
    "collapsed": false,
    "pycharm": {
     "name": "#%%\n"
    }
   }
  },
  {
   "cell_type": "markdown",
   "source": [
    "## Naive Bayes Multinomial\n",
    "---\n"
   ],
   "metadata": {
    "collapsed": false,
    "pycharm": {
     "name": "#%% md\n"
    }
   }
  },
  {
   "cell_type": "markdown",
   "source": [
    "#### Introducción\n",
    "\n",
    "Naive Bayes es uno de los modelos más simples y usados en clasificación de texto porque sus resultados son tan buenos como otros modelos más sofisticados.\n",
    "\n",
    "Se basa en la aplicación del teorema de Bayes para predecir la probabilidad de que un documento pertenezca a una clase *P(c_i|d_j)* a partir de la probabilidad de los documentos dada la clase *P(d_j|c_i)* y la probabilidad a priori de la clase en el conjunto de entrenamiento *P(c_i)*.\n",
    "\n",
    "<br>\n",
    "<p align=\"center\">\n",
    "<img src=\"Imagenes\\info\\naive_bayes_eq.png\" width=\"300\">\n",
    "</p>"
   ],
   "metadata": {
    "collapsed": false,
    "pycharm": {
     "name": "#%% md\n"
    }
   }
  },
  {
   "cell_type": "code",
   "execution_count": 11,
   "outputs": [
    {
     "data": {
      "text/plain": "<Figure size 504x396 with 2 Axes>",
      "image/png": "[encoded data removed]"
     },
     "metadata": {
      "needs_background": "light"
     },
     "output_type": "display_data"
    },
    {
     "name": "stdout",
     "output_type": "stream",
     "text": [
      "              precision    recall  f1-score   support\n",
      "\n",
      "           0       0.85      0.95      0.90       771\n",
      "           1       0.94      0.85      0.89       819\n",
      "\n",
      "    accuracy                           0.89      1590\n",
      "   macro avg       0.90      0.90      0.89      1590\n",
      "weighted avg       0.90      0.89      0.89      1590\n",
      "\n"
     ]
    }
   ],
   "source": [
    "# Modelo ════════════════════════════════════════════════════\n",
    "model_NB = MultinomialNB(alpha=0.5)\n",
    "model_NB.fit(X_train, y_train)\n",
    "\n",
    "# Predicción ════════════════════════════════════════════════\n",
    "y_predicted_NB = model_NB.predict(X_test)\n",
    "\n",
    "# Resultados ════════════════════════════════════════════════\n",
    "# Matriz de confusión\n",
    "plot_confusion_matrix(y_predicted_NB, y_test, 'Naive Bayes')\n",
    "\n",
    "# Reporte de clasificación\n",
    "print(classification_report(y_test, y_predicted_NB))"
   ],
   "metadata": {
    "collapsed": false,
    "pycharm": {
     "name": "#%%\n"
    }
   }
  },
  {
   "cell_type": "markdown",
   "source": [
    "## Regresión Logística\n",
    "---"
   ],
   "metadata": {
    "collapsed": false,
    "pycharm": {
     "name": "#%% md\n"
    }
   }
  },
  {
   "cell_type": "markdown",
   "source": [
    "#### Introducción\n",
    "\n",
    "La regresión logística es un modelo matemático empleado en estadística para predecir qué tan probable es que ocurra un evento teniendo en cuenta datos previos. Esta funciona con datos binarios, es decir, cuando un evento ocurre o no ocurre.\n",
    "\n",
    "La función logística esta dada por:\n",
    "\n",
    "<br>\n",
    "<p align=\"center\">\n",
    "<img src=\"Imagenes\\info\\reg_log.png\" width=\"400\">\n",
    "</p>\n",
    "\n",
    "Como se observa en la gráfica, *S-Curve* representa una relación no lineal entre *X* y *Y*. *S* significa sigmoide, ya que la logística es una función sigmoide, la cual se representa de la siguiente manera:\n",
    "\n",
    "<br>\n",
    "<p align=\"center\">\n",
    "<img src=\"Imagenes\\info\\sigmoid.png\" width=\"200\">\n",
    "</p>\n",
    "\n",
    "En la gráfica se cuenta con un *Threshold Value* de 0.5, lo que significa que si la predicción del modelo da un valor mayor a 0.5 lo contara como verdadero (**1**) y si el valor es menor a 0.5 se contará como falso (**0**)."
   ],
   "metadata": {
    "collapsed": false,
    "pycharm": {
     "name": "#%% md\n"
    }
   }
  },
  {
   "cell_type": "code",
   "execution_count": 12,
   "outputs": [
    {
     "data": {
      "text/plain": "<Figure size 504x396 with 2 Axes>",
      "image/png": "[encoded data removed]"
     },
     "metadata": {
      "needs_background": "light"
     },
     "output_type": "display_data"
    },
    {
     "name": "stdout",
     "output_type": "stream",
     "text": [
      "              precision    recall  f1-score   support\n",
      "\n",
      "           0       0.93      0.92      0.92       771\n",
      "           1       0.92      0.93      0.93       819\n",
      "\n",
      "    accuracy                           0.92      1590\n",
      "   macro avg       0.92      0.92      0.92      1590\n",
      "weighted avg       0.92      0.92      0.92      1590\n",
      "\n"
     ]
    }
   ],
   "source": [
    "# Modelo ════════════════════════════════════════════════════\n",
    "model_LR = LogisticRegression(max_iter=2000)\n",
    "model_LR.fit(X_train, y_train)\n",
    "\n",
    "# Predicción ════════════════════════════════════════════════\n",
    "y_predicted_LR = model_LR.predict(X_test)\n",
    "\n",
    "# Resultados ════════════════════════════════════════════════\n",
    "# Matriz de confusión\n",
    "plot_confusion_matrix(y_predicted_LR, y_test, 'Regresión Logística')\n",
    "\n",
    "# Reporte de clasificación\n",
    "print(classification_report(y_test, y_predicted_LR))\n"
   ],
   "metadata": {
    "collapsed": false,
    "pycharm": {
     "name": "#%%\n"
    }
   }
  },
  {
   "cell_type": "markdown",
   "source": [
    "## Red LSTM (Long Short-Term Memory)\n",
    "---"
   ],
   "metadata": {
    "collapsed": false,
    "pycharm": {
     "name": "#%% md\n"
    }
   }
  },
  {
   "cell_type": "markdown",
   "source": [
    "#### Introducción\n",
    "\n",
    "**RNN**\n",
    "\n",
    "En las redes neuronales tradicionales las entradas y las salidas son independientes unas de otras, pero en caso en los que se requiera predecir la siguiente palabra de una sentencia, se requiere conocer la palabra anterior o varias palabras anteriores; el intentar predecir el final de una película será más o menos acertado dependiendo de la información previa.\n",
    "\n",
    "Las RNN son redes con ciclos en ellas, permitiendo que la información persista. Las RNN no son muy diferentes a las redes tradicionales, se puede entender como multiples copias de una red, cada una pasando un valor a la siguiente como se muestra en la imagen:\n",
    "\n",
    "<br>\n",
    "<p align=\"center\">\n",
    "<img src=\"Imagenes\\info\\rnn.png\" width=\"550\">\n",
    "</p>\n",
    "\n",
    "Las RNN recuerdan información a través del tiempo. Es útil cuando se quiere predecir dada una secuencia de información, las redes que pueden recordar la información a largo plazo son llamadas LSTM (Long Short-Term Memory) o Memoria a Largo Plazo.\n",
    "\n",
    "**Bi-LSTM**\n",
    "\n",
    "Las redes bidireccionales son en realidad dos redes RNN LSTM juntas. Esta estructura permite obtener la información hacia adelante y hacia atrás. Utilizando redes bidireccionales la entrada se ejecuta en dos direcciones, una del pasado al futuro y otra del futuro al pasado preservando información de ambos puntos en el tiempo de la secuencia, pasado y futuro.\n",
    "\n",
    "<br>\n",
    "<p align=\"center\">\n",
    "<img src=\"Imagenes\\info\\bi_lstm.png\" width=\"550\">\n",
    "</p>"
   ],
   "metadata": {
    "collapsed": false,
    "pycharm": {
     "name": "#%% md\n"
    }
   }
  },
  {
   "cell_type": "markdown",
   "source": [
    "#### Datos"
   ],
   "metadata": {
    "collapsed": false,
    "pycharm": {
     "name": "#%% md\n"
    }
   }
  },
  {
   "cell_type": "code",
   "execution_count": 13,
   "outputs": [],
   "source": [
    "# Datos necesarios ══════════════════════════════════════════\n",
    "X_LSTM, y_LSTM = get_processed_corpus()\n",
    "\n",
    "# Numpy ═════════════════════════════════════════════════════\n",
    "X_LSTM = X_LSTM.values\n",
    "y_LSTM = y_LSTM.values"
   ],
   "metadata": {
    "collapsed": false,
    "pycharm": {
     "name": "#%%\n"
    }
   }
  },
  {
   "cell_type": "markdown",
   "source": [
    "### Tokenizar los datos"
   ],
   "metadata": {
    "collapsed": false,
    "pycharm": {
     "name": "#%% md\n"
    }
   }
  },
  {
   "cell_type": "code",
   "execution_count": 14,
   "outputs": [
    {
     "name": "stdout",
     "output_type": "stream",
     "text": [
      "Vocab size: 53180\n"
     ]
    }
   ],
   "source": [
    "# Tokenizador ═══════════════════════════════════════════════\n",
    "tokenizer = Tokenizer()\n",
    "tokenizer.fit_on_texts(X_LSTM)\n",
    "\n",
    "# Vocabulario ═══════════════════════════════════════════════\n",
    "word_index = tokenizer.word_index\n",
    "vocab_size = len(word_index)\n",
    "print(f'Vocab size: {vocab_size}')\n",
    "\n",
    "# Secuencias ════════════════════════════════════════════════\n",
    "sequences = tokenizer.texts_to_sequences(X_LSTM)\n",
    "padded_seq = pad_sequences(sequences, maxlen=300, padding='post', truncating='post')"
   ],
   "metadata": {
    "collapsed": false,
    "pycharm": {
     "name": "#%%\n"
    }
   }
  },
  {
   "cell_type": "markdown",
   "source": [
    "#### Cargar embeddings de palabras en español"
   ],
   "metadata": {
    "collapsed": false,
    "pycharm": {
     "name": "#%% md\n"
    }
   }
  },
  {
   "cell_type": "code",
   "execution_count": 15,
   "outputs": [
    {
     "name": "stdout",
     "output_type": "stream",
     "text": [
      "Cargando embeddings...\n",
      "Creando matriz...\n",
      "Completado\n"
     ]
    }
   ],
   "source": [
    "word_embeddings_spanish_path = 'Datos/SBW-vectors-300-min5.txt'\n",
    "\n",
    "# Cargar los embeddings ═════════════════════════════════════\n",
    "print('Cargando embeddings...')\n",
    "embedding_index = {}\n",
    "with open(word_embeddings_spanish_path, 'r', encoding=\"utf8\") as file:\n",
    "    file.readline()\n",
    "    for line in file:\n",
    "        values = line.split()\n",
    "        word = values[0]\n",
    "        coefs = np.asarray(values[1:], dtype='float32')\n",
    "        embedding_index[word] = coefs\n",
    "\n",
    "# Matriz de embeddings ══════════════════════════════════════\n",
    "print('Creando matriz...')\n",
    "embedding_matrix = np.zeros((vocab_size+1, 300))\n",
    "for word, i in word_index.items():\n",
    "    embedding_vector = embedding_index.get(word)\n",
    "    if embedding_vector is not None:\n",
    "        embedding_matrix[i] = embedding_vector\n",
    "\n",
    "print('Completado')"
   ],
   "metadata": {
    "collapsed": false,
    "pycharm": {
     "name": "#%%\n"
    }
   }
  },
  {
   "cell_type": "markdown",
   "source": [
    "#### Conjunto de entrenamiento y de pruebas"
   ],
   "metadata": {
    "collapsed": false,
    "pycharm": {
     "name": "#%% md\n"
    }
   }
  },
  {
   "cell_type": "code",
   "execution_count": 21,
   "outputs": [],
   "source": [
    "X_train_lstm, X_test_lstm, y_train_lstm, y_test_lstm = train_test_split(padded_seq, y_LSTM, test_size=0.4, stratify=y_LSTM, random_state=2021)"
   ],
   "metadata": {
    "collapsed": false,
    "pycharm": {
     "name": "#%%\n"
    }
   }
  },
  {
   "cell_type": "markdown",
   "source": [
    "#### Modelo"
   ],
   "metadata": {
    "collapsed": false,
    "pycharm": {
     "name": "#%% md\n"
    }
   }
  },
  {
   "cell_type": "code",
   "execution_count": 22,
   "outputs": [
    {
     "name": "stdout",
     "output_type": "stream",
     "text": [
      "Model: \"sequential_1\"\n",
      "_________________________________________________________________\n",
      " Layer (type)                Output Shape              Param #   \n",
      "=================================================================\n",
      " embedding_1 (Embedding)     (None, None, 300)         15954300  \n",
      "                                                                 \n",
      " dropout_2 (Dropout)         (None, None, 300)         0         \n",
      "                                                                 \n",
      " bidirectional_2 (Bidirectio  (None, 128)              186880    \n",
      " nal)                                                            \n",
      "                                                                 \n",
      " dropout_3 (Dropout)         (None, 128)               0         \n",
      "                                                                 \n",
      " dense_1 (Dense)             (None, 32)                4128      \n",
      "                                                                 \n",
      " dense_2 (Dense)             (None, 1)                 33        \n",
      "                                                                 \n",
      "=================================================================\n",
      "Total params: 16,145,341\n",
      "Trainable params: 191,041\n",
      "Non-trainable params: 15,954,300\n",
      "_________________________________________________________________\n"
     ]
    }
   ],
   "source": [
    "# Modelo ════════════════════════════════════════════════════\n",
    "model_LSTM = Sequential([\n",
    "    Embedding(vocab_size+1, 300, weights=[embedding_matrix], trainable=False),\n",
    "    Dropout(0.5),\n",
    "    Bidirectional(LSTM(64)),\n",
    "    Dropout(0.5),\n",
    "    Dense(32),\n",
    "    Dense(1, activation='sigmoid')\n",
    "])\n",
    "\n",
    "# Información del modelo ════════════════════════════════════\n",
    "model_LSTM.compile(loss='binary_crossentropy', optimizer='adam', metrics=['acc'])\n",
    "model_LSTM.summary()"
   ],
   "metadata": {
    "collapsed": false,
    "pycharm": {
     "name": "#%%\n"
    }
   }
  },
  {
   "cell_type": "code",
   "execution_count": 23,
   "outputs": [
    {
     "data": {
      "image/png": "[encoded data removed]",
      "text/plain": "<IPython.core.display.Image object>"
     },
     "execution_count": 23,
     "metadata": {},
     "output_type": "execute_result"
    }
   ],
   "source": [
    "plot_model(model_LSTM, to_file='lstm_model.png')"
   ],
   "metadata": {
    "collapsed": false,
    "pycharm": {
     "name": "#%%\n"
    }
   }
  },
  {
   "cell_type": "markdown",
   "source": [
    "#### Entrenamiento"
   ],
   "metadata": {
    "collapsed": false,
    "pycharm": {
     "name": "#%% md\n"
    }
   }
  },
  {
   "cell_type": "code",
   "execution_count": 25,
   "outputs": [
    {
     "name": "stdout",
     "output_type": "stream",
     "text": [
      "Epoch 1/20\n",
      "19/19 [==============================] - 1s 58ms/step - loss: 0.2069 - acc: 0.9207 - val_loss: 0.1885 - val_acc: 0.9283\n",
      "Epoch 2/20\n",
      "19/19 [==============================] - 1s 54ms/step - loss: 0.2002 - acc: 0.9203 - val_loss: 0.1771 - val_acc: 0.9296\n",
      "Epoch 3/20\n",
      "19/19 [==============================] - 1s 54ms/step - loss: 0.1845 - acc: 0.9262 - val_loss: 0.1707 - val_acc: 0.9270\n",
      "Epoch 4/20\n",
      "19/19 [==============================] - 1s 55ms/step - loss: 0.1829 - acc: 0.9228 - val_loss: 0.1713 - val_acc: 0.9258\n",
      "Epoch 5/20\n",
      "19/19 [==============================] - 1s 54ms/step - loss: 0.1739 - acc: 0.9228 - val_loss: 0.1751 - val_acc: 0.9308\n",
      "Epoch 6/20\n",
      "19/19 [==============================] - 1s 56ms/step - loss: 0.1680 - acc: 0.9337 - val_loss: 0.1812 - val_acc: 0.9164\n",
      "Epoch 7/20\n",
      "19/19 [==============================] - 1s 56ms/step - loss: 0.1616 - acc: 0.9325 - val_loss: 0.1622 - val_acc: 0.9340\n",
      "Epoch 8/20\n",
      "19/19 [==============================] - 1s 56ms/step - loss: 0.1535 - acc: 0.9337 - val_loss: 0.1667 - val_acc: 0.9170\n",
      "Epoch 9/20\n",
      "19/19 [==============================] - 1s 57ms/step - loss: 0.1576 - acc: 0.9358 - val_loss: 0.1774 - val_acc: 0.9182\n",
      "Epoch 10/20\n",
      "19/19 [==============================] - 1s 55ms/step - loss: 0.1583 - acc: 0.9388 - val_loss: 0.1559 - val_acc: 0.9327\n",
      "Epoch 11/20\n",
      "19/19 [==============================] - 1s 55ms/step - loss: 0.1399 - acc: 0.9417 - val_loss: 0.1648 - val_acc: 0.9333\n",
      "Epoch 12/20\n",
      "19/19 [==============================] - 1s 54ms/step - loss: 0.1327 - acc: 0.9421 - val_loss: 0.1635 - val_acc: 0.9252\n",
      "Epoch 13/20\n",
      "19/19 [==============================] - 1s 55ms/step - loss: 0.1339 - acc: 0.9459 - val_loss: 0.1606 - val_acc: 0.9283\n",
      "Epoch 14/20\n",
      "19/19 [==============================] - 1s 55ms/step - loss: 0.1353 - acc: 0.9404 - val_loss: 0.1695 - val_acc: 0.9321\n",
      "Epoch 15/20\n",
      "19/19 [==============================] - 1s 57ms/step - loss: 0.1244 - acc: 0.9526 - val_loss: 0.1589 - val_acc: 0.9333\n",
      "Epoch 16/20\n",
      "19/19 [==============================] - 1s 57ms/step - loss: 0.1225 - acc: 0.9492 - val_loss: 0.1596 - val_acc: 0.9289\n",
      "Epoch 17/20\n",
      "19/19 [==============================] - 1s 57ms/step - loss: 0.1370 - acc: 0.9392 - val_loss: 0.1783 - val_acc: 0.9321\n",
      "Epoch 18/20\n",
      "19/19 [==============================] - 1s 56ms/step - loss: 0.1157 - acc: 0.9522 - val_loss: 0.1604 - val_acc: 0.9302\n",
      "Epoch 19/20\n",
      "19/19 [==============================] - 1s 59ms/step - loss: 0.1248 - acc: 0.9434 - val_loss: 0.1915 - val_acc: 0.9107\n",
      "Epoch 20/20\n",
      "19/19 [==============================] - 1s 56ms/step - loss: 0.1278 - acc: 0.9476 - val_loss: 0.1554 - val_acc: 0.9371\n"
     ]
    }
   ],
   "source": [
    "history = model_LSTM.fit(X_train_lstm,\n",
    "                         y_train_lstm,\n",
    "                         epochs=20,\n",
    "                         batch_size=128,\n",
    "                         validation_data=(X_test_lstm, y_test_lstm),\n",
    "                         verbose=1)"
   ],
   "metadata": {
    "collapsed": false,
    "pycharm": {
     "name": "#%%\n"
    }
   }
  },
  {
   "cell_type": "markdown",
   "source": [
    "#### Resultados"
   ],
   "metadata": {
    "collapsed": false,
    "pycharm": {
     "name": "#%% md\n"
    }
   }
  },
  {
   "cell_type": "code",
   "execution_count": 26,
   "outputs": [
    {
     "data": {
      "text/plain": "<Figure size 504x396 with 2 Axes>",
      "image/png": "[encoded data removed]"
     },
     "metadata": {
      "needs_background": "light"
     },
     "output_type": "display_data"
    },
    {
     "name": "stdout",
     "output_type": "stream",
     "text": [
      "              precision    recall  f1-score   support\n",
      "\n",
      "           0       0.94      0.93      0.93       771\n",
      "           1       0.93      0.95      0.94       819\n",
      "\n",
      "    accuracy                           0.94      1590\n",
      "   macro avg       0.94      0.94      0.94      1590\n",
      "weighted avg       0.94      0.94      0.94      1590\n",
      "\n"
     ]
    }
   ],
   "source": [
    "# Predicción ════════════════════════════════════════════════\n",
    "y_predicted_LSTM = (model_LSTM.predict(X_test_lstm) >= 0.5).astype(int)\n",
    "\n",
    "# Resultados ════════════════════════════════════════════════\n",
    "# Matriz de confusión\n",
    "plot_confusion_matrix(y_predicted_LSTM, y_test_lstm, 'LSTM')\n",
    "\n",
    "# Reporte de clasificación\n",
    "print(classification_report(y_test_lstm, y_predicted_LSTM))"
   ],
   "metadata": {
    "collapsed": false,
    "pycharm": {
     "name": "#%%\n"
    }
   }
  }
 ],
 "metadata": {
  "interpreter": {
   "hash": "be765b5a2c369769a88a742b7eb7588d2febb61fba837c8249a8c161d60a9417"
  },
  "kernelspec": {
   "display_name": "Python 3.10.4 ('virtualenv': venv)",
   "language": "python",
   "name": "python3"
  },
  "language_info": {
   "codemirror_mode": {
    "name": "ipython",
    "version": 3
   },
   "file_extension": ".py",
   "mimetype": "text/x-python",
   "name": "python",
   "nbconvert_exporter": "python",
   "pygments_lexer": "ipython3",
   "version": "3.10.4"
  }
 },
 "nbformat": 4,
 "nbformat_minor": 0
}