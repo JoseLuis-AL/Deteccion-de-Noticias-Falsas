{
 "cells": [
  {
   "cell_type": "markdown",
   "source": [
    "# 3. Clasificación\n",
    "\n",
    "**Alumno:** Aguilera Luzania José Luis"
   ],
   "metadata": {
    "collapsed": false,
    "pycharm": {
     "name": "#%% md\n"
    }
   }
  },
  {
   "cell_type": "markdown",
   "source": [
    "## Contenido\n",
    "---\n",
    "\n",
    "**Introducción**\n",
    "- ¿Qué es la detección de noticias falsas? (*Fake news*).\n",
    "- Objetivo de la libreta.\n",
    "\n",
    "**Procesamiento de los datos**\n",
    "- Librerías\n",
    "- Cargar el *corpus*\n",
    "- Datos necesarios: *Text* y *Category*\n",
    "- Palabras vacías o *stopwords*\n",
    "- *Snowball Stemmer*\n",
    "- Procesamiento del texto\n",
    "- Vectorización y características TFIDF\n",
    "- Separación de los conjuntos de datos\n",
    "\n",
    "**Métricas**\n",
    "- Matriz de confusión\n",
    "\n",
    "**Naive Bayes Multinomial**\n",
    "- Modelo\n",
    "- Resultados\n",
    "\n",
    "**Regresión Logística**\n",
    "- Modelo\n",
    "- Resultados\n",
    "\n",
    "**Red LSTM (Long Short-Term Memory)**\n",
    "- Procesar los datos\n",
    "- Tokenizar los datos\n",
    "- Cargar embeddings de palabras en español\n",
    "- Conjunto de entrenamiento y de pruebas\n",
    "- Modelo\n",
    "- Entrenamiento\n",
    "- Resultados"
   ],
   "metadata": {
    "collapsed": false,
    "pycharm": {
     "name": "#%% md\n"
    }
   }
  },
  {
   "cell_type": "markdown",
   "source": [
    "## Introducción\n",
    "---"
   ],
   "metadata": {
    "collapsed": false,
    "pycharm": {
     "name": "#%% md\n"
    }
   }
  },
  {
   "cell_type": "markdown",
   "source": [
    "#### Clasificación de texto\n",
    "\n",
    "La clasificación de textos es la tarea de clasificar un documento en una categoría predefinida, es decir, si *d_j* es un documento del conjunto de documentos *D* y *{c_1, c_2, ..., c_n}* es el conjunto de categorías, entonces la clasificación de textos asigna una categoría *c_i* al documento *d_j*. El caso de la detección de noticias falsas se puede resolver como un problema de clasificación de textos, donde a cada noticia *n_i* del conjunto de noticias *N* le asignamos una categoría del conjunto *{true, fake}*.\n",
    "\n",
    "El proceso de clasificación de textos se muestra en la siguiente figura:\n",
    "\n",
    "<img src=\"Imagenes\\proceso_clasificacion_textos.png\" width=\"500\">"
   ],
   "metadata": {
    "collapsed": false,
    "pycharm": {
     "name": "#%% md\n"
    }
   }
  },
  {
   "cell_type": "markdown",
   "source": [
    "#### Objetivo de la libreta\n",
    "\n",
    "El objetivo de esta libreta es mostrar el procesamiento necesario del texto para después ser usado en un clasificador de texto y utilizar distintos métodos para clasificar el texto."
   ],
   "metadata": {
    "collapsed": false,
    "pycharm": {
     "name": "#%% md\n"
    }
   }
  },
  {
   "cell_type": "markdown",
   "source": [
    "## Procesamiento de los datos\n",
    "---"
   ],
   "metadata": {
    "collapsed": false,
    "pycharm": {
     "name": "#%% md\n"
    }
   }
  },
  {
   "cell_type": "markdown",
   "source": [
    "#### Librerías\n",
    "\n",
    "Manipulación de datos:\n",
    "- `pandas`: Librería para manipular los datos de forma tabular.\n",
    "- `numpy`: Librería para la manipulación de datos de forma numérica, vectorial.\n",
    "- `re`: Librería para el uso de expresiones regulares.\n",
    "- `cmd`: Librería para controlar el formato de impresión en la consola.\n",
    "\n",
    "Procesamiento del lenguaje natural:\n",
    "- `nltk`: Librería para utilizar técnicas de procesamiento del lenguaje natural.\n",
    "\n",
    "Presentación de los datos:\n",
    "- `matplotlib`: Librería para graficar.\n",
    "- `seaborn`: Librería auxiliar para graficar.\n",
    "- `wordcloud`: Librería para generar una nube de palabras y guardarla como imagen *.png*.\n",
    "\n",
    "Inteligencia Artificial\n",
    "- `sklearn`: Librería de herramientas para el procesamiento de los datos y creación de modelos para la clasificación del texto."
   ],
   "metadata": {
    "collapsed": false,
    "pycharm": {
     "name": "#%% md\n"
    }
   }
  },
  {
   "cell_type": "code",
   "execution_count": 1,
   "outputs": [],
   "source": [
    "import pandas as pd\n",
    "import numpy as np\n",
    "import matplotlib.pyplot as plt\n",
    "import seaborn as sns\n",
    "import re\n",
    "import nltk\n",
    "\n",
    "from nltk.corpus import stopwords\n",
    "from nltk.stem.snowball import SnowballStemmer\n",
    "\n",
    "from tqdm.notebook import tqdm_notebook\n",
    "\n",
    "from sklearn.naive_bayes import MultinomialNB\n",
    "from sklearn.linear_model import LogisticRegression\n",
    "from sklearn.model_selection import train_test_split\n",
    "from sklearn.feature_extraction.text import TfidfVectorizer\n",
    "from sklearn.metrics import confusion_matrix, classification_report\n",
    "\n",
    "from keras.preprocessing.text import Tokenizer\n",
    "from keras.preprocessing.sequence import pad_sequences\n",
    "from keras.layers import LSTM, Dropout, Dense, Embedding, Bidirectional\n",
    "from keras import Sequential"
   ],
   "metadata": {
    "collapsed": false,
    "pycharm": {
     "name": "#%%\n"
    }
   }
  },
  {
   "cell_type": "markdown",
   "source": [
    "#### Datos adicionales para la librería `nltk`"
   ],
   "metadata": {
    "collapsed": false,
    "pycharm": {
     "name": "#%% md\n"
    }
   }
  },
  {
   "cell_type": "code",
   "execution_count": 2,
   "outputs": [
    {
     "name": "stderr",
     "output_type": "stream",
     "text": [
      "[nltk_data] Downloading package punkt to\n",
      "[nltk_data]     C:\\Users\\JoseLuisAL\\AppData\\Roaming\\nltk_data...\n",
      "[nltk_data]   Package punkt is already up-to-date!\n",
      "[nltk_data] Downloading package stopwords to\n",
      "[nltk_data]     C:\\Users\\JoseLuisAL\\AppData\\Roaming\\nltk_data...\n",
      "[nltk_data]   Package stopwords is already up-to-date!\n"
     ]
    },
    {
     "data": {
      "text/plain": "True"
     },
     "execution_count": 2,
     "metadata": {},
     "output_type": "execute_result"
    }
   ],
   "source": [
    "nltk.download('punkt')\n",
    "nltk.download('stopwords')"
   ],
   "metadata": {
    "collapsed": false,
    "pycharm": {
     "name": "#%%\n"
    }
   }
  },
  {
   "cell_type": "markdown",
   "source": [
    "#### Cargar el corpus"
   ],
   "metadata": {
    "collapsed": false,
    "pycharm": {
     "name": "#%% md\n"
    }
   }
  },
  {
   "cell_type": "code",
   "execution_count": 3,
   "outputs": [
    {
     "data": {
      "text/plain": "  Category     Topic                      Source  \\\n0     True   Science                     El país   \n1     True   Economy               El financiero   \n2     Fake     Sport  actualidadpanamericana.com   \n3     Fake  Politics  actualidadpanamericana.com   \n4     Fake  Politics  actualidadpanamericana.com   \n\n                                            Headline  \\\n0  La NASA recupera el contacto con un satélite d...   \n1  AMLO aceleraría el consumo y el crecimiento ec...   \n2  Compañero de James se ‘calvea’ y le juega pesa...   \n3  Dian gravará este año a los niños que recojan ...   \n4         Uribe asegura que insultó 358 guerrilleros   \n\n                                                Text  \\\n0  La NASA recupera el contacto con un satélite d...   \n1  AMLO aceleraría el consumo y el crecimiento ec...   \n2  Al borde de un colapso nervioso quedó el hábil...   \n3  Mediante pupitrazo de último minuto anoche, el...   \n4  Muy temprano esta mañana el expresidente y aho...   \n\n                                                Link  \n0  https://elpais.com/elpais/2018/02/01/ciencia/1...  \n1  http://www.elfinanciero.com.mx/economia/amlo-a...  \n2  http://www.actualidadpanamericana.com/companer...  \n3  http://www.actualidadpanamericana.com/dian-gra...  \n4  http://www.actualidadpanamericana.com/uribe-as...  ",
      "text/html": "<div>\n<style scoped>\n    .dataframe tbody tr th:only-of-type {\n        vertical-align: middle;\n    }\n\n    .dataframe tbody tr th {\n        vertical-align: top;\n    }\n\n    .dataframe thead th {\n        text-align: right;\n    }\n</style>\n<table border=\"1\" class=\"dataframe\">\n  <thead>\n    <tr style=\"text-align: right;\">\n      <th></th>\n      <th>Category</th>\n      <th>Topic</th>\n      <th>Source</th>\n      <th>Headline</th>\n      <th>Text</th>\n      <th>Link</th>\n    </tr>\n  </thead>\n  <tbody>\n    <tr>\n      <th>0</th>\n      <td>True</td>\n      <td>Science</td>\n      <td>El país</td>\n      <td>La NASA recupera el contacto con un satélite d...</td>\n      <td>La NASA recupera el contacto con un satélite d...</td>\n      <td>https://elpais.com/elpais/2018/02/01/ciencia/1...</td>\n    </tr>\n    <tr>\n      <th>1</th>\n      <td>True</td>\n      <td>Economy</td>\n      <td>El financiero</td>\n      <td>AMLO aceleraría el consumo y el crecimiento ec...</td>\n      <td>AMLO aceleraría el consumo y el crecimiento ec...</td>\n      <td>http://www.elfinanciero.com.mx/economia/amlo-a...</td>\n    </tr>\n    <tr>\n      <th>2</th>\n      <td>Fake</td>\n      <td>Sport</td>\n      <td>actualidadpanamericana.com</td>\n      <td>Compañero de James se ‘calvea’ y le juega pesa...</td>\n      <td>Al borde de un colapso nervioso quedó el hábil...</td>\n      <td>http://www.actualidadpanamericana.com/companer...</td>\n    </tr>\n    <tr>\n      <th>3</th>\n      <td>Fake</td>\n      <td>Politics</td>\n      <td>actualidadpanamericana.com</td>\n      <td>Dian gravará este año a los niños que recojan ...</td>\n      <td>Mediante pupitrazo de último minuto anoche, el...</td>\n      <td>http://www.actualidadpanamericana.com/dian-gra...</td>\n    </tr>\n    <tr>\n      <th>4</th>\n      <td>Fake</td>\n      <td>Politics</td>\n      <td>actualidadpanamericana.com</td>\n      <td>Uribe asegura que insultó 358 guerrilleros</td>\n      <td>Muy temprano esta mañana el expresidente y aho...</td>\n      <td>http://www.actualidadpanamericana.com/uribe-as...</td>\n    </tr>\n  </tbody>\n</table>\n</div>"
     },
     "execution_count": 3,
     "metadata": {},
     "output_type": "execute_result"
    }
   ],
   "source": [
    "corpus = pd.read_csv('Datos/corpus_spanish_v3.csv', encoding='utf-8', index_col=0)\n",
    "corpus.head()"
   ],
   "metadata": {
    "collapsed": false,
    "pycharm": {
     "name": "#%%\n"
    }
   }
  },
  {
   "cell_type": "markdown",
   "source": [
    "#### Palabras vacías o *stopwords*\n",
    "\n",
    "Las *stopwords* o palabras vacías son aquellas que carecen de sentido de manera individual o sin una palabra clave o *keyword*. Se utilizan las *stopwords* proporcionadas por la librería `nltk` en conjunto con las obtenidas del repositorio \"stopwords-es\" del usuario [genediazjr](https://github.com/stopwords-iso/stopwords-es)."
   ],
   "metadata": {
    "collapsed": false,
    "pycharm": {
     "name": "#%% md\n"
    }
   }
  },
  {
   "cell_type": "code",
   "execution_count": 4,
   "outputs": [],
   "source": [
    "stopwords_spanish_nltk = stopwords.words('spanish')\n",
    "stopwords_spanish_json = list(pd.read_json('Datos/stopwords-es.json')[0])\n",
    "\n",
    "stopwords_spanish = list(set(stopwords_spanish_nltk+stopwords_spanish_json))"
   ],
   "metadata": {
    "collapsed": false,
    "pycharm": {
     "name": "#%%\n"
    }
   }
  },
  {
   "cell_type": "markdown",
   "source": [
    "#### *Snowball Stemmer*\n",
    "\n"
   ],
   "metadata": {
    "collapsed": false,
    "pycharm": {
     "name": "#%% md\n"
    }
   }
  },
  {
   "cell_type": "code",
   "execution_count": 5,
   "outputs": [],
   "source": [
    "snowball_stemmer = SnowballStemmer('spanish')"
   ],
   "metadata": {
    "collapsed": false,
    "pycharm": {
     "name": "#%%\n"
    }
   }
  },
  {
   "cell_type": "markdown",
   "source": [
    "#### Procesamiento del texto"
   ],
   "metadata": {
    "collapsed": false,
    "pycharm": {
     "name": "#%% md\n"
    }
   }
  },
  {
   "cell_type": "code",
   "execution_count": 6,
   "outputs": [
    {
     "data": {
      "text/plain": "Procesando el texto:   0%|          | 0/3974 [00:00<?, ?it/s]",
      "application/vnd.jupyter.widget-view+json": {
       "version_major": 2,
       "version_minor": 0,
       "model_id": "15a54764a4314243b53e5d5ed87a20d1"
      }
     },
     "metadata": {},
     "output_type": "display_data"
    }
   ],
   "source": [
    "def process_text(text):\n",
    "    text = re.sub(r\"http\\S+\", \"\", text)\n",
    "    text = re.sub(r\"http\", \"\", text)\n",
    "    text = re.sub(\"\\n\", \" \", text)\n",
    "    text = text.replace(r\"*NUMBER*\", \"número\")\n",
    "    text = text.replace(r\"*PHONE*\", \"número\")\n",
    "    text = text.replace(r\"*EMAIL*\", \"email\")\n",
    "    text = text.replace(r\"*URL*\", \"url\")\n",
    "    text = re.sub('[^ A-Za-z\\dÁÉÍÓÚÑáéíóúñ/]+', ' ', text)\n",
    "    text = text.lower()\n",
    "    text = text.split()\n",
    "    text = [snowball_stemmer.stem(word) for word in text if not word in stopwords_spanish]\n",
    "    text = ' '.join(text)\n",
    "\n",
    "    return text\n",
    "\n",
    "# Separar los datos a utilizar\n",
    "X = corpus['Text']\n",
    "y = corpus['Category']\n",
    "\n",
    "y = y.astype(\"category\").cat.codes\n",
    "\n",
    "# Procesar los textos\n",
    "tqdm_notebook.pandas(desc=\"Procesando el texto\")\n",
    "X = X.progress_apply(process_text)\n",
    "\n",
    "# Convertir los conjuntos a un numpy ndarray\n",
    "X = X.values\n",
    "y = y.values"
   ],
   "metadata": {
    "collapsed": false,
    "pycharm": {
     "name": "#%%\n"
    }
   }
  },
  {
   "cell_type": "markdown",
   "source": [
    "#### Vectorización y características TFIDF"
   ],
   "metadata": {
    "collapsed": false,
    "pycharm": {
     "name": "#%% md\n"
    }
   }
  },
  {
   "cell_type": "code",
   "execution_count": 7,
   "outputs": [],
   "source": [
    "tfidf_vectorizer = TfidfVectorizer()\n",
    "X = tfidf_vectorizer.fit_transform(X).toarray()"
   ],
   "metadata": {
    "collapsed": false,
    "pycharm": {
     "name": "#%%\n"
    }
   }
  },
  {
   "cell_type": "markdown",
   "source": [
    "#### Separación de los conjuntos de datos"
   ],
   "metadata": {
    "collapsed": false,
    "pycharm": {
     "name": "#%% md\n"
    }
   }
  },
  {
   "cell_type": "code",
   "execution_count": 8,
   "outputs": [],
   "source": [
    "X_train, X_test, y_train, y_test = train_test_split(X, y, test_size=0.2, stratify=y, random_state=2021)"
   ],
   "metadata": {
    "collapsed": false,
    "pycharm": {
     "name": "#%%\n"
    }
   }
  },
  {
   "cell_type": "markdown",
   "source": [
    "## Métricas\n",
    "---"
   ],
   "metadata": {
    "collapsed": false,
    "pycharm": {
     "name": "#%% md\n"
    }
   }
  },
  {
   "cell_type": "markdown",
   "source": [
    "#### Matriz de confusión"
   ],
   "metadata": {
    "collapsed": false,
    "pycharm": {
     "name": "#%% md\n"
    }
   }
  },
  {
   "cell_type": "code",
   "execution_count": 9,
   "outputs": [],
   "source": [
    "def plot_confusion_matrix(y_test_values, y_predicted_values, method=''):\n",
    "    cf_matrix = confusion_matrix(y_test_values, y_predicted_values)\n",
    "    group_counts = ['{0:0.0f}'.format(value) for value in cf_matrix.flatten()]\n",
    "    group_percentages = ['{0:.2%}'.format(value) for value in cf_matrix.flatten() / np.sum(cf_matrix)]\n",
    "    labels = [f'{v1}\\n{v2}' for v1, v2 in zip(group_counts, group_percentages)]\n",
    "    labels = np.asarray(labels).reshape(2, 2)\n",
    "\n",
    "    fig, ax = plt.subplots(figsize = (7, 5.5))\n",
    "    sns.heatmap(cf_matrix, annot = labels, ax = ax, fmt = '',cmap = 'Blues', annot_kws = {\"size\": 13})\n",
    "\n",
    "    # Etiquetas, título y ticks\n",
    "    label_font = {'size':'15'}\n",
    "    ax.set_xlabel(' \\nPredicción', fontdict = label_font)\n",
    "    ax.set_ylabel('Valores reales\\n', fontdict = label_font)\n",
    "\n",
    "    title_font = {'size':'16'}\n",
    "    cf_matrix_title = 'Matriz de confusión: ' + method + '\\n'\n",
    "    ax.set_title(cf_matrix_title, fontdict = title_font)\n",
    "\n",
    "    ax.tick_params(axis = 'both', which = 'major', labelsize = 13)\n",
    "    ax.xaxis.set_ticklabels(['Fake', 'Real'])\n",
    "    ax.yaxis.set_ticklabels(['Fake', 'Real'])\n",
    "    plt.show()"
   ],
   "metadata": {
    "collapsed": false,
    "pycharm": {
     "name": "#%%\n"
    }
   }
  },
  {
   "cell_type": "markdown",
   "source": [
    "## Naive Bayes Multinomial\n",
    "---\n"
   ],
   "metadata": {
    "collapsed": false,
    "pycharm": {
     "name": "#%% md\n"
    }
   }
  },
  {
   "cell_type": "markdown",
   "source": [
    "#### Introducción\n",
    "El método blah, blah, blah, blah, blah"
   ],
   "metadata": {
    "collapsed": false,
    "pycharm": {
     "name": "#%% md\n"
    }
   }
  },
  {
   "cell_type": "code",
   "execution_count": 10,
   "outputs": [
    {
     "data": {
      "text/plain": "<Figure size 504x396 with 2 Axes>",
      "image/png": "[encoded data removed]"
     },
     "metadata": {
      "needs_background": "light"
     },
     "output_type": "display_data"
    },
    {
     "name": "stdout",
     "output_type": "stream",
     "text": [
      "              precision    recall  f1-score   support\n",
      "\n",
      "           0       0.90      0.87      0.88       386\n",
      "           1       0.88      0.91      0.89       409\n",
      "\n",
      "    accuracy                           0.89       795\n",
      "   macro avg       0.89      0.89      0.89       795\n",
      "weighted avg       0.89      0.89      0.89       795\n",
      "\n"
     ]
    }
   ],
   "source": [
    "# Modelo ════════════════════════════════════════════════════\n",
    "model_NB = MultinomialNB(alpha=0.5)\n",
    "model_NB.fit(X_train, y_train)\n",
    "\n",
    "# Predicción ════════════════════════════════════════════════\n",
    "y_predicted_NB = model_NB.predict(X_test)\n",
    "\n",
    "# Resultados ════════════════════════════════════════════════\n",
    "# Matriz de confusión\n",
    "plot_confusion_matrix(y_predicted_NB, y_test, 'Naive Bayes')\n",
    "\n",
    "# Reporte de clasificación\n",
    "print(classification_report(y_test, y_predicted_NB))"
   ],
   "metadata": {
    "collapsed": false,
    "pycharm": {
     "name": "#%%\n"
    }
   }
  },
  {
   "cell_type": "markdown",
   "source": [
    "## Regresión Logística\n",
    "---"
   ],
   "metadata": {
    "collapsed": false,
    "pycharm": {
     "name": "#%% md\n"
    }
   }
  },
  {
   "cell_type": "markdown",
   "source": [
    "#### Introducción\n",
    "\n",
    "El método blah, blah, blah, blah, blah"
   ],
   "metadata": {
    "collapsed": false,
    "pycharm": {
     "name": "#%% md\n"
    }
   }
  },
  {
   "cell_type": "code",
   "execution_count": 11,
   "outputs": [
    {
     "data": {
      "text/plain": "<Figure size 504x396 with 2 Axes>",
      "image/png": "[encoded data removed]"
     },
     "metadata": {
      "needs_background": "light"
     },
     "output_type": "display_data"
    },
    {
     "name": "stdout",
     "output_type": "stream",
     "text": [
      "              precision    recall  f1-score   support\n",
      "\n",
      "           0       0.91      0.89      0.90       386\n",
      "           1       0.90      0.91      0.91       409\n",
      "\n",
      "    accuracy                           0.90       795\n",
      "   macro avg       0.90      0.90      0.90       795\n",
      "weighted avg       0.90      0.90      0.90       795\n",
      "\n"
     ]
    }
   ],
   "source": [
    "# Modelo ════════════════════════════════════════════════════\n",
    "model_LR = LogisticRegression(max_iter=2000)\n",
    "model_LR.fit(X_train, y_train)\n",
    "\n",
    "# Predicción ════════════════════════════════════════════════\n",
    "y_predicted_LR = model_LR.predict(X_test)\n",
    "\n",
    "# Resultados ════════════════════════════════════════════════\n",
    "# Matriz de confusión\n",
    "plot_confusion_matrix(y_predicted_LR, y_test, 'Regresión Logística')\n",
    "\n",
    "# Reporte de clasificación\n",
    "print(classification_report(y_test, y_predicted_LR))\n"
   ],
   "metadata": {
    "collapsed": false,
    "pycharm": {
     "name": "#%%\n"
    }
   }
  },
  {
   "cell_type": "markdown",
   "source": [
    "## Red LSTM (Long Short-Term Memory)\n",
    "---"
   ],
   "metadata": {
    "collapsed": false,
    "pycharm": {
     "name": "#%% md\n"
    }
   }
  },
  {
   "cell_type": "markdown",
   "source": [
    "#### Introducción\n",
    "\n",
    "blah, blah, blah, blah..."
   ],
   "metadata": {
    "collapsed": false,
    "pycharm": {
     "name": "#%% md\n"
    }
   }
  },
  {
   "cell_type": "markdown",
   "source": [
    "### Procesar los datos"
   ],
   "metadata": {
    "collapsed": false,
    "pycharm": {
     "name": "#%% md\n"
    }
   }
  },
  {
   "cell_type": "code",
   "execution_count": 12,
   "outputs": [
    {
     "data": {
      "text/plain": "Procesando el texto:   0%|          | 0/3974 [00:00<?, ?it/s]",
      "application/vnd.jupyter.widget-view+json": {
       "version_major": 2,
       "version_minor": 0,
       "model_id": "3f5181ebb7c34a7baea7f319aaf5d780"
      }
     },
     "metadata": {},
     "output_type": "display_data"
    }
   ],
   "source": [
    "# Datos necesarios ══════════════════════════════════════════\n",
    "X_LSTM = corpus['Text']\n",
    "y_LSTM = corpus['Category']\n",
    "\n",
    "y_LSTM = y_LSTM.astype(\"category\").cat.codes\n",
    "\n",
    "# Procesamiento del texto ═══════════════════════════════════\n",
    "tqdm_notebook.pandas(desc=\"Procesando el texto\")\n",
    "X_LSTM = X_LSTM.progress_apply(process_text)\n",
    "\n",
    "# Convertir datos en vectores ═══════════════════════════════\n",
    "X_LSTM = X_LSTM.values\n",
    "y_LSTM = y_LSTM.values"
   ],
   "metadata": {
    "collapsed": false,
    "pycharm": {
     "name": "#%%\n"
    }
   }
  },
  {
   "cell_type": "markdown",
   "source": [
    "### Tokenizar los datos"
   ],
   "metadata": {
    "collapsed": false,
    "pycharm": {
     "name": "#%% md\n"
    }
   }
  },
  {
   "cell_type": "code",
   "execution_count": 13,
   "outputs": [
    {
     "name": "stdout",
     "output_type": "stream",
     "text": [
      "Vocab size: 37431\n"
     ]
    }
   ],
   "source": [
    "# Tokenizador ═══════════════════════════════════════════════\n",
    "tokenizer = Tokenizer()\n",
    "tokenizer.fit_on_texts(X_LSTM)\n",
    "\n",
    "# Vocabulario ═══════════════════════════════════════════════\n",
    "word_index = tokenizer.word_index\n",
    "vocab_size = len(word_index)\n",
    "print(f'Vocab size: {vocab_size}')\n",
    "\n",
    "# Secuencias ════════════════════════════════════════════════\n",
    "sequences = tokenizer.texts_to_sequences(X_LSTM)\n",
    "padded_seq = pad_sequences(sequences, maxlen=300, padding='post', truncating='post')"
   ],
   "metadata": {
    "collapsed": false,
    "pycharm": {
     "name": "#%%\n"
    }
   }
  },
  {
   "cell_type": "markdown",
   "source": [
    "#### Cargar embeddings de palabras en español"
   ],
   "metadata": {
    "collapsed": false,
    "pycharm": {
     "name": "#%% md\n"
    }
   }
  },
  {
   "cell_type": "code",
   "execution_count": 14,
   "outputs": [],
   "source": [
    "word_embeddings_spanish_path = 'Datos/SBW-vectors-300-min5.txt'\n",
    "\n",
    "# Cargar los embeddings ═════════════════════════════════════\n",
    "embedding_index = {}\n",
    "with open(word_embeddings_spanish_path, 'r', encoding=\"utf8\") as file:\n",
    "    file.readline()\n",
    "    for line in file:\n",
    "        values = line.split()\n",
    "        word = values[0]\n",
    "        coefs = np.asarray(values[1:], dtype='float32')\n",
    "        embedding_index[word] = coefs\n",
    "\n",
    "# Matriz de embeddings ══════════════════════════════════════\n",
    "embedding_matrix = np.zeros((vocab_size+1, 300))\n",
    "for word, i in word_index.items():\n",
    "    embedding_vector = embedding_index.get(word)\n",
    "    if embedding_vector is not None:\n",
    "        embedding_matrix[i] = embedding_vector"
   ],
   "metadata": {
    "collapsed": false,
    "pycharm": {
     "name": "#%%\n"
    }
   }
  },
  {
   "cell_type": "markdown",
   "source": [
    "#### Conjunto de entrenamiento y de pruebas"
   ],
   "metadata": {
    "collapsed": false,
    "pycharm": {
     "name": "#%% md\n"
    }
   }
  },
  {
   "cell_type": "code",
   "execution_count": 15,
   "outputs": [],
   "source": [
    "X_train_lstm, X_test_lstm, y_train_lstm, y_test_lstm = train_test_split(padded_seq, y_LSTM, test_size=0.2, stratify=y_LSTM, random_state=2021)"
   ],
   "metadata": {
    "collapsed": false,
    "pycharm": {
     "name": "#%%\n"
    }
   }
  },
  {
   "cell_type": "markdown",
   "source": [
    "#### Modelo"
   ],
   "metadata": {
    "collapsed": false,
    "pycharm": {
     "name": "#%% md\n"
    }
   }
  },
  {
   "cell_type": "code",
   "execution_count": 16,
   "outputs": [
    {
     "name": "stdout",
     "output_type": "stream",
     "text": [
      "Model: \"sequential\"\n",
      "_________________________________________________________________\n",
      " Layer (type)                Output Shape              Param #   \n",
      "=================================================================\n",
      " embedding (Embedding)       (None, None, 300)         11229600  \n",
      "                                                                 \n",
      " dropout (Dropout)           (None, None, 300)         0         \n",
      "                                                                 \n",
      " bidirectional (Bidirectiona  (None, None, 128)        186880    \n",
      " l)                                                              \n",
      "                                                                 \n",
      " bidirectional_1 (Bidirectio  (None, 128)              98816     \n",
      " nal)                                                            \n",
      "                                                                 \n",
      " dropout_1 (Dropout)         (None, 128)               0         \n",
      "                                                                 \n",
      " dense (Dense)               (None, 1)                 129       \n",
      "                                                                 \n",
      "=================================================================\n",
      "Total params: 11,515,425\n",
      "Trainable params: 11,515,425\n",
      "Non-trainable params: 0\n",
      "_________________________________________________________________\n"
     ]
    }
   ],
   "source": [
    "# Modelo ════════════════════════════════════════════════════\n",
    "model_LSTM = Sequential([\n",
    "    Embedding(vocab_size+1, 300, weights=[embedding_matrix], mask_zero=True, trainable=True),\n",
    "    Dropout(0.2),\n",
    "    Bidirectional(LSTM(64, return_sequences=True)),\n",
    "    Bidirectional(LSTM(64)),\n",
    "    Dropout(0.2),\n",
    "    Dense(1, activation='sigmoid')\n",
    "])\n",
    "\n",
    "# Información del modelo ════════════════════════════════════\n",
    "model_LSTM.compile(loss='binary_crossentropy', optimizer='adam', metrics=['acc'])\n",
    "model_LSTM.summary()"
   ],
   "metadata": {
    "collapsed": false,
    "pycharm": {
     "name": "#%%\n"
    }
   }
  },
  {
   "cell_type": "markdown",
   "source": [
    "#### Entrenamiento"
   ],
   "metadata": {
    "collapsed": false,
    "pycharm": {
     "name": "#%% md\n"
    }
   }
  },
  {
   "cell_type": "code",
   "execution_count": 17,
   "outputs": [
    {
     "name": "stdout",
     "output_type": "stream",
     "text": [
      "Epoch 1/10\n",
      "199/199 [==============================] - 39s 102ms/step - loss: 0.3194 - acc: 0.8380 - val_loss: 0.1859 - val_acc: 0.8981\n",
      "Epoch 2/10\n",
      "199/199 [==============================] - 16s 79ms/step - loss: 0.0690 - acc: 0.9767 - val_loss: 0.2274 - val_acc: 0.8981\n",
      "Epoch 3/10\n",
      "199/199 [==============================] - 17s 83ms/step - loss: 0.0075 - acc: 0.9984 - val_loss: 0.2869 - val_acc: 0.9107\n",
      "Epoch 4/10\n",
      "199/199 [==============================] - 16s 82ms/step - loss: 9.7649e-04 - acc: 1.0000 - val_loss: 0.3257 - val_acc: 0.9094\n",
      "Epoch 5/10\n",
      "199/199 [==============================] - 16s 83ms/step - loss: 3.6335e-04 - acc: 1.0000 - val_loss: 0.3482 - val_acc: 0.9107\n",
      "Epoch 6/10\n",
      "199/199 [==============================] - 17s 85ms/step - loss: 1.3265e-04 - acc: 1.0000 - val_loss: 0.3676 - val_acc: 0.9082\n",
      "Epoch 7/10\n",
      "199/199 [==============================] - 17s 85ms/step - loss: 8.1488e-05 - acc: 1.0000 - val_loss: 0.3823 - val_acc: 0.9107\n",
      "Epoch 8/10\n",
      "199/199 [==============================] - 17s 88ms/step - loss: 5.6212e-05 - acc: 1.0000 - val_loss: 0.3977 - val_acc: 0.9132\n",
      "Epoch 9/10\n",
      "199/199 [==============================] - 19s 95ms/step - loss: 4.2615e-05 - acc: 1.0000 - val_loss: 0.4110 - val_acc: 0.9132\n",
      "Epoch 10/10\n",
      "199/199 [==============================] - 18s 91ms/step - loss: 3.8794e-05 - acc: 1.0000 - val_loss: 0.4266 - val_acc: 0.9119\n"
     ]
    }
   ],
   "source": [
    "history = model_LSTM.fit(X_train_lstm,\n",
    "                         y_train_lstm,\n",
    "                         epochs=10,\n",
    "                         batch_size=16,\n",
    "                         validation_data=(X_test_lstm, y_test_lstm),\n",
    "                         verbose=1)"
   ],
   "metadata": {
    "collapsed": false,
    "pycharm": {
     "name": "#%%\n"
    }
   }
  },
  {
   "cell_type": "markdown",
   "source": [
    "#### Resultados"
   ],
   "metadata": {
    "collapsed": false,
    "pycharm": {
     "name": "#%% md\n"
    }
   }
  },
  {
   "cell_type": "code",
   "execution_count": 18,
   "outputs": [
    {
     "data": {
      "text/plain": "<Figure size 504x396 with 2 Axes>",
      "image/png": "[encoded data removed]"
     },
     "metadata": {
      "needs_background": "light"
     },
     "output_type": "display_data"
    },
    {
     "name": "stdout",
     "output_type": "stream",
     "text": [
      "              precision    recall  f1-score   support\n",
      "\n",
      "           0       0.91      0.91      0.91       386\n",
      "           1       0.91      0.92      0.91       409\n",
      "\n",
      "    accuracy                           0.91       795\n",
      "   macro avg       0.91      0.91      0.91       795\n",
      "weighted avg       0.91      0.91      0.91       795\n",
      "\n"
     ]
    }
   ],
   "source": [
    "# Predicción ════════════════════════════════════════════════\n",
    "y_predicted_LSTM = (model_LSTM.predict(X_test_lstm) >= 0.5).astype(int)\n",
    "\n",
    "# Resultados ════════════════════════════════════════════════\n",
    "# Matriz de confusión\n",
    "plot_confusion_matrix(y_predicted_LSTM, y_test_lstm, 'LSTM')\n",
    "\n",
    "# Reporte de clasificación\n",
    "print(classification_report(y_test_lstm, y_predicted_LSTM))"
   ],
   "metadata": {
    "collapsed": false,
    "pycharm": {
     "name": "#%%\n"
    }
   }
  }
 ],
 "metadata": {
  "interpreter": {
   "hash": "be765b5a2c369769a88a742b7eb7588d2febb61fba837c8249a8c161d60a9417"
  },
  "kernelspec": {
   "display_name": "Python 3.10.4 ('virtualenv': venv)",
   "language": "python",
   "name": "python3"
  },
  "language_info": {
   "codemirror_mode": {
    "name": "ipython",
    "version": 3
   },
   "file_extension": ".py",
   "mimetype": "text/x-python",
   "name": "python",
   "nbconvert_exporter": "python",
   "pygments_lexer": "ipython3",
   "version": "3.10.4"
  }
 },
 "nbformat": 4,
 "nbformat_minor": 0
}