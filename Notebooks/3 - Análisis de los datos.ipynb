{
 "cells": [
  {
   "cell_type": "markdown",
   "source": [
    "# 3. Análisis de los datos\n",
    "\n",
    "José Luis Aguilera Luzania"
   ],
   "metadata": {
    "collapsed": false,
    "pycharm": {
     "name": "#%% md\n"
    }
   }
  },
  {
   "cell_type": "markdown",
   "source": [
    "## Contenido\n",
    "\n",
    "**3.1 Introducción**\n",
    "\n",
    "- ¿Qué es la detección de noticias falsas? (*Fake news*)\n",
    "- Objetivo de la libreta\n",
    "\n",
    "**3.2 Análisis de los datos**\n",
    "\n",
    "- Librerías\n",
    "- Datos adicionales para la librería `nltk`\n",
    "- Conjunto de datos\n",
    "- Información del conjunto de datos\n",
    "- ¿Los datos están balanceados?\n",
    "- ¿Cuáles son las fuentes?\n",
    "- ¿Cuál es la cantidad de noticias según el tema?\n",
    "- ¿Cuál es la cantidad de noticias según el tema y categoría?\n",
    "\n",
    "**3.3 Word cloud**\n",
    "\n",
    "- Palabras vacías o *Stopwords* en español\n",
    "- Función para generar *word clouds*\n",
    "- Generación de *word clouds* como un análisis del texto"
   ],
   "metadata": {
    "collapsed": false,
    "pycharm": {
     "name": "#%% md\n"
    }
   }
  },
  {
   "cell_type": "markdown",
   "source": [
    "## 3.1 Introducción\n",
    "\n",
    "**¿Qué es la detección de noticias falsas? (*Fake News*)**\n",
    "La detección de noticias falsas (Fake News) es la tarea de evaluar la veracidad de las afirmaciones en las noticias. Este es un problema crítico en el Procesamiento del Lenguaje Natural (PLN) porque tanto en medios de noticias tradicionales como en medios digitales las Fake News generan un gran impacto social y político en cada individuo. Por ejemplo, la exposición a las Fake News puede generar actitudes de ineficacia, alienación y cinismo hacia ciertos candidatos políticos (Balmas, 2014).\n",
    "\n",
    "**Objetivo de la libreta**\n",
    "El objetivo de esta libreta es conocer mejor los datos, no solo su estructura, también su comportamiento y características para decidir que puede ser útil al momento de resolver el problema de clasificar las noticias."
   ],
   "metadata": {
    "collapsed": false,
    "pycharm": {
     "name": "#%% md\n"
    }
   }
  },
  {
   "cell_type": "markdown",
   "source": [
    "## 3.2 Análisis de los datos\n",
    "\n",
    "**Librerías**\n",
    "\n",
    "Manipulación de datos:\n",
    "- `pandas`: Librería para manipular los datos de forma tabular.\n",
    "- `cmd`: Librería para controlar el formato de impresión en la consola.\n",
    "\n",
    "Procesamiento del lenguaje natural:\n",
    "- `nltk`: Librería para utilizar técnicas de procesamiento del lenguaje natural.\n",
    "\n",
    "Representación de los datos:\n",
    "- `wordcloud`: Librería para generar una nube de palabras y guardarla como imagen *.png*."
   ],
   "metadata": {
    "collapsed": false,
    "pycharm": {
     "name": "#%% md\n"
    }
   }
  },
  {
   "cell_type": "code",
   "execution_count": 1,
   "outputs": [],
   "source": [
    "import pandas as pd\n",
    "import cmd\n",
    "import nltk\n",
    "\n",
    "from nltk.corpus import stopwords\n",
    "from wordcloud import WordCloud"
   ],
   "metadata": {
    "collapsed": false,
    "pycharm": {
     "name": "#%%\n"
    }
   }
  },
  {
   "cell_type": "markdown",
   "source": [
    "**Datos adicionales para la librería `nltk`**"
   ],
   "metadata": {
    "collapsed": false,
    "pycharm": {
     "name": "#%% md\n"
    }
   }
  },
  {
   "cell_type": "code",
   "execution_count": 2,
   "outputs": [
    {
     "name": "stderr",
     "output_type": "stream",
     "text": [
      "[nltk_data] Downloading package punkt to\n",
      "[nltk_data]     C:\\Users\\JoseLuis_AL\\AppData\\Roaming\\nltk_data...\n",
      "[nltk_data]   Package punkt is already up-to-date!\n",
      "[nltk_data] Downloading package stopwords to\n",
      "[nltk_data]     C:\\Users\\JoseLuis_AL\\AppData\\Roaming\\nltk_data...\n",
      "[nltk_data]   Package stopwords is already up-to-date!\n"
     ]
    },
    {
     "data": {
      "text/plain": "True"
     },
     "execution_count": 2,
     "metadata": {},
     "output_type": "execute_result"
    }
   ],
   "source": [
    "nltk.download('punkt')\n",
    "nltk.download('stopwords')"
   ],
   "metadata": {
    "collapsed": false,
    "pycharm": {
     "name": "#%%\n"
    }
   }
  },
  {
   "cell_type": "markdown",
   "source": [
    "**Conjunto de datos**\n",
    "\n",
    "El conjunto de datos se encuentra en el archivo *datos.csv*."
   ],
   "metadata": {
    "collapsed": false,
    "pycharm": {
     "name": "#%% md\n"
    }
   }
  },
  {
   "cell_type": "code",
   "execution_count": 3,
   "outputs": [],
   "source": [
    "df_datos = pd.read_csv('Datos/datos.csv')"
   ],
   "metadata": {
    "collapsed": false,
    "pycharm": {
     "name": "#%%\n"
    }
   }
  },
  {
   "cell_type": "markdown",
   "source": [
    "**Información del conjunto de datos**"
   ],
   "metadata": {
    "collapsed": false,
    "pycharm": {
     "name": "#%% md\n"
    }
   }
  },
  {
   "cell_type": "code",
   "execution_count": 4,
   "outputs": [
    {
     "name": "stdout",
     "output_type": "stream",
     "text": [
      "Noticias, Columnas: (971, 5)\n",
      "Columnas: ['categoria', 'tema', 'fuente', 'encabezado', 'texto']\n",
      "Noticias verdaderas: 480\n",
      "Noticias falsas: 491\n"
     ]
    },
    {
     "data": {
      "text/plain": "   categoria       tema          fuente  \\\n0          0  educación  el ruinaversal   \n1          0  educación     hay noticia   \n2          0  educación  el ruinaversal   \n3          1  educación    el universal   \n4          0  educación          lamula   \n\n                                          encabezado  \\\n0  rae incluira la palabra lady en el diccionario...   \n1               la palabra haiga aceptada por la rae   \n2  yordi rosado escribira y disenara los nuevos l...   \n3  unam capacitara a maestros para aprobar prueba...   \n4  pretenden aprobar libros escolares con conteni...   \n\n                                               texto  \n0  rae incluira la palabra lady en el diccionario...  \n1  la palabra haiga aceptada por la rae la real a...  \n2  yordi rosado escribira y disenara los nuevos l...  \n3  unam capacitara a maestros para aprobar prueba...  \n4  alerta pretenden aprobar libros escolares con ...  ",
      "text/html": "<div>\n<style scoped>\n    .dataframe tbody tr th:only-of-type {\n        vertical-align: middle;\n    }\n\n    .dataframe tbody tr th {\n        vertical-align: top;\n    }\n\n    .dataframe thead th {\n        text-align: right;\n    }\n</style>\n<table border=\"1\" class=\"dataframe\">\n  <thead>\n    <tr style=\"text-align: right;\">\n      <th></th>\n      <th>categoria</th>\n      <th>tema</th>\n      <th>fuente</th>\n      <th>encabezado</th>\n      <th>texto</th>\n    </tr>\n  </thead>\n  <tbody>\n    <tr>\n      <th>0</th>\n      <td>0</td>\n      <td>educación</td>\n      <td>el ruinaversal</td>\n      <td>rae incluira la palabra lady en el diccionario...</td>\n      <td>rae incluira la palabra lady en el diccionario...</td>\n    </tr>\n    <tr>\n      <th>1</th>\n      <td>0</td>\n      <td>educación</td>\n      <td>hay noticia</td>\n      <td>la palabra haiga aceptada por la rae</td>\n      <td>la palabra haiga aceptada por la rae la real a...</td>\n    </tr>\n    <tr>\n      <th>2</th>\n      <td>0</td>\n      <td>educación</td>\n      <td>el ruinaversal</td>\n      <td>yordi rosado escribira y disenara los nuevos l...</td>\n      <td>yordi rosado escribira y disenara los nuevos l...</td>\n    </tr>\n    <tr>\n      <th>3</th>\n      <td>1</td>\n      <td>educación</td>\n      <td>el universal</td>\n      <td>unam capacitara a maestros para aprobar prueba...</td>\n      <td>unam capacitara a maestros para aprobar prueba...</td>\n    </tr>\n    <tr>\n      <th>4</th>\n      <td>0</td>\n      <td>educación</td>\n      <td>lamula</td>\n      <td>pretenden aprobar libros escolares con conteni...</td>\n      <td>alerta pretenden aprobar libros escolares con ...</td>\n    </tr>\n  </tbody>\n</table>\n</div>"
     },
     "execution_count": 4,
     "metadata": {},
     "output_type": "execute_result"
    }
   ],
   "source": [
    "# Información del dataframe.\n",
    "print(f'Noticias, Columnas: {df_datos.shape}')\n",
    "print(f'Columnas: {list(df_datos.columns)}')\n",
    "print('Noticias verdaderas: {}'.format(df_datos.groupby('categoria').size()[0]))\n",
    "print('Noticias falsas: {}'    .format(df_datos.groupby('categoria').size()[1]))\n",
    "\n",
    "# Primeros elementos del dataframe.\n",
    "df_datos.head()"
   ],
   "metadata": {
    "collapsed": false,
    "pycharm": {
     "name": "#%%\n"
    }
   }
  },
  {
   "cell_type": "markdown",
   "source": [
    "**¿Los datos están balanceados?**"
   ],
   "metadata": {
    "collapsed": false,
    "pycharm": {
     "name": "#%% md\n"
    }
   }
  },
  {
   "cell_type": "code",
   "execution_count": 5,
   "outputs": [
    {
     "data": {
      "text/plain": "<Figure size 720x432 with 1 Axes>",
      "image/png": "[encoded data removed]"
     },
     "metadata": {
      "needs_background": "light"
     },
     "output_type": "display_data"
    }
   ],
   "source": [
    "# Colores.\n",
    "color_verdaderas = '#0095e9'\n",
    "color_falsas = '#3a4466'\n",
    "\n",
    "# Separar el número de noticias verdaderas.\n",
    "df_categoria_verdadera = df_datos[df_datos['categoria'] == 1]\n",
    "df_categoria_verdadera = pd.DataFrame.from_dict(\n",
    "    dict(df_categoria_verdadera.groupby('categoria').size()),\n",
    "    orient='index',\n",
    "    columns=['Noticias verdaderas'])\n",
    "\n",
    "# Separar el número de noticias falsas.\n",
    "df_categoria_falsa = df_datos[df_datos['categoria'] == 0]\n",
    "df_categoria_falsa = pd.DataFrame.from_dict(\n",
    "    dict(df_categoria_falsa.groupby('categoria').size()),\n",
    "    orient='index',\n",
    "    columns=['Noticias falsas'])\n",
    "\n",
    "# Unir las noticias verdaderas y las noticias falsas.\n",
    "df_categoria = pd.concat([df_categoria_verdadera, df_categoria_falsa], axis=1)\n",
    "\n",
    "# Plot.\n",
    "categorias_plot = df_categoria.plot(kind='bar', figsize=(10, 6), fontsize=11, color=[color_verdaderas, color_falsas])\n",
    "categorias_plot.set_title('Noticias - categoría', fontsize=20)\n",
    "categorias_plot.set_xlabel('Categoría', fontsize=15)\n",
    "categorias_plot.set_ylabel('Noticias', fontsize=15)\n",
    "categorias_plot.figure.savefig('Plots/Noticias-Caregoría.png')"
   ],
   "metadata": {
    "collapsed": false,
    "pycharm": {
     "name": "#%%\n"
    }
   }
  },
  {
   "cell_type": "markdown",
   "source": [
    "Los datos se encuentran balanceados respecto a la categoría como se describió en libreta \"*1. Introducción a los datos*\" porque se recolectó un par Verdadera-Falsa en cada evento."
   ],
   "metadata": {
    "collapsed": false,
    "pycharm": {
     "name": "#%% md\n"
    }
   }
  },
  {
   "cell_type": "markdown",
   "source": [
    "**¿Cuáles son las fuentes?**\n",
    "\n",
    "Para intentar obtener las fuentes se realizan estos pasos:\n",
    "1. Obtener todos los valores de la columna *fuente*.\n",
    "2. Eliminar todas las fuentes repetidas.\n",
    "3. Imprimir las fuentes."
   ],
   "metadata": {
    "collapsed": false,
    "pycharm": {
     "name": "#%% md\n"
    }
   }
  },
  {
   "cell_type": "code",
   "execution_count": 6,
   "outputs": [
    {
     "name": "stdout",
     "output_type": "stream",
     "text": [
      "20 minutos                 el economista            hola mexico            opinion                \n",
      "abc                        el espectador            http www2 esmas com    pan tweet              \n",
      "abc el recreo              el financiero            huffpost               parabolica             \n",
      "abc noticias               el grafico               inciclopedia           people en espanol      \n",
      "abc sociedad               el heraldo               info bae               playgroundmag          \n",
      "actualidad rt              el librero de gutenberg  jornada                proceso                \n",
      "alerta digital             el manana                konbini                publimetro             \n",
      "animal politico            el manana global         la jornada             quien                  \n",
      "anonymous azteca           el milenio               la nacion              radio formula          \n",
      "argumento politico         el mundo                 la neta virtual        razon                  \n",
      "aristegui noticias         el mundo today           la opinion             record                 \n",
      "azteca deporte             el nuevo dia             la otra opinion        resumen latinoamericano\n",
      "bbc                        el pais                  la parada digital      retroceso              \n",
      "bbc news                   el ruinaversal           la prensa              rey misterios          \n",
      "billboard                  el sol de mexico         la red 21              sabor a merengue       \n",
      "caracol radio              el universal             la vanguardia          sdp noticias           \n",
      "caras                      elle                     la verdad es           sdpnoticias            \n",
      "carlosagaton blogspot com  enpareja com             la voz popular         sin embargo            \n",
      "censura 0                  es diario                lamula                 su medico              \n",
      "clarin                     espn                     lo que calla la tv     telemundo              \n",
      "cnn en espanol             excelsior                los replicantes        televisa deporte       \n",
      "cnn espanol                exclusivas puebla        marca                  texto noticias         \n",
      "cnnespanol                 expansion                medio tiempo           the new york times     \n",
      "criterio universal         facebook el senor lopez  mediterraneo digital   tiempo                 \n",
      "cuba debate                facebook unico noticias  merca2 0               tiempo digital         \n",
      "denuncias mx               fifa                     milenio                todo informe           \n",
      "denunciasmx com            fisgon politico          modo noticia           tribuna noticias       \n",
      "diario cambio              forbes                   modonoticia            tv notas               \n",
      "diario de ibiza            frentes politicos        muy interesante        twitter                \n",
      "diario del huila           grandes medios           mvs noticias           twitter calderon       \n",
      "dos mundos                 grupo formula            nacion unida           twitter rafael ramirez \n",
      "eco portal                 hay noticia              nacion321              twitter ricardo aleman \n",
      "eje central                heraldo                  news week espanol      twitter simmsa         \n",
      "el buen tono               heraldo de mexico        newsner                universo deportivo     \n",
      "el clarin                  hipertextual             nippon                 uno cero               \n",
      "el coleccionista de datos  hispantv                 noticieros televisa    voz del sur            \n",
      "el dizque                  hola                     novedades quitana roo\n"
     ]
    }
   ],
   "source": [
    "# Paso 1.\n",
    "fuentes_ls = df_datos['fuente'].to_list()\n",
    "\n",
    "# Paso 2.\n",
    "fuentes_ls = list(sorted(set(fuentes_ls)))\n",
    "\n",
    "# Paso 3.\n",
    "cli = cmd.Cmd()\n",
    "cli.columnize(fuentes_ls, displaywidth=110)"
   ],
   "metadata": {
    "collapsed": false,
    "pycharm": {
     "name": "#%%\n"
    }
   }
  },
  {
   "cell_type": "markdown",
   "source": [
    "**¿Cuál es la cantidad de noticias según el tema?**\n",
    "\n",
    "El conjunto de datos cuenta con 9 temas, para observar como se encuentran distribuidas las noticias según el tema es necesario hacer lo siguiente:\n",
    "\n",
    "1. Contar todas las noticias y separarlas en un nuevo *dataframe*.\n",
    "2. Graficar el nuevo *dataframe* utilizando un diagrama de barras."
   ],
   "metadata": {
    "collapsed": false,
    "pycharm": {
     "name": "#%% md\n"
    }
   }
  },
  {
   "cell_type": "code",
   "execution_count": 7,
   "outputs": [
    {
     "data": {
      "text/plain": "<Figure size 720x432 with 1 Axes>",
      "image/png": "[encoded data removed]"
     },
     "metadata": {
      "needs_background": "light"
     },
     "output_type": "display_data"
    }
   ],
   "source": [
    "# Paso 1.\n",
    "df_datos_temas = pd.DataFrame.from_dict(\n",
    "    dict(df_datos.groupby('tema').size()),\n",
    "    orient='index',\n",
    "    columns=['Noticias'])\n",
    "\n",
    "# Paso 2.\n",
    "color = '#0095e9'\n",
    "\n",
    "temas_plot = df_datos_temas.plot(kind='bar', figsize=(10, 6), fontsize=10, color=[color])\n",
    "temas_plot.set_title('Noticias - Tema', fontsize=20)\n",
    "temas_plot.set_xlabel('Temas', fontsize=15)\n",
    "temas_plot.set_ylabel('Noticias', fontsize=15)\n",
    "temas_plot.figure.savefig('Plots/Noticias-Temas.png')"
   ],
   "metadata": {
    "collapsed": false,
    "pycharm": {
     "name": "#%%\n"
    }
   }
  },
  {
   "cell_type": "code",
   "execution_count": 8,
   "outputs": [
    {
     "data": {
      "text/plain": "política           323\nentretenimiento    148\nsociedad           134\ndeportes           124\nciencia             89\nsalud               46\neconomía            43\nseguridad           42\neducación           22\nName: tema, dtype: int64"
     },
     "execution_count": 8,
     "metadata": {},
     "output_type": "execute_result"
    }
   ],
   "source": [
    "df_noticias_temas = df_datos['tema'].value_counts()\n",
    "df_noticias_temas"
   ],
   "metadata": {
    "collapsed": false,
    "pycharm": {
     "name": "#%%\n"
    }
   }
  },
  {
   "cell_type": "markdown",
   "source": [
    "**¿Cuál es la cantidad de noticias según el tema y la categoría?**\n",
    "\n",
    "Para obtener la cantidad de las noticias falsas y verdaderas se deben seguir los siguientes pasos:\n",
    "\n",
    "1. Separar las noticias con categoría verdadera.\n",
    "2. Generar un diccionario de las noticias agrupadas por tema.\n",
    "3. Generar un *dataframe* a partir del diccionario.\n",
    "4. Repetir los tres pasos anteriores para la categoría de noticias falsas.\n",
    "5. Unir los dos *dataframe* resultantes.\n",
    "6. Graficar el *dataframe* resultado."
   ],
   "metadata": {
    "collapsed": false,
    "pycharm": {
     "name": "#%% md\n"
    }
   }
  },
  {
   "cell_type": "code",
   "execution_count": 9,
   "outputs": [
    {
     "data": {
      "text/plain": "<Figure size 720x432 with 1 Axes>",
      "image/png": "[encoded data removed]"
     },
     "metadata": {
      "needs_background": "light"
     },
     "output_type": "display_data"
    }
   ],
   "source": [
    "# CATEGORÍA: VERDADERAS.\n",
    "# Paso 1, 2 y 3.\n",
    "df_verdaderas = df_datos[df_datos['categoria'] == 1]\n",
    "df_verdaderas = pd.DataFrame.from_dict(\n",
    "    dict(df_verdaderas.groupby('tema').size()),\n",
    "    orient='index',\n",
    "    columns=['Noticias Verdaderas'])\n",
    "\n",
    "# CATEGORÍA: FALSAS.\n",
    "# Paso 1, 2 y 3.\n",
    "df_falsas = df_datos[df_datos['categoria'] == 0]\n",
    "df_falsas = pd.DataFrame.from_dict(\n",
    "    dict(df_falsas.groupby('tema').size()),\n",
    "    orient='index',\n",
    "    columns=['Noticias Falsas'])\n",
    "\n",
    "# Paso 5.\n",
    "df_total_noticias = pd.concat([df_verdaderas, df_falsas], axis=1)\n",
    "\n",
    "# Paso 6.\n",
    "color_verdaderas = '#0095e9'\n",
    "color_falsas = '#3a4466'\n",
    "\n",
    "total_noticias_plot = df_total_noticias.plot(kind='bar', figsize=(10, 6), fontsize=11, color=[color_verdaderas, color_falsas])\n",
    "total_noticias_plot.set_title('Noticias - Tema y Categoría', fontsize=20)\n",
    "total_noticias_plot.set_xlabel('Temas', fontsize=15)\n",
    "total_noticias_plot.set_ylabel('Noticias', fontsize=15)\n",
    "total_noticias_plot.figure.savefig('Plots/Noticias-Temas-Categoria.png')"
   ],
   "metadata": {
    "collapsed": false,
    "pycharm": {
     "name": "#%%\n"
    }
   }
  },
  {
   "cell_type": "markdown",
   "source": [
    "**El sesgo de los datos**\n",
    "\n",
    "Como se observa en la gráfica anterior, la cantidad de noticias sobre política es mayor a la cantidad de los otros temas, esto implica que nuestros modelos serán mejor clasificando noticias sobre política que de cualquier otro tema.\n"
   ],
   "metadata": {
    "collapsed": false,
    "pycharm": {
     "name": "#%% md\n"
    }
   }
  },
  {
   "cell_type": "markdown",
   "source": [
    "## 3.3 Word Cloud\n",
    "\n",
    "*Word Cloud* es una representación visual de las palabras que forman un texto, donde el tamaño es mayor para las palabras que aparecen con más frecuencia.\n",
    "\n",
    "**Palabras vacías o *stopwords* en español**\n",
    "\n",
    "Las *stopwords* o palabras vacías son aquellas que carecen de sentido de manera individual o sin una palabra clave o *keyword*. Algunos ejemplos son: el, la, ellos, ustedes, para, ser, etc.\n",
    "\n",
    "Se utilizan las *stopwords* proporcionadas por la librería `nltk` en conjunto con las obtenidas del repositorio \"stopwords-es\" del usuario [genediazjr](https://github.com/stopwords-iso/stopwords-es)"
   ],
   "metadata": {
    "collapsed": false,
    "pycharm": {
     "name": "#%% md\n"
    }
   }
  },
  {
   "cell_type": "code",
   "execution_count": 10,
   "outputs": [],
   "source": [
    "# Obtener las stopwords.\n",
    "stopwords_spanish_nltk = stopwords.words('spanish')\n",
    "stopwords_spanish_json = list(pd.read_json('Datos/stopwords-es.json')[0])\n",
    "\n",
    "# Se concatenan las stopwords, se crea un set para eliminar repetidos y sé genera una lista.\n",
    "stopwords_spanish = list(set(stopwords_spanish_nltk+stopwords_spanish_json))\n",
    "\n",
    "# Se agrega la stopword 'NUMBER', debido a que no aporta nada a los datos para el análisis.\n",
    "stopwords_spanish.append('number')"
   ],
   "metadata": {
    "collapsed": false,
    "pycharm": {
     "name": "#%%\n"
    }
   }
  },
  {
   "cell_type": "markdown",
   "source": [
    "**Función para generar *word clouds***"
   ],
   "metadata": {
    "collapsed": false,
    "pycharm": {
     "name": "#%% md\n"
    }
   }
  },
  {
   "cell_type": "code",
   "execution_count": 11,
   "outputs": [],
   "source": [
    "def generar_word_cloud(datos, nombre_archivo, stopwords_ls=None, categoria='todas', tema='todas'):\n",
    "    \"\"\"\n",
    "    Input:\n",
    "        datos: DataFrame que contiene las noticias.\n",
    "        categoria: Categoría a utilizar para los datos (True o Fake).\n",
    "        tema: Tema de las noticias.\n",
    "        nombre_archivo: nombre del archivo donde se guardará la nube de palabras.\n",
    "    \"\"\"\n",
    "\n",
    "    # Guardamos las noticias según la categoría.\n",
    "    df = datos if categoria == 'todas' else datos[datos['categoria'] == categoria]\n",
    "\n",
    "    # Guardamos las noticias según el tema.\n",
    "    if tema != 'todas': df = df[df['tema'] == tema]\n",
    "\n",
    "    # Removemos las columnas que no son necesarias.\n",
    "    df = df[['texto']]\n",
    "\n",
    "    # Imprimiremos la información de los datos utilizados.\n",
    "    categoria_str = 'verdaderas' if categoria == 1 else 'falsas'\n",
    "    print(f'NOTICIAS [{tema.upper()}] {categoria_str.upper()}: {df.shape[0]}')\n",
    "\n",
    "    # Generamos una lista con todos los textos.\n",
    "    news_ls = [w for w in df['texto']]\n",
    "\n",
    "    # Generamos un objeto str con la lista de textos (concatenamos los textos).\n",
    "    news_str = ' '.join(news_ls)\n",
    "\n",
    "    # Crear un tokenizer que separe solo las palabras.\n",
    "    tokenizer = nltk.RegexpTokenizer(r'\\w+')\n",
    "\n",
    "    # Tokenizar las palabras.\n",
    "    words = tokenizer.tokenize(news_str)\n",
    "\n",
    "    # Eliminar las stopwords.\n",
    "    if stopwords_ls is None:\n",
    "        stopwords_ls = []\n",
    "\n",
    "    words_content = [w for w in words if w.lower() not in stopwords_ls]\n",
    "\n",
    "    # Obtener la frequencia de las palabras de contenido sin las stopwords.\n",
    "    words_content_freq = nltk.FreqDist(words_content)\n",
    "    words_content_freq_dict = dict(words_content_freq)\n",
    "\n",
    "    # Crear el word cloud.\n",
    "    word_cloud = WordCloud(collocations = False, background_color = 'white', width=1000, height=1000).fit_words(words_content_freq_dict)\n",
    "\n",
    "    # Guardarlo en un archivo.\n",
    "    word_cloud.to_file(nombre_archivo)\n",
    "\n",
    "    return None"
   ],
   "metadata": {
    "collapsed": false,
    "pycharm": {
     "name": "#%%\n"
    }
   }
  },
  {
   "cell_type": "markdown",
   "source": [
    "**Generación de *word clouds* como un análisis del texto**"
   ],
   "metadata": {
    "collapsed": false,
    "pycharm": {
     "name": "#%% md\n"
    }
   }
  },
  {
   "cell_type": "code",
   "execution_count": 12,
   "outputs": [
    {
     "name": "stdout",
     "output_type": "stream",
     "text": [
      "NOTICIAS [TODAS] VERDADERAS: 491\n",
      "NOTICIAS [TODAS] FALSAS: 480\n",
      "NOTICIAS [ENTRETENIMIENTO] VERDADERAS: 70\n",
      "NOTICIAS [ENTRETENIMIENTO] FALSAS: 78\n",
      "NOTICIAS [SALUD] VERDADERAS: 23\n",
      "NOTICIAS [SALUD] FALSAS: 23\n"
     ]
    }
   ],
   "source": [
    "word_cloud_dir = 'Word-Cloud/'\n",
    "verdaderas = 1\n",
    "falsas = 0\n",
    "\n",
    "# Word Cloud de todas las noticias.\n",
    "generar_word_cloud(df_datos, word_cloud_dir + 'wc_verdaderas.png', stopwords_spanish, verdaderas, 'todas')\n",
    "generar_word_cloud(df_datos, word_cloud_dir + 'wc_falsas.png', stopwords_spanish, falsas, 'todas')\n",
    "\n",
    "# Word Cloud de las noticias de entretenimiento.\n",
    "generar_word_cloud(df_datos, word_cloud_dir + 'wc_verdaderas_entretenimiento.png', stopwords_spanish, verdaderas, 'entretenimiento')\n",
    "generar_word_cloud(df_datos, word_cloud_dir + 'wc_falsas_entretenimiento.png', stopwords_spanish, falsas, 'entretenimiento')\n",
    "\n",
    "# Word Cloud de las noticias de salud.\n",
    "generar_word_cloud(df_datos, word_cloud_dir + 'wc_verdaderas_salud.png', stopwords_spanish, verdaderas, 'salud')\n",
    "generar_word_cloud(df_datos, word_cloud_dir + 'wc_falsas_salud.png', stopwords_spanish, falsas, 'salud')"
   ],
   "metadata": {
    "collapsed": false,
    "pycharm": {
     "name": "#%%\n"
    }
   }
  },
  {
   "cell_type": "markdown",
   "source": [
    "***Word cloud* de todas las noticias verdaderas**\n",
    "<img src=\"Word-Cloud/wc_verdaderas.png\" class=\"center\" width=\"300\" height=\"300\">\n",
    "\n",
    "***Word cloud* de todas las noticias falsas**\n",
    "<img src=\"Word-Cloud/wc_falsas.png\" class=\"center\" width=\"300\" height=\"300\">\n",
    "\n",
    "***Word cloud* de todas las noticias verdaderas de entretenimiento**\n",
    "<img src=\"Word-Cloud/wc_verdaderas_entretenimiento.png\" class=\"center\" width=\"300\" height=\"300\">\n",
    "\n",
    "***Word cloud* de todas las noticias falsas de salud**\n",
    "<img src=\"Word-Cloud/wc_falsas_salud.png\" class=\"center\" width=\"300\" height=\"300\">"
   ],
   "metadata": {
    "collapsed": false,
    "pycharm": {
     "name": "#%% md\n"
    }
   }
  }
 ],
 "metadata": {
  "kernelspec": {
   "display_name": "Python 3",
   "language": "python",
   "name": "python3"
  },
  "language_info": {
   "codemirror_mode": {
    "name": "ipython",
    "version": 2
   },
   "file_extension": ".py",
   "mimetype": "text/x-python",
   "name": "python",
   "nbconvert_exporter": "python",
   "pygments_lexer": "ipython2",
   "version": "2.7.6"
  }
 },
 "nbformat": 4,
 "nbformat_minor": 0
}