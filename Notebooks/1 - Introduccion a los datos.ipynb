{
 "cells": [
  {
   "cell_type": "markdown",
   "id": "51d0b164-a700-4adf-a4f4-780f517075dc",
   "metadata": {
    "pycharm": {
     "name": "#%% md\n"
    },
    "tags": []
   },
   "source": [
    "# 1. Introducción a los datos"
   ]
  },
  {
   "cell_type": "markdown",
   "metadata": {
    "collapsed": false,
    "pycharm": {
     "name": "#%% md\n"
    }
   },
   "source": [
    "## Contenido\n",
    "---\n",
    "\n",
    "**Introducción**\n",
    "- ¿Qué es la detección de noticias falsas? (*Fake news*).\n",
    "- Objetivo de la libreta.\n",
    "\n",
    "**Información de los datos**\n",
    "- Información general.\n",
    "- Temas de las noticias.\n",
    "- Estructura de los datos.\n",
    "\n",
    "**Análisis de los datos**\n",
    "- Librerías.\n",
    "- Cargar los datos.\n",
    "- Información de los datos.\n",
    "- ¿Cuáles son las fuentes?\n",
    "- Eliminar fuentes repetidas.\n",
    "- Procesar todas las fuentes.\n",
    "- La importancia de limpiar los datos."
   ]
  },
  {
   "cell_type": "markdown",
   "metadata": {
    "collapsed": false,
    "pycharm": {
     "name": "#%% md\n"
    }
   },
   "source": [
    "## Introducción\n",
    "---"
   ]
  },
  {
   "cell_type": "markdown",
   "source": [
    "#### ¿Qué es la detección de *Fake News*?\n",
    "\n",
    "La detección de *Fake News* (noticias falsas) es la tarea de evaluar la veracidad de las afirmaciones en las noticias. Este es un problema crítico en el Procesamiento del Lenguaje Natural (PLN) porque tanto en medios de noticias tradicionales como en medios digitales las *Fake News* generan un gran impacto social y político en cada individuo. Por ejemplo, la exposición a las *Fake News* puede generar actitudes de ineficacia, alienación y cinismo hacia ciertos candidatos políticos (Balmas, 2014)."
   ],
   "metadata": {
    "collapsed": false,
    "pycharm": {
     "name": "#%% md\n"
    }
   }
  },
  {
   "cell_type": "markdown",
   "source": [
    "#### Objetivo de la libreta\n",
    "\n",
    "El objetivo de esta libreta es proporcionar un análisis de los datos, su estructura e información básica."
   ],
   "metadata": {
    "collapsed": false,
    "pycharm": {
     "name": "#%% md\n"
    }
   }
  },
  {
   "cell_type": "markdown",
   "source": [
    "## Información de los datos\n",
    "---"
   ],
   "metadata": {
    "collapsed": false,
    "pycharm": {
     "name": "#%% md\n"
    }
   }
  },
  {
   "cell_type": "markdown",
   "source": [
    "#### Información general\n",
    "\n",
    "Los datos son una recopilación de noticias extraídas de distintas fuentes por el usuario en Github [pipe11](https://github.com/pipe11/TFM_fake_news_detector),\n",
    "los datos contienen en total 3974 artículos en español, distribuidos en 2046 *True News* y 1918 *Fake News*. Utilizando la estructura propuesta por [J.P. Posadas](https://github.com/jpposadas/FakeNewsCorpusSpanish).\n",
    "\n",
    "Las fuentes originales de los datos son:\n",
    "1. [jpposadas - FakeNewsCorpusSpanish](https://github.com/jpposadas/FakeNewsCorpusSpanish): 971 noticias.\n",
    "2. [several127 - FakeNewsCorpus](https://github.com/several27/FakeNewsCorpus): 9,408,908 artículos, la mayoría en inglés.\n",
    "3. [WebHouse Dataset](https://webz.io/free-datasets/spanish-news-articles/): 342,000 artículos en español.\n",
    "\n",
    "Para obtener el conjunto de datos final se requirió:\n",
    "1. Filtrar todas las noticias en español de la fuente 2.\n",
    "2. Clasificar la noticia según su tema.\n",
    "3. Clasificar las noticias como *True* o *Fake* usando un clasificador basado en los datos de J.P. Posadas.\n",
    "\n",
    "#### Temas de las noticias\n",
    "\n",
    "El *corpus* cubre noticias de 9 temas diferentes.\n",
    "\n",
    "1. Ciencia.\n",
    "2. Deportes.\n",
    "3. Economía.\n",
    "4. Entretenimiento.\n",
    "5. Educación.\n",
    "6. Política.\n",
    "7. Salud.\n",
    "8. Seguridad.\n",
    "9. Sociedad\n",
    "\n",
    "#### Estructura de los datos\n",
    "\n",
    "- Id: Identificador de cada instancia.\n",
    "- Category: Categoría de la noticia (True o False).\n",
    "- Topic: Tema relacionado con la noticia.\n",
    "- Source: Nombre de la fuente.\n",
    "- Headline: Titulo de la noticia.\n",
    "- Text: Texto de la noticia\t.\n",
    "- Link: URL de la fuente.\n"
   ],
   "metadata": {
    "collapsed": false,
    "pycharm": {
     "name": "#%% md\n"
    }
   }
  },
  {
   "cell_type": "markdown",
   "metadata": {
    "collapsed": false,
    "pycharm": {
     "name": "#%% md\n"
    }
   },
   "source": [
    "## Análisis de los datos\n",
    "---"
   ]
  },
  {
   "cell_type": "markdown",
   "source": [
    "#### Librerías"
   ],
   "metadata": {
    "collapsed": false,
    "pycharm": {
     "name": "#%% md\n"
    }
   }
  },
  {
   "cell_type": "code",
   "execution_count": 1,
   "metadata": {
    "collapsed": false,
    "pycharm": {
     "name": "#%%\n"
    }
   },
   "outputs": [],
   "source": [
    "import pandas as pd\n",
    "import cmd\n",
    "import unidecode\n",
    "import re"
   ]
  },
  {
   "cell_type": "markdown",
   "metadata": {
    "collapsed": false,
    "pycharm": {
     "name": "#%% md\n"
    }
   },
   "source": [
    "#### Cargar los datos"
   ]
  },
  {
   "cell_type": "code",
   "execution_count": 2,
   "metadata": {
    "collapsed": false,
    "pycharm": {
     "name": "#%%\n"
    }
   },
   "outputs": [
    {
     "data": {
      "text/plain": "  Category     Topic                      Source  \\\n0     True   Science                     El país   \n1     True   Economy               El financiero   \n2     Fake     Sport  actualidadpanamericana.com   \n3     Fake  Politics  actualidadpanamericana.com   \n4     Fake  Politics  actualidadpanamericana.com   \n\n                                            Headline  \\\n0  La NASA recupera el contacto con un satélite d...   \n1  AMLO aceleraría el consumo y el crecimiento ec...   \n2  Compañero de James se ‘calvea’ y le juega pesa...   \n3  Dian gravará este año a los niños que recojan ...   \n4         Uribe asegura que insultó 358 guerrilleros   \n\n                                                Text  \\\n0  La NASA recupera el contacto con un satélite d...   \n1  AMLO aceleraría el consumo y el crecimiento ec...   \n2  Al borde de un colapso nervioso quedó el hábil...   \n3  Mediante pupitrazo de último minuto anoche, el...   \n4  Muy temprano esta mañana el expresidente y aho...   \n\n                                                Link  \n0  https://elpais.com/elpais/2018/02/01/ciencia/1...  \n1  http://www.elfinanciero.com.mx/economia/amlo-a...  \n2  http://www.actualidadpanamericana.com/companer...  \n3  http://www.actualidadpanamericana.com/dian-gra...  \n4  http://www.actualidadpanamericana.com/uribe-as...  ",
      "text/html": "<div>\n<style scoped>\n    .dataframe tbody tr th:only-of-type {\n        vertical-align: middle;\n    }\n\n    .dataframe tbody tr th {\n        vertical-align: top;\n    }\n\n    .dataframe thead th {\n        text-align: right;\n    }\n</style>\n<table border=\"1\" class=\"dataframe\">\n  <thead>\n    <tr style=\"text-align: right;\">\n      <th></th>\n      <th>Category</th>\n      <th>Topic</th>\n      <th>Source</th>\n      <th>Headline</th>\n      <th>Text</th>\n      <th>Link</th>\n    </tr>\n  </thead>\n  <tbody>\n    <tr>\n      <th>0</th>\n      <td>True</td>\n      <td>Science</td>\n      <td>El país</td>\n      <td>La NASA recupera el contacto con un satélite d...</td>\n      <td>La NASA recupera el contacto con un satélite d...</td>\n      <td>https://elpais.com/elpais/2018/02/01/ciencia/1...</td>\n    </tr>\n    <tr>\n      <th>1</th>\n      <td>True</td>\n      <td>Economy</td>\n      <td>El financiero</td>\n      <td>AMLO aceleraría el consumo y el crecimiento ec...</td>\n      <td>AMLO aceleraría el consumo y el crecimiento ec...</td>\n      <td>http://www.elfinanciero.com.mx/economia/amlo-a...</td>\n    </tr>\n    <tr>\n      <th>2</th>\n      <td>Fake</td>\n      <td>Sport</td>\n      <td>actualidadpanamericana.com</td>\n      <td>Compañero de James se ‘calvea’ y le juega pesa...</td>\n      <td>Al borde de un colapso nervioso quedó el hábil...</td>\n      <td>http://www.actualidadpanamericana.com/companer...</td>\n    </tr>\n    <tr>\n      <th>3</th>\n      <td>Fake</td>\n      <td>Politics</td>\n      <td>actualidadpanamericana.com</td>\n      <td>Dian gravará este año a los niños que recojan ...</td>\n      <td>Mediante pupitrazo de último minuto anoche, el...</td>\n      <td>http://www.actualidadpanamericana.com/dian-gra...</td>\n    </tr>\n    <tr>\n      <th>4</th>\n      <td>Fake</td>\n      <td>Politics</td>\n      <td>actualidadpanamericana.com</td>\n      <td>Uribe asegura que insultó 358 guerrilleros</td>\n      <td>Muy temprano esta mañana el expresidente y aho...</td>\n      <td>http://www.actualidadpanamericana.com/uribe-as...</td>\n    </tr>\n  </tbody>\n</table>\n</div>"
     },
     "execution_count": 2,
     "metadata": {},
     "output_type": "execute_result"
    }
   ],
   "source": [
    "corpus = pd.read_csv('Datos/corpus_spanish_v3.csv', index_col=0)\n",
    "corpus.head()"
   ]
  },
  {
   "cell_type": "markdown",
   "source": [
    "#### Información de los datos"
   ],
   "metadata": {
    "collapsed": false,
    "pycharm": {
     "name": "#%% md\n"
    }
   }
  },
  {
   "cell_type": "code",
   "execution_count": 3,
   "metadata": {
    "collapsed": false,
    "pycharm": {
     "name": "#%%\n"
    }
   },
   "outputs": [
    {
     "name": "stdout",
     "output_type": "stream",
     "text": [
      "News, Columns: (3974, 6)\n",
      "True News: 1928\n",
      "Fake News: 2046\n",
      "Columns Name: ['Category', 'Topic', 'Source', 'Headline', 'Text', 'Link']\n"
     ]
    }
   ],
   "source": [
    "print(f'News, Columns: {corpus.shape}')\n",
    "print('True News: {}'.format(corpus.groupby('Category').size()[0]))\n",
    "print('Fake News: {}'    .format(corpus.groupby('Category').size()[1]))\n",
    "print(f'Columns Name: {list(corpus.columns)}')"
   ]
  },
  {
   "cell_type": "markdown",
   "metadata": {
    "collapsed": false,
    "pycharm": {
     "name": "#%% md\n"
    }
   },
   "source": [
    "#### ¿Cuáles son las fuentes?\n",
    "\n",
    "Los datos no siempre se encuentran limpios y ordenados, a veces es necesario procesar los datos antes de poder aplicar un método que solucione el problema, el obtener una lista de todas las fuentes parece ser una tarea sencilla, sin embargo, no lo es.\n",
    "\n",
    "Para intentar obtener las fuentes se realizan estos pasos:\n",
    "1. Obtener todos los valores de la columna *Source*.\n",
    "2. Eliminar todas las fuentes repetidas.\n",
    "3. Imprimir las primeras 15 fuentes."
   ]
  },
  {
   "cell_type": "code",
   "execution_count": 4,
   "metadata": {
    "collapsed": false,
    "pycharm": {
     "name": "#%%\n"
    }
   },
   "outputs": [
    {
     "name": "stdout",
     "output_type": "stream",
     "text": [
      "Sources: 182\n",
      "20 Minutos     ABC Noticias       ARGUMENTO POLÍTICO  Animal Politico   Argumento Político\n",
      "ABC            ABC sociedad       Actualidad RT       Animal Político   Aristegui Noticias\n",
      "ABC EL RECREO  ANONYMOUS  AZTECA  Alerta digital      Animal político   Aristegui noticias\n"
     ]
    }
   ],
   "source": [
    "# 1.\n",
    "sources_ls = corpus['Source'].to_list()\n",
    "\n",
    "# 2.\n",
    "sources_ls = list(sorted(set(sources_ls)))\n",
    "print(f'Sources: {len(sources_ls)}')\n",
    "\n",
    "# 3.\n",
    "cli = cmd.Cmd()\n",
    "cli.columnize(sources_ls[:15], displaywidth=130)"
   ]
  },
  {
   "cell_type": "markdown",
   "metadata": {
    "collapsed": false,
    "pycharm": {
     "name": "#%% md\n"
    }
   },
   "source": [
    "#### Eliminar fuentes repetidas\n",
    "\n",
    "Se puede observar que existen fuentes repetidas en la lista como 'Animal Político' o 'Aristegui Noticias' porque no se escribieron de la misma manera, sin embargo, son la misma fuente de información. Para resolver este problema es necesario crear una función que procese el texto de las fuentes.\n",
    "\n",
    "La función que nos permite procesar el texto sigue estas reglas:\n",
    "1. Convierte todo el texto en minúsculas.\n",
    "2. Elimina los acentos de las palabras.\n",
    "3. Elimina todos los símbolos que no son letras, para obtener solo las palabras del texto."
   ]
  },
  {
   "cell_type": "code",
   "execution_count": 5,
   "metadata": {
    "collapsed": false,
    "pycharm": {
     "name": "#%%\n"
    }
   },
   "outputs": [],
   "source": [
    "def process_sources(source_text):\n",
    "    text = source_text\n",
    "    text = text.lower()\n",
    "    text = re.sub(r'(https?://)?(www\\.)?(wiki\\.)?(in\\.)?(www2\\.)?(news\\.)?', \"\", text)\n",
    "    text = re.sub(r'(\\.blogspot\\.com)|(.com)|(\\.org)|(\\.es)|(\\.fo)', \"\", text)\n",
    "    text = re.sub(r'http', \"\", text)\n",
    "    text = re.sub(r'@\\S+', \"\", text)\n",
    "    text = re.sub(r'\\n', \"\", text)\n",
    "    text = re.sub(r'/', \"\", text)\n",
    "    text = re.sub(r'^[ \\t]+|[ \\t]+$', \"\", text)\n",
    "    text = re.sub(r\"(?<!\\n)\\n(?!\\n)\", \" \", text)\n",
    "    text = re.sub(r'[ -]+', \" \", text)\n",
    "    text = re.sub(r' +', \" \", text)\n",
    "    text = text.replace(r\"*PHONE*\", \"número\")\n",
    "    text = text.replace(r\"*EMAIL*\", \"email\")\n",
    "    text = text.replace(r\"*URL*\", \"url\")\n",
    "    text = unidecode.unidecode(text)\n",
    "\n",
    "    return text"
   ]
  },
  {
   "cell_type": "markdown",
   "metadata": {
    "collapsed": false,
    "pycharm": {
     "name": "#%% md\n"
    }
   },
   "source": [
    "#### Procesar todas las fuentes\n",
    "\n",
    "Con la función `process_sources` y utilizando el método `apply()` de la estructura `DataFrame`, se aplica la función a cada uno de las fuentes del conjunto de datos, después se obtiene la lista de las fuentes como se hizo anteriormente, pero ahora se imprimirán todas las fuentes.\n",
    "\n",
    "Para obtener la lista de fuentes real se realizan los siguientes pasos:\n",
    "1. Aplicar la función `process_sources`.\n",
    "2. Obtener todos los valores de la columna *Source*.\n",
    "3. Eliminar todas las fuentes repetidas.\n",
    "4. Imprimir las primeras 15 fuentes."
   ]
  },
  {
   "cell_type": "code",
   "execution_count": 6,
   "metadata": {
    "collapsed": false,
    "pycharm": {
     "name": "#%%\n"
    }
   },
   "outputs": [
    {
     "name": "stdout",
     "output_type": "stream",
     "text": [
      "Sources: 162\n",
      "20 minutos              diario de ibiza            exclusivas puebla        la voz popular         radio formula          \n",
      "abc                     diario del huila           expansion                lamula                 razon                  \n",
      "abc el recreo           dos mundos                 facebook el senor lopez  latino                 record                 \n",
      "abc noticias            eco portal                 facebook unico noticias  lo que calla la tv     resumen latinoamericano\n",
      "abc sociedad            eje central                fifa                     los replicantes        retroceso              \n",
      "actualidad rt           el buen tono               fisgon politico          marca                  reuters                \n",
      "actualidadpanamericana  el clarin                  forbes                   medio tiempo           rey misterios          \n",
      "alerta digital          el coleccionista de datos  frentes politicos        mediterraneo digital   sabor a merengue       \n",
      "animal politico         el dizque                  grandes medios           merca2.0               sdp noticias           \n",
      "anonymous azteca        el economista              grupo formula            milenio                sdpnoticias            \n",
      "argumento politico      el espectador              hay noticia              modo noticia           sin embargo            \n",
      "aristegui noticias      el financiero              heraldo                  modonoticia            su medico              \n",
      "azteca deporte          el grafico                 heraldo de mexico        mozilla                telemundo              \n",
      "bbc                     el heraldo                 hipertextual             msn                    televisa deporte       \n",
      "bbc news                el librero de gutenberg    hispantv                 muy interesante        texto noticias         \n",
      "beforeit                el manana                  hola                     mvs noticias           the new york times     \n",
      "billboard               el manana global           hola mexico              nacion unida           tiempo                 \n",
      "buzzfeed                el milenio                 huffingtonpost           nacion321              tiempo digital         \n",
      "caracol radio           el mundo                   huffpost                 nba                    todo informe           \n",
      "caras                   el mundo today             inciclopedia             news week espanol      tribuna noticias       \n",
      "carlosagaton            el nuevo dia               info bae                 newsner                tv notas               \n",
      "cb                      el pais                    jornada                  nippon                 twitter                \n",
      "censura 0               el ruinaversal             konbini                  noticieros televisa    twitter calderon       \n",
      "clarin                  el sol de mexico           la jornada               novedades quitana roo  twitter rafael ramirez \n",
      "cnet                    el universal               la nacion                nytimes                twitter ricardo aleman \n",
      "cnn en espanol          elle                       la neta virtual          opinion                twitter simmsa         \n",
      "cnn espanol             elmundotoday               la opinion               pan tweet              universo deportivo     \n",
      "cnnespanol              enpareja                   la otra opinion          parabolica             uno cero               \n",
      "criterio universal      es diario                  la parada digital        people en espanol      voz del sur            \n",
      "cuba debate             esmas                      la prensa                playgroundmag          yahoo                  \n",
      "denuncias mx            espn                       la red 21                proceso              \n",
      "denunciasmx             europa press               la vanguardia            publimetro           \n",
      "diario cambio           excelsior                  la verdad                quien                \n"
     ]
    }
   ],
   "source": [
    "# 1.\n",
    "processed_sources = corpus['Source'].apply(process_sources)\n",
    "\n",
    "# 2.\n",
    "processed_sources_ls = processed_sources.to_list()\n",
    "\n",
    "# 3.\n",
    "processed_sources_set = set(processed_sources_ls)\n",
    "processed_sources_ls = list(sorted(processed_sources_set))\n",
    "print(f'Sources: {len(processed_sources_ls)}')\n",
    "\n",
    "# 4.\n",
    "cli.columnize(processed_sources_ls, displaywidth=130)"
   ]
  },
  {
   "cell_type": "markdown",
   "source": [
    "#### La importancia de limpiar los datos\n",
    "\n",
    "La primera vez se obtuvieron 182 fuentes en total, después de ser procesadas se obtuvieron 162 fuentes. Este resultado resalta la importancia del procesado del texto, sin este proceso, se contemplarían 20 fuentes de información adicionales, el mismo resultado puede ser obtenido al procesar todo el texto de la noticia para evitar palabras repetidas o que pierdan importancia por encontrarse mal escritas."
   ],
   "metadata": {
    "collapsed": false,
    "pycharm": {
     "name": "#%% md\n"
    }
   }
  }
 ],
 "metadata": {
  "interpreter": {
   "hash": "be765b5a2c369769a88a742b7eb7588d2febb61fba837c8249a8c161d60a9417"
  },
  "kernelspec": {
   "display_name": "Python 3.10.4 ('virtualenv': venv)",
   "language": "python",
   "name": "python3"
  },
  "language_info": {
   "codemirror_mode": {
    "name": "ipython",
    "version": 3
   },
   "file_extension": ".py",
   "mimetype": "text/x-python",
   "name": "python",
   "nbconvert_exporter": "python",
   "pygments_lexer": "ipython3",
   "version": "3.10.4"
  },
  "toc-autonumbering": false,
  "toc-showmarkdowntxt": false
 },
 "nbformat": 4,
 "nbformat_minor": 5
}