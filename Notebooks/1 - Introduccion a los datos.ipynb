{
 "cells": [
  {
   "cell_type": "markdown",
   "id": "51d0b164-a700-4adf-a4f4-780f517075dc",
   "metadata": {
    "tags": [],
    "pycharm": {
     "name": "#%% md\n"
    }
   },
   "source": [
    "# 1. Introducción a los datos\n",
    "\n",
    "José Luis Aguilera Luzania"
   ]
  },
  {
   "cell_type": "markdown",
   "source": [
    "## Contenido\n",
    "**1.1 introducción**\n",
    "\n",
    "- ¿Qué es la detección de noticias falsas? (*Fake news*)\n",
    "- Objetivo de la libreta\n",
    "\n",
    "**1.2 Información de los datos**\n",
    "\n",
    "- Información general\n",
    "- ¿Cómo se etiquetaron los datos?\n",
    "- Temas de las noticias\n",
    "- Estructura de los datos\n",
    "\n",
    "**1.3 Análisis de los datos**\n",
    "\n",
    "- Librerías\n",
    "- Conjuntos de datos\n",
    "- Información del conjunto de datos.\n",
    "- ¿Cuáles son las fuentes?"
   ],
   "metadata": {
    "collapsed": false,
    "pycharm": {
     "name": "#%% md\n"
    }
   }
  },
  {
   "cell_type": "markdown",
   "source": [
    "## 1.1 Introducción\n",
    "\n",
    "**¿Qué es la detección de noticias falsas? (*Fake News*)**\n",
    "La detección de noticias falsas (Fake News) es la tarea de evaluar la veracidad de las afirmaciones en las noticias. Este es un problema crítico en el Procesamiento del Lenguaje Natural (PLN) porque tanto en medios de noticias tradicionales como en medios digitales las Fake News generan un gran impacto social y político en cada individuo. Por ejemplo, la exposición a las Fake News puede generar actitudes de ineficacia, alienación y cinismo hacia ciertos candidatos políticos (Balmas, 2014).\n",
    "\n",
    "**Objetivo de la libreta**\n",
    "El objetivo de esta libreta es proporcionar un análisis de los datos, su estructura e información básica."
   ],
   "metadata": {
    "collapsed": false,
    "pycharm": {
     "name": "#%% md\n"
    }
   }
  },
  {
   "cell_type": "markdown",
   "source": [
    "## 1.2 Información de los datos\n",
    "\n",
    "**Información general**\n",
    "- Se obtuvieron del repositorio de Github \"FakeNewsCorpusSpanish\" de J.P.Posadas. ([jpposadas](https://github.com/jpposadas/FakeNewsCorpusSpanish))\n",
    "- Las noticias fueron recolectadas de enero a julio del 2018.\n",
    "- Todas las noticias están escritas en el idioma español.\n",
    "- El *corpus* contiene 971 noticias divididas en:\n",
    "    - 491 noticias reales.\n",
    "    - 480 noticias falsas.\n",
    "\n",
    "**¿Cómo se etiquetaron los datos?**\n",
    "El proceso de etiquetación de las noticias fue manual y se tomaron en cuenta los siguientes aspectos:\n",
    "\n",
    "1. Una noticia es etiquetada como verdadera si hay evidencia de que fue publicada en sitios de confianza, periódicos establecidos o en páginas de periodistas renombrados.\n",
    "2. Una noticia es etiquetada como falsa si había noticias publicadas en sitios confiables o especializados en detección de contenido engañoso como VerificadoMX que contradicen la información o si no se encontró otra evidencia sobre la noticia.\n",
    "3. La correlación entre las noticias se mantuvo, recolectando un par Verdadera-Falsa de cada evento.\n",
    "4. Se buscó incluir la fuente original de cada noticia.\n",
    "\n",
    "**Temas de las noticias**\n",
    "El *corpus* cubre noticias de 9 temas diferentes.\n",
    "\n",
    "1. Ciencia.\n",
    "2. Deportes.\n",
    "3. Economía.\n",
    "4. Entretenimiento.\n",
    "5. Educación.\n",
    "6. Política.\n",
    "7. Salud.\n",
    "8. Seguridad.\n",
    "9. Sociedad\n",
    "\n",
    "**Estructura de los datos**\n",
    "- Id: Identificador de cada instancia.\n",
    "- Category: Categoría de la noticia (True o False).\n",
    "- Topic: Tema relacionado con la noticia.\n",
    "- Source: Nombre de la fuente.\n",
    "- Headline: Titulo de la noticia.\n",
    "- Text: Texto de la noticia\t.\n",
    "- Link: URL de la fuente.\n"
   ],
   "metadata": {
    "collapsed": false,
    "pycharm": {
     "name": "#%% md\n"
    }
   }
  },
  {
   "cell_type": "markdown",
   "source": [
    "## 1.3 Análisis de los datos\n",
    "\n",
    "**Librerías**\n",
    "Manipulación de datos:\n",
    "- `pandas`: Librería para manipular los datos de forma tabular.\n",
    "- `cmd`: Librería para controlar el formato de impresión en la consola.\n",
    "- `unicode`: Librería para eliminar acentos de las palabras.\n",
    "- `re`: Librería para utilizar expresiones regulares."
   ],
   "metadata": {
    "collapsed": false,
    "pycharm": {
     "name": "#%% md\n"
    }
   }
  },
  {
   "cell_type": "code",
   "execution_count": 1,
   "outputs": [],
   "source": [
    "import pandas as pd\n",
    "import cmd\n",
    "import unidecode\n",
    "import re"
   ],
   "metadata": {
    "collapsed": false,
    "pycharm": {
     "name": "#%%\n"
    }
   }
  },
  {
   "cell_type": "markdown",
   "source": [
    "**Conjunto de datos**\n",
    "Los datos están divididos en dos conjuntos de datos en los archivos `train.xlsx` y `development.xlsx`, con 80% para entrenamiento y 20% para pruebas respectivamente.\n",
    "\n",
    "Para realizar un primer acercamiento al análisis de los datos, los conjuntos se combinarán un solo."
   ],
   "metadata": {
    "collapsed": false,
    "pycharm": {
     "name": "#%% md\n"
    }
   }
  },
  {
   "cell_type": "code",
   "execution_count": 2,
   "outputs": [
    {
     "data": {
      "text/plain": "   Id Category      Topic          Source  \\\n0   1     Fake  Education  El Ruinaversal   \n1   2     Fake  Education     Hay noticia   \n2   3     Fake  Education  El Ruinaversal   \n3   4     True  Education    EL UNIVERSAL   \n4   5     Fake  Education          Lamula   \n\n                                            Headline  \\\n0  RAE INCLUIRÁ LA PALABRA \"LADY\" EN EL DICCIONAR...   \n1            La palabra \"haiga\", aceptada por la RAE   \n2  YORDI ROSADO ESCRIBIRÁ Y DISEÑARÁ LOS NUEVOS L...   \n3  UNAM capacitará a maestros para aprobar prueba...   \n4  pretenden aprobar libros escolares con conteni...   \n\n                                                Text  \\\n0  RAE INCLUIRÁ LA PALABRA \"LADY\" EN EL DICCIONAR...   \n1  La palabra \"haiga\", aceptada por la RAE La Rea...   \n2  YORDI ROSADO ESCRIBIRÁ Y DISEÑARÁ LOS NUEVOS L...   \n3  UNAM capacitará a maestros para aprobar prueba...   \n4  Alerta: pretenden aprobar libros escolares con...   \n\n                                                Link  \n0  http://www.elruinaversal.com/2017/06/10/rae-in...  \n1  https://haynoticia.es/la-palabra-haiga-aceptad...  \n2  http://www.elruinaversal.com/2018/05/06/yordi-...  \n3  http://www.eluniversal.com.mx/articulo/nacion/...  \n4  https://redaccion.lamula.pe/2018/06/19/memoria...  ",
      "text/html": "<div>\n<style scoped>\n    .dataframe tbody tr th:only-of-type {\n        vertical-align: middle;\n    }\n\n    .dataframe tbody tr th {\n        vertical-align: top;\n    }\n\n    .dataframe thead th {\n        text-align: right;\n    }\n</style>\n<table border=\"1\" class=\"dataframe\">\n  <thead>\n    <tr style=\"text-align: right;\">\n      <th></th>\n      <th>Id</th>\n      <th>Category</th>\n      <th>Topic</th>\n      <th>Source</th>\n      <th>Headline</th>\n      <th>Text</th>\n      <th>Link</th>\n    </tr>\n  </thead>\n  <tbody>\n    <tr>\n      <th>0</th>\n      <td>1</td>\n      <td>Fake</td>\n      <td>Education</td>\n      <td>El Ruinaversal</td>\n      <td>RAE INCLUIRÁ LA PALABRA \"LADY\" EN EL DICCIONAR...</td>\n      <td>RAE INCLUIRÁ LA PALABRA \"LADY\" EN EL DICCIONAR...</td>\n      <td>http://www.elruinaversal.com/2017/06/10/rae-in...</td>\n    </tr>\n    <tr>\n      <th>1</th>\n      <td>2</td>\n      <td>Fake</td>\n      <td>Education</td>\n      <td>Hay noticia</td>\n      <td>La palabra \"haiga\", aceptada por la RAE</td>\n      <td>La palabra \"haiga\", aceptada por la RAE La Rea...</td>\n      <td>https://haynoticia.es/la-palabra-haiga-aceptad...</td>\n    </tr>\n    <tr>\n      <th>2</th>\n      <td>3</td>\n      <td>Fake</td>\n      <td>Education</td>\n      <td>El Ruinaversal</td>\n      <td>YORDI ROSADO ESCRIBIRÁ Y DISEÑARÁ LOS NUEVOS L...</td>\n      <td>YORDI ROSADO ESCRIBIRÁ Y DISEÑARÁ LOS NUEVOS L...</td>\n      <td>http://www.elruinaversal.com/2018/05/06/yordi-...</td>\n    </tr>\n    <tr>\n      <th>3</th>\n      <td>4</td>\n      <td>True</td>\n      <td>Education</td>\n      <td>EL UNIVERSAL</td>\n      <td>UNAM capacitará a maestros para aprobar prueba...</td>\n      <td>UNAM capacitará a maestros para aprobar prueba...</td>\n      <td>http://www.eluniversal.com.mx/articulo/nacion/...</td>\n    </tr>\n    <tr>\n      <th>4</th>\n      <td>5</td>\n      <td>Fake</td>\n      <td>Education</td>\n      <td>Lamula</td>\n      <td>pretenden aprobar libros escolares con conteni...</td>\n      <td>Alerta: pretenden aprobar libros escolares con...</td>\n      <td>https://redaccion.lamula.pe/2018/06/19/memoria...</td>\n    </tr>\n  </tbody>\n</table>\n</div>"
     },
     "execution_count": 2,
     "metadata": {},
     "output_type": "execute_result"
    }
   ],
   "source": [
    "df_entrenamiento = pd.read_excel('Datos/train.xlsx')\n",
    "df_pruebas = pd.read_excel('Datos/development.xlsx')\n",
    "\n",
    "df_datos = pd.concat([df_entrenamiento, df_pruebas])\n",
    "df_datos.head()"
   ],
   "metadata": {
    "collapsed": false,
    "pycharm": {
     "name": "#%%\n"
    }
   }
  },
  {
   "cell_type": "code",
   "execution_count": 3,
   "outputs": [
    {
     "name": "stdout",
     "output_type": "stream",
     "text": [
      "Noticias, Columnas: (971, 7)\n",
      "Columnas: ['Id', 'Category', 'Topic', 'Source', 'Headline', 'Text', 'Link']\n",
      "Noticias verdaderas: 480\n",
      "Noticias falsas: 491\n"
     ]
    }
   ],
   "source": [
    "print(f'Noticias, Columnas: {df_datos.shape}')\n",
    "print(f'Columnas: {list(df_datos.columns)}')\n",
    "print('Noticias verdaderas: {}'.format(df_datos.groupby('Category').size()[0]))\n",
    "print('Noticias falsas: {}'    .format(df_datos.groupby('Category').size()[1]))"
   ],
   "metadata": {
    "collapsed": false,
    "pycharm": {
     "name": "#%%\n"
    }
   }
  },
  {
   "cell_type": "markdown",
   "source": [
    "**¿Cuáles son las fuentes?**\n",
    "\n",
    "Los datos no siempre se encuentran limpios y ordenados, a veces es necesario procesar los datos antes de poder aplicar un método que solucione el problema, el obtener una lista de todas las fuentes parece ser una tarea sencilla, sin embargo, no lo es.\n",
    "\n",
    "Para intentar obtener las fuentes se realizan estos pasos:\n",
    "1. Obtener todos los valores de la columna *Source*.\n",
    "2. Eliminar todas las fuentes repetidas.\n",
    "3. Imprimir las primeras 15 fuentes."
   ],
   "metadata": {
    "collapsed": false,
    "pycharm": {
     "name": "#%% md\n"
    }
   }
  },
  {
   "cell_type": "code",
   "execution_count": 4,
   "outputs": [
    {
     "name": "stdout",
     "output_type": "stream",
     "text": [
      "Número de fuentes: 167\n",
      "20 Minutos     ABC Noticias       ARGUMENTO POLÍTICO  Animal Politico   Argumento Político\n",
      "ABC            ABC sociedad       Actualidad RT       Animal Político   Aristegui Noticias\n",
      "ABC EL RECREO  ANONYMOUS  AZTECA  Alerta digital      Animal político   Aristegui noticias\n"
     ]
    }
   ],
   "source": [
    "# Paso 1.\n",
    "fuentes_ls = df_datos['Source'].to_list()\n",
    "\n",
    "# Paso 2.\n",
    "fuentes_ls = list(sorted(set(fuentes_ls)))\n",
    "print(f'Número de fuentes: {len(fuentes_ls)}')\n",
    "\n",
    "# Paso 3.\n",
    "cli = cmd.Cmd()\n",
    "cli.columnize(fuentes_ls[:15], displaywidth=130)"
   ],
   "metadata": {
    "collapsed": false,
    "pycharm": {
     "name": "#%%\n"
    }
   }
  },
  {
   "cell_type": "markdown",
   "source": [
    "**Eliminar fuentes repetidas**\n",
    "\n",
    "Se puede observar que existen fuentes repetidas en la lista como 'Animal Político' o 'Aristegui Noticias' porque no se escribieron de la misma manera, sin embargo, son la misma fuente de información. Para resolver este problema es necesario crear una función que procese el texto de las fuentes.\n",
    "\n",
    "La función que nos permite procesar el texto sigue estas reglas:\n",
    "1. Convierte todo el texto en minúsculas.\n",
    "2. Elimina los acentos de las palabras.\n",
    "3. Elimina todos los símbolos que no son letras, para obtener solo las palabras del texto."
   ],
   "metadata": {
    "collapsed": false,
    "pycharm": {
     "name": "#%% md\n"
    }
   }
  },
  {
   "cell_type": "code",
   "execution_count": 5,
   "outputs": [],
   "source": [
    "def procesar_fuentes(texto):\n",
    "    \"\"\"\n",
    "    Input:\n",
    "        texto: una cadena de texto.\n",
    "\n",
    "    Output:\n",
    "        texto: una cadena de texto formada solo por las palabras del texto original, sin acentos, caracteres especiales o espacios extra.\n",
    "    \"\"\"\n",
    "    # 1. Convertir el texto en minúsculas.\n",
    "    texto = texto.lower()\n",
    "\n",
    "    # 2. Eliminar acentos.\n",
    "    texto = unidecode.unidecode(texto)\n",
    "\n",
    "    # 3. Eliminar todo lo que no sea una palabra.\n",
    "    texto = re.findall(r'\\w+', texto)\n",
    "    texto = ' '.join(texto)\n",
    "\n",
    "    return texto"
   ],
   "metadata": {
    "collapsed": false,
    "pycharm": {
     "name": "#%%\n"
    }
   }
  },
  {
   "cell_type": "markdown",
   "source": [
    "**Procesar todas las fuentes**\n",
    "\n",
    "Con la función `procesar_fuentes` y utilizando el método `apply()` de la estructura `DataFrame`, se aplica la función a cada uno de las fuentes del conjunto de datos, después se obtiene la lista de las fuentes como se hizo anteriormente pero ahora se imprimirán  todas las fuentes.\n",
    "\n",
    "Para obtener la lista de fuentes real se realizan los siguientes pasos:\n",
    "1. Aplicar la función `procesar_fuentes`.\n",
    "2. Obtener todos los valores de la columna *Source*.\n",
    "3. Eliminar todas las fuentes repetidas.\n",
    "4. Imprimir las primeras 15 fuentes."
   ],
   "metadata": {
    "collapsed": false,
    "pycharm": {
     "name": "#%% md\n"
    }
   }
  },
  {
   "cell_type": "code",
   "execution_count": 6,
   "outputs": [
    {
     "name": "stdout",
     "output_type": "stream",
     "text": [
      "Número de fuentes: 147\n",
      "20 minutos                 dos mundos                 facebook el senor lopez  la verdad es           razon                  \n",
      "abc                        eco portal                 facebook unico noticias  la voz popular         record                 \n",
      "abc el recreo              eje central                fifa                     lamula                 resumen latinoamericano\n",
      "abc noticias               el buen tono               fisgon politico          lo que calla la tv     retroceso              \n",
      "abc sociedad               el clarin                  forbes                   los replicantes        rey misterios          \n",
      "actualidad rt              el coleccionista de datos  frentes politicos        marca                  sabor a merengue       \n",
      "alerta digital             el dizque                  grandes medios           medio tiempo           sdp noticias           \n",
      "animal politico            el economista              grupo formula            mediterraneo digital   sdpnoticias            \n",
      "anonymous azteca           el espectador              hay noticia              merca2 0               sin embargo            \n",
      "argumento politico         el financiero              heraldo                  milenio                su medico              \n",
      "aristegui noticias         el grafico                 heraldo de mexico        modo noticia           telemundo              \n",
      "azteca deporte             el heraldo                 hipertextual             modonoticia            televisa deporte       \n",
      "bbc                        el librero de gutenberg    hispantv                 muy interesante        texto noticias         \n",
      "bbc news                   el manana                  hola                     mvs noticias           the new york times     \n",
      "billboard                  el manana global           hola mexico              nacion unida           tiempo                 \n",
      "caracol radio              el milenio                 http www2 esmas com      nacion321              tiempo digital         \n",
      "caras                      el mundo                   huffpost                 news week espanol      todo informe           \n",
      "carlosagaton blogspot com  el mundo today             inciclopedia             newsner                tribuna noticias       \n",
      "censura 0                  el nuevo dia               info bae                 nippon                 tv notas               \n",
      "clarin                     el pais                    jornada                  noticieros televisa    twitter                \n",
      "cnn en espanol             el ruinaversal             konbini                  novedades quitana roo  twitter calderon       \n",
      "cnn espanol                el sol de mexico           la jornada               opinion                twitter rafael ramirez \n",
      "cnnespanol                 el universal               la nacion                pan tweet              twitter ricardo aleman \n",
      "criterio universal         elle                       la neta virtual          parabolica             twitter simmsa         \n",
      "cuba debate                enpareja com               la opinion               people en espanol      universo deportivo     \n",
      "denuncias mx               es diario                  la otra opinion          playgroundmag          uno cero               \n",
      "denunciasmx com            espn                       la parada digital        proceso                voz del sur            \n",
      "diario cambio              excelsior                  la prensa                publimetro           \n",
      "diario de ibiza            exclusivas puebla          la red 21                quien                \n",
      "diario del huila           expansion                  la vanguardia            radio formula        \n"
     ]
    }
   ],
   "source": [
    "# Paso 1.\n",
    "fuentes_procesadas = df_datos['Source'].apply(procesar_fuentes)\n",
    "\n",
    "# Paso 2.\n",
    "fuentes_procesadas_ls = fuentes_procesadas.to_list()\n",
    "\n",
    "# Paso 3.\n",
    "fuentes_procesadas_ls = list(sorted(set(fuentes_procesadas_ls)))\n",
    "print(f'Número de fuentes: {len(fuentes_procesadas_ls)}')\n",
    "\n",
    "# Paso 4.\n",
    "cli.columnize(fuentes_procesadas_ls, displaywidth=130)"
   ],
   "metadata": {
    "collapsed": false,
    "pycharm": {
     "name": "#%%\n"
    }
   }
  },
  {
   "cell_type": "markdown",
   "source": [
    "**La importancia de limpiar los datos**\n",
    "\n",
    "La primera vez se obtuvieron 167 fuentes en total, después de ser procesadas se obtuvieron 147 fuentes. Esto quiere decir que 20 fuentes se encontraban repetidas, esto puede afectar el análisis de los datos incluyendo 20 fuentes que se tomarían como fuentes distintas.\n",
    "\n",
    "En las siguientes libretas se aborda el tema de la limpieza, análisis y transformación de los datos."
   ],
   "metadata": {
    "collapsed": false,
    "pycharm": {
     "name": "#%% md\n"
    }
   }
  }
 ],
 "metadata": {
  "kernelspec": {
   "name": "python3",
   "language": "python",
   "display_name": "Python 3 (ipykernel)"
  },
  "language_info": {
   "codemirror_mode": {
    "name": "ipython",
    "version": 3
   },
   "file_extension": ".py",
   "mimetype": "text/x-python",
   "name": "python",
   "nbconvert_exporter": "python",
   "pygments_lexer": "ipython3",
   "version": "3.9.10"
  },
  "toc-autonumbering": false,
  "toc-showmarkdowntxt": false
 },
 "nbformat": 4,
 "nbformat_minor": 5
}