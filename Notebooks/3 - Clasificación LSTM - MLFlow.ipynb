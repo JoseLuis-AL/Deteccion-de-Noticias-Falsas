{
 "cells": [
  {
   "cell_type": "markdown",
   "source": [
    "# 3. Clasificación (LSTM)\n",
    "\n",
    "**Alumnos**\n",
    "\n",
    "- Aguilera Luzania José Luis\n",
    "- Francisco Javier Castro Marquez"
   ],
   "metadata": {
    "collapsed": false,
    "pycharm": {
     "name": "#%% md\n"
    }
   }
  },
  {
   "cell_type": "markdown",
   "source": [
    "## Contenido\n",
    "---\n",
    "\n",
    "**Introducción**\n",
    "- Clasificación de texto\n",
    "- Objetivo de la libreta.\n",
    "\n",
    "**Procesamiento de los datos**\n",
    "- Librerías\n",
    "- Cargar el *corpus*\n",
    "- Datos necesarios: *Text* y *Category*\n",
    "- Palabras vacías o *stopwords*\n",
    "- Cargar el lematizador\n",
    "- Procesamiento del texto\n",
    "- Vectorización y características TFIDF\n",
    "- Separación de los conjuntos de datos\n",
    "\n",
    "**Métricas**\n",
    "- Matriz de confusión\n",
    "\n",
    "**Red LSTM (Long Short-Term Memory)**\n",
    "- Introducción\n",
    "- Datos\n",
    "- Conjunto de entrenamiento y de pruebas\n",
    "- Modelo\n",
    "- Entrenamiento\n",
    "- Resultados"
   ],
   "metadata": {
    "collapsed": false,
    "pycharm": {
     "name": "#%% md\n"
    }
   }
  },
  {
   "cell_type": "markdown",
   "source": [
    "## Introducción\n",
    "---"
   ],
   "metadata": {
    "collapsed": false,
    "pycharm": {
     "name": "#%% md\n"
    }
   }
  },
  {
   "cell_type": "markdown",
   "source": [
    "#### Clasificación de texto\n",
    "\n",
    "La clasificación de textos es la tarea de clasificar un documento en una categoría predefinida, es decir, si *d_j* es un documento del conjunto de documentos *D* y *{c_1, c_2, ..., c_n}* es el conjunto de categorías, entonces la clasificación de textos asigna una categoría *c_i* al documento *d_j*. El caso de la detección de noticias falsas se puede resolver como un problema de clasificación de textos, donde a cada noticia *n_i* del conjunto de noticias *N* le asignamos una categoría del conjunto *{true, fake}*.\n",
    "\n",
    "El proceso de clasificación de textos se muestra en la siguiente figura:\n",
    "\n",
    "\n",
    "<p align=\"center\">\n",
    "<img src=\"./Imagenes/proceso_clasificacion_textos.png\" width=\"500\">\n",
    "</p>"
   ],
   "metadata": {
    "collapsed": false,
    "pycharm": {
     "name": "#%% md\n"
    }
   }
  },
  {
   "cell_type": "markdown",
   "source": [
    "#### Objetivo de la libreta\n",
    "\n",
    "El objetivo de esta libreta es mostrar el procesamiento necesario del texto para después ser usado en un clasificador de texto y utilizar distintos métodos para clasificar el texto."
   ],
   "metadata": {
    "collapsed": false,
    "pycharm": {
     "name": "#%% md\n"
    }
   }
  },
  {
   "cell_type": "markdown",
   "source": [
    "## MLflow Setup\n",
    "---"
   ],
   "metadata": {
    "collapsed": false,
    "pycharm": {
     "name": "#%% md\n"
    }
   }
  },
  {
   "cell_type": "code",
   "execution_count": 1,
   "outputs": [
    {
     "name": "stdout",
     "output_type": "stream",
     "text": [
      "MLflow Version: 1.26.0\n",
      "Tracking URI: http://localhost:5000\n",
      "Nombre del experimento: LSTM\n",
      "ID del experimento: 4\n"
     ]
    }
   ],
   "source": [
    "import mlflow\n",
    "\n",
    "# Traking ═══════════════════════════════════════════════════\n",
    "track_uri = \"http://localhost:5000\"\n",
    "mlflow.set_tracking_uri(track_uri)\n",
    "\n",
    "# Generación del experimento ════════════════════════════════\n",
    "experiment_name = \"LSTM\"\n",
    "mlflow.set_experiment(experiment_name)\n",
    "\n",
    "# Cargando la información ═══════════════════════════════════\n",
    "client = mlflow.tracking.MlflowClient()\n",
    "experiment_id = client.get_experiment_by_name(experiment_name).experiment_id\n",
    "\n",
    "# Imprimir la información ═══════════════════════════════════\n",
    "print(f\"MLflow Version: {mlflow.__version__}\")\n",
    "print(f\"Tracking URI: {mlflow.tracking.get_tracking_uri()}\")\n",
    "print(f\"Nombre del experimento: {experiment_name}\")\n",
    "print(f\"ID del experimento: {experiment_id}\")"
   ],
   "metadata": {
    "collapsed": false,
    "pycharm": {
     "name": "#%%\n"
    }
   }
  },
  {
   "cell_type": "markdown",
   "source": [
    "## Procesamiento de los datos\n",
    "---"
   ],
   "metadata": {
    "collapsed": false,
    "pycharm": {
     "name": "#%% md\n"
    }
   }
  },
  {
   "cell_type": "markdown",
   "source": [
    "#### Librerías"
   ],
   "metadata": {
    "collapsed": false,
    "pycharm": {
     "name": "#%% md\n"
    }
   }
  },
  {
   "cell_type": "code",
   "execution_count": 2,
   "outputs": [],
   "source": [
    "import pandas as pd\n",
    "import numpy as np\n",
    "import matplotlib.pyplot as plt\n",
    "import seaborn as sns\n",
    "import re\n",
    "import nltk\n",
    "import spacy\n",
    "import spacy_spanish_lemmatizer\n",
    "import pathlib\n",
    "import pickle\n",
    "\n",
    "from nltk.corpus import stopwords\n",
    "\n",
    "from tqdm.notebook import tqdm_notebook\n",
    "\n",
    "from sklearn.linear_model import LogisticRegression\n",
    "from sklearn.model_selection import train_test_split\n",
    "from sklearn.metrics import confusion_matrix, classification_report, accuracy_score, f1_score\n",
    "\n",
    "import tensorflow as tf\n",
    "from tensorflow import keras\n",
    "from keras.layers.core import Dropout, Dense\n",
    "from keras.layers import LSTM, Embedding, Bidirectional, TextVectorization\n",
    "from keras import Sequential\n",
    "\n",
    "from tensorflow.keras.utils import plot_model\n",
    "\n",
    "seed = 43\n",
    "np.random.seed(seed)"
   ],
   "metadata": {
    "collapsed": false,
    "pycharm": {
     "name": "#%%\n"
    }
   }
  },
  {
   "cell_type": "markdown",
   "source": [
    "#### Datos adicionales para la librería `nltk`"
   ],
   "metadata": {
    "collapsed": false,
    "pycharm": {
     "name": "#%% md\n"
    }
   }
  },
  {
   "cell_type": "code",
   "execution_count": 3,
   "outputs": [
    {
     "name": "stderr",
     "output_type": "stream",
     "text": [
      "[nltk_data] Downloading package punkt to\n",
      "[nltk_data]     C:\\Users\\JoseLuisAL\\AppData\\Roaming\\nltk_data...\n",
      "[nltk_data]   Package punkt is already up-to-date!\n",
      "[nltk_data] Downloading package stopwords to\n",
      "[nltk_data]     C:\\Users\\JoseLuisAL\\AppData\\Roaming\\nltk_data...\n",
      "[nltk_data]   Package stopwords is already up-to-date!\n"
     ]
    },
    {
     "data": {
      "text/plain": "True"
     },
     "execution_count": 3,
     "metadata": {},
     "output_type": "execute_result"
    }
   ],
   "source": [
    "nltk.download('punkt')\n",
    "nltk.download('stopwords')"
   ],
   "metadata": {
    "collapsed": false,
    "pycharm": {
     "name": "#%%\n"
    }
   }
  },
  {
   "cell_type": "markdown",
   "source": [
    "#### Cargar el corpus"
   ],
   "metadata": {
    "collapsed": false,
    "pycharm": {
     "name": "#%% md\n"
    }
   }
  },
  {
   "cell_type": "code",
   "execution_count": 4,
   "outputs": [
    {
     "data": {
      "text/plain": "  Category     Topic                      Source  \\\n0     True   Science                     El país   \n1     True   Economy               El financiero   \n2     Fake     Sport  actualidadpanamericana.com   \n3     Fake  Politics  actualidadpanamericana.com   \n4     Fake  Politics  actualidadpanamericana.com   \n\n                                            Headline  \\\n0  La NASA recupera el contacto con un satélite d...   \n1  AMLO aceleraría el consumo y el crecimiento ec...   \n2  Compañero de James se ‘calvea’ y le juega pesa...   \n3  Dian gravará este año a los niños que recojan ...   \n4         Uribe asegura que insultó 358 guerrilleros   \n\n                                                Text  \\\n0  La NASA recupera el contacto con un satélite d...   \n1  AMLO aceleraría el consumo y el crecimiento ec...   \n2  Al borde de un colapso nervioso quedó el hábil...   \n3  Mediante pupitrazo de último minuto anoche, el...   \n4  Muy temprano esta mañana el expresidente y aho...   \n\n                                                Link  \n0  https://elpais.com/elpais/2018/02/01/ciencia/1...  \n1  http://www.elfinanciero.com.mx/economia/amlo-a...  \n2  http://www.actualidadpanamericana.com/companer...  \n3  http://www.actualidadpanamericana.com/dian-gra...  \n4  http://www.actualidadpanamericana.com/uribe-as...  ",
      "text/html": "<div>\n<style scoped>\n    .dataframe tbody tr th:only-of-type {\n        vertical-align: middle;\n    }\n\n    .dataframe tbody tr th {\n        vertical-align: top;\n    }\n\n    .dataframe thead th {\n        text-align: right;\n    }\n</style>\n<table border=\"1\" class=\"dataframe\">\n  <thead>\n    <tr style=\"text-align: right;\">\n      <th></th>\n      <th>Category</th>\n      <th>Topic</th>\n      <th>Source</th>\n      <th>Headline</th>\n      <th>Text</th>\n      <th>Link</th>\n    </tr>\n  </thead>\n  <tbody>\n    <tr>\n      <th>0</th>\n      <td>True</td>\n      <td>Science</td>\n      <td>El país</td>\n      <td>La NASA recupera el contacto con un satélite d...</td>\n      <td>La NASA recupera el contacto con un satélite d...</td>\n      <td>https://elpais.com/elpais/2018/02/01/ciencia/1...</td>\n    </tr>\n    <tr>\n      <th>1</th>\n      <td>True</td>\n      <td>Economy</td>\n      <td>El financiero</td>\n      <td>AMLO aceleraría el consumo y el crecimiento ec...</td>\n      <td>AMLO aceleraría el consumo y el crecimiento ec...</td>\n      <td>http://www.elfinanciero.com.mx/economia/amlo-a...</td>\n    </tr>\n    <tr>\n      <th>2</th>\n      <td>Fake</td>\n      <td>Sport</td>\n      <td>actualidadpanamericana.com</td>\n      <td>Compañero de James se ‘calvea’ y le juega pesa...</td>\n      <td>Al borde de un colapso nervioso quedó el hábil...</td>\n      <td>http://www.actualidadpanamericana.com/companer...</td>\n    </tr>\n    <tr>\n      <th>3</th>\n      <td>Fake</td>\n      <td>Politics</td>\n      <td>actualidadpanamericana.com</td>\n      <td>Dian gravará este año a los niños que recojan ...</td>\n      <td>Mediante pupitrazo de último minuto anoche, el...</td>\n      <td>http://www.actualidadpanamericana.com/dian-gra...</td>\n    </tr>\n    <tr>\n      <th>4</th>\n      <td>Fake</td>\n      <td>Politics</td>\n      <td>actualidadpanamericana.com</td>\n      <td>Uribe asegura que insultó 358 guerrilleros</td>\n      <td>Muy temprano esta mañana el expresidente y aho...</td>\n      <td>http://www.actualidadpanamericana.com/uribe-as...</td>\n    </tr>\n  </tbody>\n</table>\n</div>"
     },
     "execution_count": 4,
     "metadata": {},
     "output_type": "execute_result"
    }
   ],
   "source": [
    "corpus = pd.read_csv('Datos/corpus_spanish_v3.csv', encoding='utf-8', index_col=0)\n",
    "corpus.head()"
   ],
   "metadata": {
    "collapsed": false,
    "pycharm": {
     "name": "#%%\n"
    }
   }
  },
  {
   "cell_type": "markdown",
   "source": [
    "#### Palabras vacías o *stopwords*\n",
    "\n",
    "Las *stopwords* o palabras vacías son aquellas que carecen de sentido de manera individual o sin una palabra clave o *keyword*. Se utilizan las *stopwords* proporcionadas por la librería `nltk` en conjunto con las obtenidas del repositorio \"stopwords-es\" del usuario [genediazjr](https://github.com/stopwords-iso/stopwords-es).\n",
    "\n",
    "*Nota: Algunos documentos utilizan palabras o referencias en inglés, por lo que se anexarán las stopwords en inglés de la librería `nltk`*."
   ],
   "metadata": {
    "collapsed": false,
    "pycharm": {
     "name": "#%% md\n"
    }
   }
  },
  {
   "cell_type": "code",
   "execution_count": 5,
   "outputs": [
    {
     "name": "stdout",
     "output_type": "stream",
     "text": [
      "Stopwords count: 906\n"
     ]
    }
   ],
   "source": [
    "stopwords_spanish_nltk = stopwords.words('spanish')\n",
    "stopwords_english_nltk = stopwords.words('english')\n",
    "stopwords_spanish_json = list(pd.read_json('Datos/stopwords-es.json')[0])\n",
    "\n",
    "stopwords_spanish = list(set(stopwords_spanish_nltk +\n",
    "                             stopwords_english_nltk +\n",
    "                             stopwords_spanish_json))\n",
    "\n",
    "print(f'Stopwords count: {len(stopwords_spanish)}')"
   ],
   "metadata": {
    "collapsed": false,
    "pycharm": {
     "name": "#%%\n"
    }
   }
  },
  {
   "cell_type": "markdown",
   "source": [
    "#### Cargar el lematizador\n",
    "\n",
    "La lematización consisten en que dada una forma flexionada (plural, femenino, conjugada, etc.) se halla el lema correspondiente. El lema es la forma que por convenio se acepta como representante de todas las formas flexionadas de una misma palabra. Por ejemplo: el lema de *\"diré\"*, *\"dije\"* y *\"diríamos\"* es *\"decir\"*. Utilizar los lemas permite conservar coherencia en el texto, mientras que se reduce su tamaño.\n",
    "\n",
    "Para poder lematizar palabras en español se utiliza la librería `spacy` en conjunto con las reglas para lematización en español creadas por el usuario de github [pablodms](https://github.com/pablodms/spacy-spanish-lemmatizer).\n",
    "\n",
    "Para poder utilizar el lematizador es necesario ejecutar los siguientes comandos en la consola o en una celda de jupyter.\n",
    "\n",
    "```powershell\n",
    "pip install -U pip setuptools wheel\n",
    "python -m spacy download es_core_news_sm\n",
    "python -m spacy download es_core_news_lg\n",
    "python -m spacy_spanish_lemmatizer download wiki\n",
    "```"
   ],
   "metadata": {
    "collapsed": false,
    "pycharm": {
     "name": "#%% md\n"
    }
   }
  },
  {
   "cell_type": "code",
   "execution_count": 6,
   "outputs": [
    {
     "data": {
      "text/plain": "<spacy_spanish_lemmatizer.main.SpacyCustomLemmatizer at 0x177355f3160>"
     },
     "execution_count": 6,
     "metadata": {},
     "output_type": "execute_result"
    }
   ],
   "source": [
    "spacy.require_gpu()\n",
    "nlp = spacy.load('es_core_news_lg')\n",
    "nlp.replace_pipe('lemmatizer', 'spanish_lemmatizer')"
   ],
   "metadata": {
    "collapsed": false,
    "pycharm": {
     "name": "#%%\n"
    }
   }
  },
  {
   "cell_type": "markdown",
   "source": [
    "#### Procesamiento del texto\n",
    "\n",
    "En el procesamiento requiere de dos funciones `process_text` y `get_processed_corpus`.\n",
    "\n",
    "**Función: process_text**\n",
    "\n",
    "Se encarga de procesar el texto realizando los siguientes pasos:\n",
    "- Eliminar hipervínculos.\n",
    "- Eliminar los saltos de línea.\n",
    "- Cambiar las etiquetas de números, teléfonos, correos y urls por una en español.\n",
    "- Eliminar todos los caracteres que no sean del español.\n",
    "- Obtener los lemas de todas las palabras del texto.\n",
    "\n",
    "**Función: get_processed_corpus**\n",
    "\n",
    "Procesar las más de 3000 noticias que hay en el corpus no es una tarea que lleva su tiempo, para reducir el tiempo en el que se ejecuta la libreta y se realizan pruebas en los modelos se creo la función `get_processed_corpus` que procesar el corpus y guardarlo en un archivo para cargarlo después de modo que solo se procesa una vez y se puede utilizar cada vez que sea necesesario, en caso de querer procesarlo cada vez que se ejecute, solo es necesario eliminar el archivo `processed_corpus_spanish.csv`."
   ],
   "metadata": {
    "collapsed": false,
    "pycharm": {
     "name": "#%% md\n"
    }
   }
  },
  {
   "cell_type": "code",
   "execution_count": 7,
   "outputs": [],
   "source": [
    "def process_text(text):\n",
    "    text = re.sub(r\"http\\S+\", \"\", text)\n",
    "    text = re.sub(r\"http\", \"\", text)\n",
    "    text = re.sub(\"\\n\", \" \", text)\n",
    "    text = text.replace(r\"*NUMBER*\", \"número\")\n",
    "    text = text.replace(r\"*PHONE*\", \"número\")\n",
    "    text = text.replace(r\"*EMAIL*\", \"email\")\n",
    "    text = text.replace(r\"*URL*\", \"url\")\n",
    "    text = re.sub('[^ A-Za-z\\dÁÉÍÓÚÑáéíóúñ/]+', ' ', text)\n",
    "    text = [token.lemma_ for token in nlp(text)\n",
    "            if token.is_alpha and\n",
    "            not token.lemma_ in stopwords_spanish]\n",
    "    text = ' '.join(text)\n",
    "\n",
    "    return text\n",
    "\n",
    "\n",
    "def get_processed_corpus():\n",
    "    processed_corpus_file = pathlib.Path('Datos/processed_corpus_spanish.csv')\n",
    "    if processed_corpus_file.is_file():\n",
    "        df = pd.read_csv(processed_corpus_file, encoding='utf-8')\n",
    "    else:\n",
    "        # Procesar el texto.\n",
    "        tqdm_notebook.pandas(desc=\"Procesando el texto\")\n",
    "        text_to_process = corpus['Text']\n",
    "        text_to_process = text_to_process.progress_apply(process_text)\n",
    "\n",
    "        # Procesar las etiquetas.\n",
    "        text_labels = corpus['Category']\n",
    "        text_labels = text_labels.astype('category').cat.codes\n",
    "\n",
    "        # Guardar los datos procesados.\n",
    "        df = pd.concat([text_to_process, text_labels], axis=1)\n",
    "        df.columns = ['Text','Category']\n",
    "        df.to_csv(processed_corpus_file, encoding='utf-8', index=False)\n",
    "\n",
    "    return df['Text'], df['Category']"
   ],
   "metadata": {
    "collapsed": false,
    "pycharm": {
     "name": "#%%\n"
    }
   }
  },
  {
   "cell_type": "code",
   "execution_count": 8,
   "outputs": [],
   "source": [
    "# Datos necesarios ══════════════════════════════════════════\n",
    "X, y = get_processed_corpus()\n",
    "\n",
    "# Numpy ═════════════════════════════════════════════════════\n",
    "X = X.values\n",
    "y = y.values"
   ],
   "metadata": {
    "collapsed": false,
    "pycharm": {
     "name": "#%%\n"
    }
   }
  },
  {
   "cell_type": "markdown",
   "source": [
    "#### Separación de los conjuntos de datos"
   ],
   "metadata": {
    "collapsed": false,
    "pycharm": {
     "name": "#%% md\n"
    }
   }
  },
  {
   "cell_type": "code",
   "execution_count": 9,
   "outputs": [],
   "source": [
    "test_size = 0.4\n",
    "X_train, X_test, y_train, y_test = train_test_split(X, y, test_size=test_size, stratify=y, random_state=2021)\n",
    "\n",
    "# Guardar el tamaño del conjunto de entrenamiento ═══════════\n",
    "mlflow.log_param('test_size', str(test_size))"
   ],
   "metadata": {
    "collapsed": false,
    "pycharm": {
     "name": "#%%\n"
    }
   }
  },
  {
   "cell_type": "markdown",
   "source": [
    "## Métricas\n",
    "---"
   ],
   "metadata": {
    "collapsed": false,
    "pycharm": {
     "name": "#%% md\n"
    }
   }
  },
  {
   "cell_type": "markdown",
   "source": [
    "#### Matriz de confusión\n",
    "\n",
    "Es una representación matricial de la predicción de los resultados, usualmente usada para describir el rendimiento de clasificación de un modelo en el conjunto de pruebas para los cuales el resultado es conocido.\n",
    "\n",
    "- True Positives: Casos en los que predecimos SI y el valor real es SI.\n",
    "- True Negatives: Casos en los que predecimos NO y el valor real es SI.\n",
    "- False Positives: Casos en los que predecimos SI y el valor real es NO.\n",
    "- False Negatives: Casos en los que predecimos NO y el valor real es SI."
   ],
   "metadata": {
    "collapsed": false,
    "pycharm": {
     "name": "#%% md\n"
    }
   }
  },
  {
   "cell_type": "code",
   "execution_count": 10,
   "outputs": [],
   "source": [
    "def plot_confusion_matrix(y_test_values, y_predicted_values, method=''):\n",
    "    cf_matrix = confusion_matrix(y_test_values, y_predicted_values)\n",
    "    group_counts = ['{0:0.0f}'.format(value) for value in cf_matrix.flatten()]\n",
    "    group_percentages = ['{0:.2%}'.format(value) for value in cf_matrix.flatten() / np.sum(cf_matrix)]\n",
    "    labels = [f'{v1}\\n{v2}' for v1, v2 in zip(group_counts, group_percentages)]\n",
    "    labels = np.asarray(labels).reshape(2, 2)\n",
    "\n",
    "    fig, ax = plt.subplots(figsize = (7, 5.5))\n",
    "    sns.heatmap(cf_matrix, annot = labels, ax = ax, fmt = '',cmap = 'Blues', annot_kws = {\"size\": 13})\n",
    "\n",
    "    # Etiquetas, título y ticks\n",
    "    label_font = {'size':'15'}\n",
    "    ax.set_xlabel(' \\nPredicción', fontdict = label_font)\n",
    "    ax.set_ylabel('Valores reales\\n', fontdict = label_font)\n",
    "\n",
    "    title_font = {'size':'16'}\n",
    "    cf_matrix_title = 'Matriz de confusión: ' + method + '\\n'\n",
    "    ax.set_title(cf_matrix_title, fontdict = title_font)\n",
    "\n",
    "    ax.tick_params(axis = 'both', which = 'major', labelsize = 13)\n",
    "    ax.xaxis.set_ticklabels(['Fake', 'Real'])\n",
    "    ax.yaxis.set_ticklabels(['Fake', 'Real'])\n",
    "\n",
    "    # Guardar el archivo.\n",
    "    plt.savefig(f'Plots/artifacts/matriz_confusion_{method}.png')\n",
    "    mlflow.log_artifact(f'Plots/artifacts/matriz_confusion_{method}.png')\n",
    "\n",
    "    plt.show()"
   ],
   "metadata": {
    "collapsed": false,
    "pycharm": {
     "name": "#%%\n"
    }
   }
  },
  {
   "cell_type": "markdown",
   "source": [
    "## Red LSTM (Long Short-Term Memory)\n",
    "---\n"
   ],
   "metadata": {
    "collapsed": false,
    "pycharm": {
     "name": "#%% md\n"
    }
   }
  },
  {
   "cell_type": "markdown",
   "source": [
    "#### Introducción\n",
    "\n",
    "**RNN**\n",
    "\n",
    "En las redes neuronales tradicionales las entradas y las salidas son independientes unas de otras, pero en caso en los que se requiera predecir la siguiente palabra de una sentencia, se requiere conocer la palabra anterior o varias palabras anteriores; el intentar predecir el final de una película será más o menos acertado dependiendo de la información previa.\n",
    "\n",
    "Las RNN son redes con ciclos en ellas, permitiendo que la información persista. Las RNN no son muy diferentes a las redes tradicionales, se puede entender como múltiples copias de una red, cada una pasando un valor a la siguiente como se muestra en la imagen:\n",
    "\n",
    "<br>\n",
    "<p align=\"center\">\n",
    "<img src=\"./Imagenes/info/rnn.png\" width=\"550\">\n",
    "</p>\n",
    "\n",
    "Las RNN recuerdan información a través del tiempo. Es útil cuando se quiere predecir dada una secuencia de información, las redes que pueden recordar la información a largo plazo son llamadas LSTM (Long Short-Term Memory) o Memoria a Largo Plazo.\n",
    "\n",
    "**Bi-LSTM**\n",
    "\n",
    "Las redes bidireccionales son en realidad dos redes RNN LSTM juntas. Esta estructura permite obtener la información hacia adelante y hacia atrás. Utilizando redes bidireccionales la entrada se ejecuta en dos direcciones, una del pasado al futuro y otra del futuro al pasado preservando información de ambos puntos en el tiempo de la secuencia, pasado y futuro.\n",
    "\n",
    "<br>\n",
    "<p align=\"center\">\n",
    "<img src=\"./Imagenes/info/bi_lstm.png\" width=\"550\">\n",
    "</p>"
   ],
   "metadata": {
    "collapsed": false,
    "pycharm": {
     "name": "#%% md\n"
    }
   }
  },
  {
   "cell_type": "code",
   "execution_count": 11,
   "outputs": [
    {
     "name": "stdout",
     "output_type": "stream",
     "text": [
      "Epoch 1/10\n",
      "19/19 [==============================] - 7s 163ms/step - loss: 0.6569 - accuracy: 0.6980 - val_loss: 0.5822 - val_accuracy: 0.7956\n",
      "Epoch 2/10\n",
      "19/19 [==============================] - 2s 102ms/step - loss: 0.5143 - accuracy: 0.7815 - val_loss: 0.4082 - val_accuracy: 0.7969\n",
      "Epoch 3/10\n",
      "19/19 [==============================] - 2s 99ms/step - loss: 0.3415 - accuracy: 0.8532 - val_loss: 0.2897 - val_accuracy: 0.9069\n",
      "Epoch 4/10\n",
      "19/19 [==============================] - 2s 102ms/step - loss: 0.2806 - accuracy: 0.9039 - val_loss: 0.3120 - val_accuracy: 0.8642\n",
      "Epoch 5/10\n",
      "19/19 [==============================] - 2s 105ms/step - loss: 0.2031 - accuracy: 0.9409 - val_loss: 0.2624 - val_accuracy: 0.8943\n",
      "Epoch 6/10\n",
      "19/19 [==============================] - 2s 116ms/step - loss: 0.1391 - accuracy: 0.9576 - val_loss: 0.2465 - val_accuracy: 0.9094\n",
      "Epoch 7/10\n",
      "19/19 [==============================] - 2s 105ms/step - loss: 0.0891 - accuracy: 0.9761 - val_loss: 0.2599 - val_accuracy: 0.9157\n",
      "Epoch 8/10\n",
      "19/19 [==============================] - 2s 99ms/step - loss: 0.0596 - accuracy: 0.9849 - val_loss: 0.3140 - val_accuracy: 0.9138\n",
      "Epoch 9/10\n",
      "19/19 [==============================] - 2s 100ms/step - loss: 0.0392 - accuracy: 0.9933 - val_loss: 0.2806 - val_accuracy: 0.9182\n",
      "Epoch 10/10\n",
      "19/19 [==============================] - 2s 102ms/step - loss: 0.0301 - accuracy: 0.9929 - val_loss: 0.3008 - val_accuracy: 0.9245\n"
     ]
    },
    {
     "name": "stderr",
     "output_type": "stream",
     "text": [
      "WARNING:absl:Found untraced functions such as lstm_cell_1_layer_call_fn, lstm_cell_1_layer_call_and_return_conditional_losses, lstm_cell_2_layer_call_fn, lstm_cell_2_layer_call_and_return_conditional_losses while saving (showing 4 of 4). These functions will not be directly callable after loading.\n"
     ]
    },
    {
     "name": "stdout",
     "output_type": "stream",
     "text": [
      "INFO:tensorflow:Assets written to: C:\\Users\\JOSELU~1\\AppData\\Local\\Temp\\tmpmashrz44\\model\\data\\model\\assets\n"
     ]
    },
    {
     "name": "stderr",
     "output_type": "stream",
     "text": [
      "INFO:tensorflow:Assets written to: C:\\Users\\JOSELU~1\\AppData\\Local\\Temp\\tmpmashrz44\\model\\data\\model\\assets\n",
      "WARNING:absl:<keras.layers.recurrent.LSTMCell object at 0x000001774A4F1BA0> has the same name 'LSTMCell' as a built-in Keras object. Consider renaming <class 'keras.layers.recurrent.LSTMCell'> to avoid naming conflicts when loading with `tf.keras.models.load_model`. If renaming is not possible, pass the object in the `custom_objects` parameter of the load function.\n",
      "WARNING:absl:<keras.layers.recurrent.LSTMCell object at 0x000001774A4F2DA0> has the same name 'LSTMCell' as a built-in Keras object. Consider renaming <class 'keras.layers.recurrent.LSTMCell'> to avoid naming conflicts when loading with `tf.keras.models.load_model`. If renaming is not possible, pass the object in the `custom_objects` parameter of the load function.\n",
      "2022/05/18 04:06:52 WARNING mlflow.utils.autologging_utils: MLflow autologging encountered a warning: \"D:\\Github\\Deteccion-de-Noticias-Falsas\\Notebooks\\virtualenv\\lib\\site-packages\\_distutils_hack\\__init__.py:30: UserWarning: Setuptools is replacing distutils.\"\n"
     ]
    }
   ],
   "source": [
    "max_features = 5000\n",
    "seq_length = 300\n",
    "ngram_range = (1,1)\n",
    "\n",
    "epochs = 10\n",
    "batch_size = 128\n",
    "\n",
    "# MLFlow Información ════════════════════════════════════════\n",
    "mlflow.set_tag(\"version.mlflow\", mlflow.__version__)\n",
    "mlflow.set_tag(\"version.keras\", keras.__version__)\n",
    "mlflow.set_tag(\"version.tensorflow\", tf.__version__)\n",
    "mlflow.set_tag(\"seed\", f\"{seed}\")\n",
    "\n",
    "# MLFlow ════════════════════════════════════════════════════\n",
    "mlflow.tensorflow.autolog()\n",
    "\n",
    "# Capa de vectorización ═════════════════════════════════════\n",
    "vectorize_layer = TextVectorization(\n",
    "    max_tokens=max_features,\n",
    "    output_mode='int',\n",
    "    output_sequence_length=seq_length,\n",
    "    ngrams=ngram_range\n",
    ")\n",
    "\n",
    "# Generación del vocabulario ════════════════════════════════\n",
    "vectorize_layer.adapt(X)\n",
    "vocab_size = len(vectorize_layer.get_vocabulary())\n",
    "\n",
    "# Modelo ════════════════════════════════════════════════════\n",
    "model_LSTM = Sequential([\n",
    "    vectorize_layer,\n",
    "    Embedding(vocab_size+1, seq_length),\n",
    "    Dropout(0.5),\n",
    "    Bidirectional(LSTM(16)),\n",
    "    Dropout(0.5),\n",
    "    Dense(16, activation='relu'),\n",
    "    Dense(1, activation='sigmoid')\n",
    "])\n",
    "\n",
    "# Compilar y entrenar el modelo ═════════════════════════════\n",
    "model_LSTM.compile(loss='binary_crossentropy', optimizer='adam', metrics=['accuracy'])\n",
    "model_LSTM.fit(X_train, y_train, epochs=epochs, batch_size=128, validation_data=(X_test, y_test), verbose=1)\n",
    "\n",
    "mlflow.log_params({\n",
    "    'max_features': f'{max_features}',\n",
    "    'vocab_size': f'{vocab_size}',\n",
    "    'seq_length': f'{seq_length}',\n",
    "    'ngram_range': f'{ngram_range}',\n",
    "    'epochs': f'{epochs}',\n",
    "    'batch_size': f'{batch_size}'\n",
    "})"
   ],
   "metadata": {
    "collapsed": false,
    "pycharm": {
     "name": "#%%\n"
    }
   }
  },
  {
   "cell_type": "code",
   "execution_count": 12,
   "outputs": [],
   "source": [
    "model_plot_path = 'lstm_model.png'\n",
    "plot_model(model_LSTM, to_file=model_plot_path)\n",
    "\n",
    "mlflow.log_artifact(model_plot_path, 'lstm_model.png')"
   ],
   "metadata": {
    "collapsed": false,
    "pycharm": {
     "name": "#%%\n"
    }
   }
  },
  {
   "cell_type": "markdown",
   "source": [
    "### Resultados"
   ],
   "metadata": {
    "collapsed": false,
    "pycharm": {
     "name": "#%% md\n"
    }
   }
  },
  {
   "cell_type": "code",
   "execution_count": 13,
   "outputs": [
    {
     "data": {
      "text/plain": "<Figure size 504x396 with 2 Axes>",
      "image/png": "[encoded data removed]"
     },
     "metadata": {
      "needs_background": "light"
     },
     "output_type": "display_data"
    },
    {
     "name": "stdout",
     "output_type": "stream",
     "text": [
      "              precision    recall  f1-score   support\n",
      "\n",
      "           0       0.91      0.94      0.92       771\n",
      "           1       0.94      0.91      0.93       819\n",
      "\n",
      "    accuracy                           0.92      1590\n",
      "   macro avg       0.92      0.93      0.92      1590\n",
      "weighted avg       0.93      0.92      0.92      1590\n",
      "\n"
     ]
    }
   ],
   "source": [
    "# Predicción ════════════════════════════════════════════════\n",
    "y_predicted_LSTM = (model_LSTM.predict(X_test) >= 0.5).astype(int)\n",
    "\n",
    "# Resultados ════════════════════════════════════════════════\n",
    "# Matriz de confusión\n",
    "plot_confusion_matrix(y_predicted_LSTM, y_test, 'LSTM')\n",
    "\n",
    "# Reporte de clasificación\n",
    "print(classification_report(y_test, y_predicted_LSTM))\n",
    "\n",
    "# Accuracy-score\n",
    "accuracy_score_metric = accuracy_score(y_test, y_predicted_LSTM)\n",
    "\n",
    "# Loss and Accuracy\n",
    "f1_score_metric = f1_score(y_test, y_predicted_LSTM)\n",
    "\n",
    "mlflow.log_metrics({\n",
    "    'F1 Score': f1_score_metric,\n",
    "    'Accuracy-Score': accuracy_score_metric\n",
    "})"
   ],
   "metadata": {
    "collapsed": false,
    "pycharm": {
     "name": "#%%\n"
    }
   }
  },
  {
   "cell_type": "code",
   "execution_count": 14,
   "outputs": [
    {
     "name": "stdout",
     "output_type": "stream",
     "text": [
      "Datos y modelo en la corrida: f6a5282ddf5a492eb21619eb0cbb7be2\n"
     ]
    }
   ],
   "source": [
    "# Imprimiendo donde se encuentra la información\n",
    "run_id = mlflow.last_active_run().info.run_id\n",
    "print(f\"Datos y modelo en la corrida: {run_id}\")\n",
    "\n",
    "# Terminar run.\n",
    "mlflow.end_run()"
   ],
   "metadata": {
    "collapsed": false,
    "pycharm": {
     "name": "#%%\n"
    }
   }
  }
 ],
 "metadata": {
  "interpreter": {
   "hash": "be765b5a2c369769a88a742b7eb7588d2febb61fba837c8249a8c161d60a9417"
  },
  "kernelspec": {
   "display_name": "Python 3.10.4 ('virtualenv': venv)",
   "language": "python",
   "name": "python3"
  },
  "language_info": {
   "codemirror_mode": {
    "name": "ipython",
    "version": 3
   },
   "file_extension": ".py",
   "mimetype": "text/x-python",
   "name": "python",
   "nbconvert_exporter": "python",
   "pygments_lexer": "ipython3",
   "version": "3.10.4"
  }
 },
 "nbformat": 4,
 "nbformat_minor": 0
}