{
 "cells": [
  {
   "cell_type": "markdown",
   "source": [
    "# 3. Clasificación (Naive Bayes Multinomial)\n",
    "\n",
    "**Alumnos**\n",
    "\n",
    "- Aguilera Luzania José Luis\n",
    "- Francisco Javier Castro Marquez"
   ],
   "metadata": {
    "collapsed": false,
    "pycharm": {
     "name": "#%% md\n"
    }
   }
  },
  {
   "cell_type": "markdown",
   "source": [
    "## Contenido\n",
    "---\n",
    "\n",
    "**Introducción**\n",
    "- Clasificación de texto\n",
    "- Objetivo de la libreta.\n",
    "\n",
    "**Procesamiento de los datos**\n",
    "- Librerías\n",
    "- Cargar el *corpus*\n",
    "- Datos necesarios: *Text* y *Category*\n",
    "- Palabras vacías o *stopwords*\n",
    "- Cargar el lematizador\n",
    "- Procesamiento del texto\n",
    "- Vectorización y características TFIDF\n",
    "- Separación de los conjuntos de datos\n",
    "\n",
    "**Métricas**\n",
    "- Matriz de confusión\n",
    "\n",
    "**Naive Bayes Multinomial**\n",
    "- Modelo\n",
    "- Resultados"
   ],
   "metadata": {
    "collapsed": false,
    "pycharm": {
     "name": "#%% md\n"
    }
   }
  },
  {
   "cell_type": "markdown",
   "source": [
    "## Introducción\n",
    "---"
   ],
   "metadata": {
    "collapsed": false,
    "pycharm": {
     "name": "#%% md\n"
    }
   }
  },
  {
   "cell_type": "markdown",
   "source": [
    "#### Clasificación de texto\n",
    "\n",
    "La clasificación de textos es la tarea de clasificar un documento en una categoría predefinida, es decir, si *d_j* es un documento del conjunto de documentos *D* y *{c_1, c_2, ..., c_n}* es el conjunto de categorías, entonces la clasificación de textos asigna una categoría *c_i* al documento *d_j*. El caso de la detección de noticias falsas se puede resolver como un problema de clasificación de textos, donde a cada noticia *n_i* del conjunto de noticias *N* le asignamos una categoría del conjunto *{true, fake}*.\n",
    "\n",
    "El proceso de clasificación de textos se muestra en la siguiente figura:\n",
    "\n",
    "\n",
    "<p align=\"center\">\n",
    "<img src=\"./Imagenes/proceso_clasificacion_textos.png\" width=\"500\">\n",
    "</p>"
   ],
   "metadata": {
    "collapsed": false,
    "pycharm": {
     "name": "#%% md\n"
    }
   }
  },
  {
   "cell_type": "markdown",
   "source": [
    "#### Objetivo de la libreta\n",
    "\n",
    "El objetivo de esta libreta es mostrar el procesamiento necesario del texto para después ser usado en un clasificador de texto y utilizar distintos métodos para clasificar el texto."
   ],
   "metadata": {
    "collapsed": false,
    "pycharm": {
     "name": "#%% md\n"
    }
   }
  },
  {
   "cell_type": "markdown",
   "source": [
    "## MLflow Setup\n",
    "---"
   ],
   "metadata": {
    "collapsed": false,
    "pycharm": {
     "name": "#%% md\n"
    }
   }
  },
  {
   "cell_type": "code",
   "execution_count": 1,
   "outputs": [
    {
     "name": "stdout",
     "output_type": "stream",
     "text": [
      "MLflow Version: 1.26.0\n",
      "Tracking URI: http://localhost:5000\n",
      "Nombre del experimento: Naive Bayes\n",
      "ID del experimento: 2\n"
     ]
    }
   ],
   "source": [
    "import mlflow\n",
    "\n",
    "# Traking ═══════════════════════════════════════════════════\n",
    "track_uri = \"http://localhost:5000\"\n",
    "mlflow.set_tracking_uri(track_uri)\n",
    "\n",
    "# Generación del experimento ════════════════════════════════\n",
    "experiment_name = \"Naive Bayes\"\n",
    "mlflow.set_experiment(experiment_name)\n",
    "\n",
    "# Cargando la información ═══════════════════════════════════\n",
    "client = mlflow.tracking.MlflowClient()\n",
    "experiment_id = client.get_experiment_by_name(experiment_name).experiment_id\n",
    "\n",
    "# Imprimir la información ═══════════════════════════════════\n",
    "print(f\"MLflow Version: {mlflow.__version__}\")\n",
    "print(f\"Tracking URI: {mlflow.tracking.get_tracking_uri()}\")\n",
    "print(f\"Nombre del experimento: {experiment_name}\")\n",
    "print(f\"ID del experimento: {experiment_id}\")"
   ],
   "metadata": {
    "collapsed": false,
    "pycharm": {
     "name": "#%%\n"
    }
   }
  },
  {
   "cell_type": "markdown",
   "source": [
    "## Procesamiento de los datos\n",
    "---"
   ],
   "metadata": {
    "collapsed": false,
    "pycharm": {
     "name": "#%% md\n"
    }
   }
  },
  {
   "cell_type": "markdown",
   "source": [
    "#### Librerías"
   ],
   "metadata": {
    "collapsed": false,
    "pycharm": {
     "name": "#%% md\n"
    }
   }
  },
  {
   "cell_type": "code",
   "execution_count": 2,
   "outputs": [],
   "source": [
    "import pandas as pd\n",
    "import numpy as np\n",
    "import matplotlib.pyplot as plt\n",
    "import seaborn as sns\n",
    "import re\n",
    "import nltk\n",
    "import spacy\n",
    "import spacy_spanish_lemmatizer\n",
    "import pathlib\n",
    "import pickle\n",
    "\n",
    "from nltk.corpus import stopwords\n",
    "\n",
    "from tqdm.notebook import tqdm_notebook\n",
    "\n",
    "from sklearn.naive_bayes import MultinomialNB\n",
    "from sklearn.model_selection import train_test_split\n",
    "from sklearn.feature_extraction.text import TfidfVectorizer\n",
    "from sklearn.metrics import confusion_matrix, classification_report, accuracy_score, f1_score"
   ],
   "metadata": {
    "collapsed": false,
    "pycharm": {
     "name": "#%%\n"
    }
   }
  },
  {
   "cell_type": "markdown",
   "source": [
    "#### Datos adicionales para la librería `nltk`"
   ],
   "metadata": {
    "collapsed": false,
    "pycharm": {
     "name": "#%% md\n"
    }
   }
  },
  {
   "cell_type": "code",
   "execution_count": 3,
   "outputs": [
    {
     "name": "stderr",
     "output_type": "stream",
     "text": [
      "[nltk_data] Downloading package punkt to\n",
      "[nltk_data]     C:\\Users\\JoseLuisAL\\AppData\\Roaming\\nltk_data...\n",
      "[nltk_data]   Package punkt is already up-to-date!\n",
      "[nltk_data] Downloading package stopwords to\n",
      "[nltk_data]     C:\\Users\\JoseLuisAL\\AppData\\Roaming\\nltk_data...\n",
      "[nltk_data]   Package stopwords is already up-to-date!\n"
     ]
    },
    {
     "data": {
      "text/plain": "True"
     },
     "execution_count": 3,
     "metadata": {},
     "output_type": "execute_result"
    }
   ],
   "source": [
    "nltk.download('punkt')\n",
    "nltk.download('stopwords')"
   ],
   "metadata": {
    "collapsed": false,
    "pycharm": {
     "name": "#%%\n"
    }
   }
  },
  {
   "cell_type": "markdown",
   "source": [
    "#### Cargar el corpus"
   ],
   "metadata": {
    "collapsed": false,
    "pycharm": {
     "name": "#%% md\n"
    }
   }
  },
  {
   "cell_type": "code",
   "execution_count": 4,
   "outputs": [
    {
     "data": {
      "text/plain": "  Category     Topic                      Source  \\\n0     True   Science                     El país   \n1     True   Economy               El financiero   \n2     Fake     Sport  actualidadpanamericana.com   \n3     Fake  Politics  actualidadpanamericana.com   \n4     Fake  Politics  actualidadpanamericana.com   \n\n                                            Headline  \\\n0  La NASA recupera el contacto con un satélite d...   \n1  AMLO aceleraría el consumo y el crecimiento ec...   \n2  Compañero de James se ‘calvea’ y le juega pesa...   \n3  Dian gravará este año a los niños que recojan ...   \n4         Uribe asegura que insultó 358 guerrilleros   \n\n                                                Text  \\\n0  La NASA recupera el contacto con un satélite d...   \n1  AMLO aceleraría el consumo y el crecimiento ec...   \n2  Al borde de un colapso nervioso quedó el hábil...   \n3  Mediante pupitrazo de último minuto anoche, el...   \n4  Muy temprano esta mañana el expresidente y aho...   \n\n                                                Link  \n0  https://elpais.com/elpais/2018/02/01/ciencia/1...  \n1  http://www.elfinanciero.com.mx/economia/amlo-a...  \n2  http://www.actualidadpanamericana.com/companer...  \n3  http://www.actualidadpanamericana.com/dian-gra...  \n4  http://www.actualidadpanamericana.com/uribe-as...  ",
      "text/html": "<div>\n<style scoped>\n    .dataframe tbody tr th:only-of-type {\n        vertical-align: middle;\n    }\n\n    .dataframe tbody tr th {\n        vertical-align: top;\n    }\n\n    .dataframe thead th {\n        text-align: right;\n    }\n</style>\n<table border=\"1\" class=\"dataframe\">\n  <thead>\n    <tr style=\"text-align: right;\">\n      <th></th>\n      <th>Category</th>\n      <th>Topic</th>\n      <th>Source</th>\n      <th>Headline</th>\n      <th>Text</th>\n      <th>Link</th>\n    </tr>\n  </thead>\n  <tbody>\n    <tr>\n      <th>0</th>\n      <td>True</td>\n      <td>Science</td>\n      <td>El país</td>\n      <td>La NASA recupera el contacto con un satélite d...</td>\n      <td>La NASA recupera el contacto con un satélite d...</td>\n      <td>https://elpais.com/elpais/2018/02/01/ciencia/1...</td>\n    </tr>\n    <tr>\n      <th>1</th>\n      <td>True</td>\n      <td>Economy</td>\n      <td>El financiero</td>\n      <td>AMLO aceleraría el consumo y el crecimiento ec...</td>\n      <td>AMLO aceleraría el consumo y el crecimiento ec...</td>\n      <td>http://www.elfinanciero.com.mx/economia/amlo-a...</td>\n    </tr>\n    <tr>\n      <th>2</th>\n      <td>Fake</td>\n      <td>Sport</td>\n      <td>actualidadpanamericana.com</td>\n      <td>Compañero de James se ‘calvea’ y le juega pesa...</td>\n      <td>Al borde de un colapso nervioso quedó el hábil...</td>\n      <td>http://www.actualidadpanamericana.com/companer...</td>\n    </tr>\n    <tr>\n      <th>3</th>\n      <td>Fake</td>\n      <td>Politics</td>\n      <td>actualidadpanamericana.com</td>\n      <td>Dian gravará este año a los niños que recojan ...</td>\n      <td>Mediante pupitrazo de último minuto anoche, el...</td>\n      <td>http://www.actualidadpanamericana.com/dian-gra...</td>\n    </tr>\n    <tr>\n      <th>4</th>\n      <td>Fake</td>\n      <td>Politics</td>\n      <td>actualidadpanamericana.com</td>\n      <td>Uribe asegura que insultó 358 guerrilleros</td>\n      <td>Muy temprano esta mañana el expresidente y aho...</td>\n      <td>http://www.actualidadpanamericana.com/uribe-as...</td>\n    </tr>\n  </tbody>\n</table>\n</div>"
     },
     "execution_count": 4,
     "metadata": {},
     "output_type": "execute_result"
    }
   ],
   "source": [
    "corpus = pd.read_csv('Datos/corpus_spanish_v3.csv', encoding='utf-8', index_col=0)\n",
    "corpus.head()"
   ],
   "metadata": {
    "collapsed": false,
    "pycharm": {
     "name": "#%%\n"
    }
   }
  },
  {
   "cell_type": "markdown",
   "source": [
    "#### Palabras vacías o *stopwords*\n",
    "\n",
    "Las *stopwords* o palabras vacías son aquellas que carecen de sentido de manera individual o sin una palabra clave o *keyword*. Se utilizan las *stopwords* proporcionadas por la librería `nltk` en conjunto con las obtenidas del repositorio \"stopwords-es\" del usuario [genediazjr](https://github.com/stopwords-iso/stopwords-es).\n",
    "\n",
    "*Nota: Algunos documentos utilizan palabras o referencias en inglés, por lo que se anexarán las stopwords en inglés de la librería `nltk`*."
   ],
   "metadata": {
    "collapsed": false,
    "pycharm": {
     "name": "#%% md\n"
    }
   }
  },
  {
   "cell_type": "code",
   "execution_count": 5,
   "outputs": [
    {
     "name": "stdout",
     "output_type": "stream",
     "text": [
      "Stopwords count: 906\n"
     ]
    }
   ],
   "source": [
    "stopwords_spanish_nltk = stopwords.words('spanish')\n",
    "stopwords_english_nltk = stopwords.words('english')\n",
    "stopwords_spanish_json = list(pd.read_json('Datos/stopwords-es.json')[0])\n",
    "\n",
    "stopwords_spanish = list(set(stopwords_spanish_nltk +\n",
    "                             stopwords_english_nltk +\n",
    "                             stopwords_spanish_json))\n",
    "\n",
    "print(f'Stopwords count: {len(stopwords_spanish)}')"
   ],
   "metadata": {
    "collapsed": false,
    "pycharm": {
     "name": "#%%\n"
    }
   }
  },
  {
   "cell_type": "markdown",
   "source": [
    "#### Cargar el lematizador\n",
    "\n",
    "La lematización consisten en que dada una forma flexionada (plural, femenino, conjugada, etc.) se halla el lema correspondiente. El lema es la forma que por convenio se acepta como representante de todas las formas flexionadas de una misma palabra. Por ejemplo: el lema de *\"diré\"*, *\"dije\"* y *\"diríamos\"* es *\"decir\"*. Utilizar los lemas permite conservar coherencia en el texto, mientras que se reduce su tamaño.\n",
    "\n",
    "Para poder lematizar palabras en español se utiliza la librería `spacy` en conjunto con las reglas para lematización en español creadas por el usuario de github [pablodms](https://github.com/pablodms/spacy-spanish-lemmatizer).\n",
    "\n",
    "Para poder utilizar el lematizador es necesario ejecutar los siguientes comandos en la consola o en una celda de jupyter.\n",
    "\n",
    "```powershell\n",
    "pip install -U pip setuptools wheel\n",
    "python -m spacy download es_core_news_sm\n",
    "python -m spacy download es_core_news_lg\n",
    "python -m spacy_spanish_lemmatizer download wiki\n",
    "```"
   ],
   "metadata": {
    "collapsed": false,
    "pycharm": {
     "name": "#%% md\n"
    }
   }
  },
  {
   "cell_type": "code",
   "execution_count": 6,
   "outputs": [
    {
     "data": {
      "text/plain": "<spacy_spanish_lemmatizer.main.SpacyCustomLemmatizer at 0x16f65330910>"
     },
     "execution_count": 6,
     "metadata": {},
     "output_type": "execute_result"
    }
   ],
   "source": [
    "spacy.require_gpu()\n",
    "nlp = spacy.load('es_core_news_lg')\n",
    "nlp.replace_pipe('lemmatizer', 'spanish_lemmatizer')"
   ],
   "metadata": {
    "collapsed": false,
    "pycharm": {
     "name": "#%%\n"
    }
   }
  },
  {
   "cell_type": "markdown",
   "source": [
    "#### Procesamiento del texto\n",
    "\n",
    "En el procesamiento requiere de dos funciones `process_text` y `get_processed_corpus`.\n",
    "\n",
    "**Función: process_text**\n",
    "\n",
    "Se encarga de procesar el texto realizando los siguientes pasos:\n",
    "- Eliminar hipervínculos.\n",
    "- Eliminar los saltos de línea.\n",
    "- Cambiar las etiquetas de números, teléfonos, correos y urls por una en español.\n",
    "- Eliminar todos los caracteres que no sean del español.\n",
    "- Obtener los lemas de todas las palabras del texto.\n",
    "\n",
    "**Función: get_processed_corpus**\n",
    "\n",
    "Procesar las más de 3000 noticias que hay en el corpus no es una tarea que lleva su tiempo, para reducir el tiempo en el que se ejecuta la libreta y se realizan pruebas en los modelos se creo la función `get_processed_corpus` que procesar el corpus y guardarlo en un archivo para cargarlo después de modo que solo se procesa una vez y se puede utilizar cada vez que sea necesesario, en caso de querer procesarlo cada vez que se ejecute, solo es necesario eliminar el archivo `processed_corpus_spanish.csv`."
   ],
   "metadata": {
    "collapsed": false,
    "pycharm": {
     "name": "#%% md\n"
    }
   }
  },
  {
   "cell_type": "code",
   "execution_count": 7,
   "outputs": [],
   "source": [
    "def process_text(text):\n",
    "    text = re.sub(r\"http\\S+\", \"\", text)\n",
    "    text = re.sub(r\"http\", \"\", text)\n",
    "    text = re.sub(\"\\n\", \" \", text)\n",
    "    text = text.replace(r\"*NUMBER*\", \"número\")\n",
    "    text = text.replace(r\"*PHONE*\", \"número\")\n",
    "    text = text.replace(r\"*EMAIL*\", \"email\")\n",
    "    text = text.replace(r\"*URL*\", \"url\")\n",
    "    text = re.sub('[^ A-Za-z\\dÁÉÍÓÚÑáéíóúñ/]+', ' ', text)\n",
    "    text = [token.lemma_ for token in nlp(text)\n",
    "            if token.is_alpha and\n",
    "            not token.lemma_ in stopwords_spanish]\n",
    "    text = ' '.join(text)\n",
    "\n",
    "    return text\n",
    "\n",
    "\n",
    "def get_processed_corpus():\n",
    "    processed_corpus_file = pathlib.Path('Datos/processed_corpus_spanish.csv')\n",
    "    if processed_corpus_file.is_file():\n",
    "        df = pd.read_csv(processed_corpus_file, encoding='utf-8')\n",
    "    else:\n",
    "        # Procesar el texto.\n",
    "        tqdm_notebook.pandas(desc=\"Procesando el texto\")\n",
    "        text_to_process = corpus['Text']\n",
    "        text_to_process = text_to_process.progress_apply(process_text)\n",
    "\n",
    "        # Procesar las etiquetas.\n",
    "        text_labels = corpus['Category']\n",
    "        text_labels = text_labels.astype('category').cat.codes\n",
    "\n",
    "        # Guardar los datos procesados.\n",
    "        df = pd.concat([text_to_process, text_labels], axis=1)\n",
    "        df.columns = ['Text','Category']\n",
    "        df.to_csv(processed_corpus_file, encoding='utf-8', index=False)\n",
    "\n",
    "    return df['Text'], df['Category']"
   ],
   "metadata": {
    "collapsed": false,
    "pycharm": {
     "name": "#%%\n"
    }
   }
  },
  {
   "cell_type": "code",
   "execution_count": 8,
   "outputs": [],
   "source": [
    "# Datos necesarios ══════════════════════════════════════════\n",
    "X, y = get_processed_corpus()\n",
    "\n",
    "# Numpy ═════════════════════════════════════════════════════\n",
    "X = X.values\n",
    "y = y.values"
   ],
   "metadata": {
    "collapsed": false,
    "pycharm": {
     "name": "#%%\n"
    }
   }
  },
  {
   "cell_type": "code",
   "execution_count": 9,
   "outputs": [],
   "source": [
    "# MLFlow ════════════════════════════════════════════════════\n",
    "mlflow.sklearn.autolog()"
   ],
   "metadata": {
    "collapsed": false,
    "pycharm": {
     "name": "#%%\n"
    }
   }
  },
  {
   "cell_type": "markdown",
   "source": [
    "#### Vectorización y características TF-IDF\n",
    "\n",
    "**Vectorización**\n",
    "\n",
    "Consiste en convertir las palabras en los textos de las noticias en vectores numéricos que las representan.\n",
    "\n",
    "**Term frequency - Inverse document frequency**\n",
    "\n",
    "- Es una técnica que expresa que tan relevante es una palabra para un documento (texto).\n",
    "- TF-IDF es el producto de dos medidas\n",
    "    - **Term Frequency:** Mide el número de veces que un término (palabra) aparece en el documento.\n",
    "    - **Inverse Document Frequency:** Mide si el término es común o no, en el documento.\n",
    "\n",
    "**TF-IDF Vectorizer**\n",
    "\n",
    "- Convierte una colección de documentos en una matriz de características TF-IDF, donde las columnas son los documentos y los renglones los términos, los valores de cada elemento son la importancia en dicho documento.\n",
    "- Es el equivalente a utilizar CountVectorizer seguido de TfidfTransformer.\n",
    "    - **CountVectorizer:** Convierte una colección de documentos en una matriz de conteo de tokens.\n",
    "    - **TfidfTransformer:** Convierte una matriz de conteo en una matriz de características TF-IDF.\n"
   ],
   "metadata": {
    "collapsed": false,
    "pycharm": {
     "name": "#%% md\n"
    }
   }
  },
  {
   "cell_type": "code",
   "execution_count": 10,
   "outputs": [],
   "source": [
    "# Características ═══════════════════════════════════════════\n",
    "max_features = 30000\n",
    "ngram_range = (1,3)\n",
    "\n",
    "# Guardar características y ngramas ═════════════════════════\n",
    "mlflow.log_params({\n",
    "    'max_features': str(max_features),\n",
    "    'ngram_range': f'{ngram_range}'\n",
    "})\n",
    "\n",
    "# Vectorización y extracción de características ═════════════\n",
    "tfidf_vectorizer = TfidfVectorizer(max_features=max_features, ngram_range=ngram_range, lowercase=False, strip_accents='unicode')\n",
    "X = tfidf_vectorizer.fit_transform(X).toarray()\n",
    "\n",
    "tfidf_vectorizer_path = 'Archivos_pkl/tfidf_vectorizer.pk'\n",
    "with open(tfidf_vectorizer_path, 'wb') as file:\n",
    "    pickle.dump(tfidf_vectorizer, file)\n",
    "\n",
    "mlflow.log_artifact(tfidf_vectorizer_path, 'TFIDF_Vectorizer')"
   ],
   "metadata": {
    "collapsed": false,
    "pycharm": {
     "name": "#%%\n"
    }
   }
  },
  {
   "cell_type": "markdown",
   "source": [
    "#### Separación de los conjuntos de datos"
   ],
   "metadata": {
    "collapsed": false,
    "pycharm": {
     "name": "#%% md\n"
    }
   }
  },
  {
   "cell_type": "code",
   "execution_count": 11,
   "outputs": [],
   "source": [
    "test_size = 0.4\n",
    "X_train, X_test, y_train, y_test = train_test_split(X, y, test_size=test_size, stratify=y, random_state=2021)\n",
    "\n",
    "# Guardar el tamaño del conjunto de entrenamiento ═══════════\n",
    "mlflow.log_param('test_size', str(test_size))"
   ],
   "metadata": {
    "collapsed": false,
    "pycharm": {
     "name": "#%%\n"
    }
   }
  },
  {
   "cell_type": "markdown",
   "source": [
    "## Métricas\n",
    "---"
   ],
   "metadata": {
    "collapsed": false,
    "pycharm": {
     "name": "#%% md\n"
    }
   }
  },
  {
   "cell_type": "markdown",
   "source": [
    "#### Matriz de confusión\n",
    "\n",
    "Es una representación matricial de la predicción de los resultados, usualmente usada para describir el rendimiento de clasificación de un modelo en el conjunto de pruebas para los cuales el resultado es conocido.\n",
    "\n",
    "- True Positives: Casos en los que predecimos SI y el valor real es SI.\n",
    "- True Negatives: Casos en los que predecimos NO y el valor real es SI.\n",
    "- False Positives: Casos en los que predecimos SI y el valor real es NO.\n",
    "- False Negatives: Casos en los que predecimos NO y el valor real es SI."
   ],
   "metadata": {
    "collapsed": false,
    "pycharm": {
     "name": "#%% md\n"
    }
   }
  },
  {
   "cell_type": "code",
   "execution_count": 12,
   "outputs": [],
   "source": [
    "def plot_confusion_matrix(y_test_values, y_predicted_values, method=''):\n",
    "    cf_matrix = confusion_matrix(y_test_values, y_predicted_values)\n",
    "    group_counts = ['{0:0.0f}'.format(value) for value in cf_matrix.flatten()]\n",
    "    group_percentages = ['{0:.2%}'.format(value) for value in cf_matrix.flatten() / np.sum(cf_matrix)]\n",
    "    labels = [f'{v1}\\n{v2}' for v1, v2 in zip(group_counts, group_percentages)]\n",
    "    labels = np.asarray(labels).reshape(2, 2)\n",
    "\n",
    "    fig, ax = plt.subplots(figsize = (7, 5.5))\n",
    "    sns.heatmap(cf_matrix, annot = labels, ax = ax, fmt = '',cmap = 'Blues', annot_kws = {\"size\": 13})\n",
    "\n",
    "    # Etiquetas, título y ticks\n",
    "    label_font = {'size':'15'}\n",
    "    ax.set_xlabel(' \\nPredicción', fontdict = label_font)\n",
    "    ax.set_ylabel('Valores reales\\n', fontdict = label_font)\n",
    "\n",
    "    title_font = {'size':'16'}\n",
    "    cf_matrix_title = 'Matriz de confusión: ' + method + '\\n'\n",
    "    ax.set_title(cf_matrix_title, fontdict = title_font)\n",
    "\n",
    "    ax.tick_params(axis = 'both', which = 'major', labelsize = 13)\n",
    "    ax.xaxis.set_ticklabels(['Fake', 'Real'])\n",
    "    ax.yaxis.set_ticklabels(['Fake', 'Real'])\n",
    "\n",
    "    # Guardar el archivo.\n",
    "    plt.savefig(f'Plots/artifacts/matriz_confusion_{method}.png')\n",
    "    mlflow.log_artifact(f'Plots/artifacts/matriz_confusion_{method}.png')\n",
    "\n",
    "    plt.show()"
   ],
   "metadata": {
    "collapsed": false,
    "pycharm": {
     "name": "#%%\n"
    }
   }
  },
  {
   "cell_type": "markdown",
   "source": [
    "## Naive Bayes Multinomial\n",
    "---\n"
   ],
   "metadata": {
    "collapsed": false,
    "pycharm": {
     "name": "#%% md\n"
    }
   }
  },
  {
   "cell_type": "markdown",
   "source": [
    "#### Introducción\n",
    "\n",
    "Naive Bayes es uno de los modelos más simples y usados en clasificación de texto porque sus resultados son tan buenos como otros modelos más sofisticados.\n",
    "\n",
    "Se basa en la aplicación del teorema de Bayes para predecir la probabilidad de que un documento pertenezca a una clase *P(c_i|d_j)* a partir de la probabilidad de los documentos dada la clase *P(d_j|c_i)* y la probabilidad a priori de la clase en el conjunto de entrenamiento *P(c_i)*.\n",
    "\n",
    "<br>\n",
    "<p align=\"center\">\n",
    "<img src=\"./Imagenes/info/naive_bayes_eq.png\" width=\"300\">\n",
    "</p>\n",
    "\n",
    "MultinomialNB implementa el algoritmo de Naive Bayes para datos distribuidos multinomialmente, y es una de las dos variantes clásicas de Naive Bayes  utilizadas en la clasificación de textos (donde los datos se representan normalmente como recuentos de vectores de palabras, aunque también se sabe que los vectores tf-idf funcionan bien en la práctica). La distribución está parametrizada por vectores *theta_y = (theta_y_1, ..., theta_y_n)* para cada clase *y*, donde *n* es el número de características (en la clasificación de textos, el tamaño del vocabulario) y *theta_y_i* es la probabilidad *P(x_i | y)* de que el rasgo *i* aparezca en una muestra perteneciente a la clase *y*.\n",
    "\n",
    "Los parámetros *theta_y* se estiman mediante una versión suavizada de máxima verosimilitud, es decir, el recuento de la frecuencia relativa:\n",
    "\n",
    "<br>\n",
    "<p align=\"center\">\n",
    "<img src=\"./Imagenes/info/naive_bayes_frequency_counting.png\" width=\"150\">\n",
    "</p>\n",
    "\n",
    "donde\n",
    "\n",
    "<br>\n",
    "<p align=\"center\">\n",
    "<img src=\"./Imagenes/info/naive_bayes_number_of_times_feature.png\" width=\"150\">\n",
    "</p>\n",
    "\n",
    "es el número de veces que la característica *i* aparece en una muestra de la clase *y* en el conjunto de entrenamiento *T*, y\n",
    "\n",
    "<br>\n",
    "<p align=\"center\">\n",
    "<img src=\"./Imagenes/info/naive_bayes_count_of_all_features.png\" width=\"150\">\n",
    "</p>\n",
    "\n",
    "es el recuento total de todas las características para la clase *y*.\n",
    "\n",
    "Los priores de suavizado *alpha >= 0* tienen en cuenta las características que no están presentes en las muestras de aprendizaje y evitan las probabilidades nulas en los cálculos posteriores. Establecer *alpha = 1* se llama suavizado de Laplace, mientras que *alpha < 1* se llama suavizado de Lidstone."
   ],
   "metadata": {
    "collapsed": false,
    "pycharm": {
     "name": "#%% md\n"
    }
   }
  },
  {
   "cell_type": "code",
   "execution_count": 13,
   "outputs": [
    {
     "name": "stderr",
     "output_type": "stream",
     "text": [
      "2022/05/18 01:26:20 WARNING mlflow.utils.autologging_utils: MLflow autologging encountered a warning: \"D:\\Github\\Deteccion-de-Noticias-Falsas\\Notebooks\\virtualenv\\lib\\site-packages\\_distutils_hack\\__init__.py:30: UserWarning: Setuptools is replacing distutils.\"\n"
     ]
    },
    {
     "data": {
      "text/plain": "<Figure size 700x550 with 2 Axes>",
      "image/png": "[encoded data removed]"
     },
     "metadata": {},
     "output_type": "display_data"
    },
    {
     "name": "stdout",
     "output_type": "stream",
     "text": [
      "              precision    recall  f1-score   support\n",
      "\n",
      "           0       0.86      0.96      0.91       771\n",
      "           1       0.96      0.86      0.90       819\n",
      "\n",
      "    accuracy                           0.91      1590\n",
      "   macro avg       0.91      0.91      0.91      1590\n",
      "weighted avg       0.91      0.91      0.91      1590\n",
      "\n"
     ]
    }
   ],
   "source": [
    "# Modelo ════════════════════════════════════════════════════\n",
    "alpha = 0.5\n",
    "fit_prior = True\n",
    "\n",
    "model_NB = MultinomialNB(alpha=alpha)\n",
    "model_NB.fit(X_train, y_train)\n",
    "\n",
    "mlflow.log_params({\n",
    "    'alpha': str(alpha),\n",
    "    'fit_prior': str(fit_prior)\n",
    "})\n",
    "\n",
    "# Predicción ════════════════════════════════════════════════\n",
    "y_predicted_NB = model_NB.predict(X_test)\n",
    "\n",
    "# Resultados ════════════════════════════════════════════════\n",
    "# Matriz de confusión\n",
    "plot_confusion_matrix(y_predicted_NB, y_test, 'Naive Bayes')\n",
    "\n",
    "# Reporte de clasificación\n",
    "print(classification_report(y_test, y_predicted_NB))\n",
    "\n",
    "# Accuracy-score\n",
    "accuracy_score_metric = accuracy_score(y_test, y_predicted_NB, normalize=True)\n",
    "\n",
    "# Loss and Accuracy\n",
    "f1_score_metric = f1_score(y_test, y_predicted_NB)\n",
    "\n",
    "mlflow.log_metrics({\n",
    "    'F1 Score': f1_score_metric,\n",
    "    'Accuracy-Score': accuracy_score_metric\n",
    "})"
   ],
   "metadata": {
    "collapsed": false,
    "pycharm": {
     "name": "#%%\n"
    }
   }
  },
  {
   "cell_type": "code",
   "execution_count": 14,
   "outputs": [
    {
     "name": "stdout",
     "output_type": "stream",
     "text": [
      "Datos y modelo en la corrida: 1d80532bf3a64b969e1f4f02ae4e5db1\n"
     ]
    }
   ],
   "source": [
    "# Imprimiendo donde se encuentra la información\n",
    "run_id = mlflow.last_active_run().info.run_id\n",
    "print(f\"Datos y modelo en la corrida: {run_id}\")\n",
    "\n",
    "# Terminar run.\n",
    "mlflow.end_run()"
   ],
   "metadata": {
    "collapsed": false,
    "pycharm": {
     "name": "#%%\n"
    }
   }
  }
 ],
 "metadata": {
  "interpreter": {
   "hash": "be765b5a2c369769a88a742b7eb7588d2febb61fba837c8249a8c161d60a9417"
  },
  "kernelspec": {
   "display_name": "Python 3.10.4 ('virtualenv': venv)",
   "language": "python",
   "name": "python3"
  },
  "language_info": {
   "codemirror_mode": {
    "name": "ipython",
    "version": 3
   },
   "file_extension": ".py",
   "mimetype": "text/x-python",
   "name": "python",
   "nbconvert_exporter": "python",
   "pygments_lexer": "ipython3",
   "version": "3.10.4"
  }
 },
 "nbformat": 4,
 "nbformat_minor": 0
}