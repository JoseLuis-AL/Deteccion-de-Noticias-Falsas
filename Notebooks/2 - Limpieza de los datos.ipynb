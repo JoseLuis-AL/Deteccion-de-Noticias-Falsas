{
 "cells": [
  {
   "cell_type": "markdown",
   "id": "c4cdd109-11f7-423f-9240-bdde1bacac0f",
   "metadata": {
    "tags": [],
    "pycharm": {
     "name": "#%% md\n"
    }
   },
   "source": [
    "# 2. Limpieza de los datos\n",
    "\n",
    "José Luis Aguilera Luzania"
   ]
  },
  {
   "cell_type": "markdown",
   "source": [
    "## Contenido\n",
    "\n",
    "**2.1 Introducción**\n",
    "\n",
    "- ¿Qué es la detección de noticias falsas? (*Fake news*)\n",
    "- Objetivo de la libreta\n",
    "\n",
    "**2.2 Limpieza de los datos**\n",
    "\n",
    "- ¿Por qué limpiar los datos?\n",
    "- Librerías\n",
    "- Conjunto de datos\n",
    "- Eliminar columnas innecesarias\n",
    "- Procesar las columnas restantes\n",
    "\n",
    "**2.3 Traducción de los datos**\n",
    "\n",
    "- Traducir el nombre de las columnas\n",
    "- Traducir los temas\n",
    "- Traducir las categorías\n",
    "\n",
    "**2.4 Guardar los datos**\n",
    "\n",
    "- Guardar los datos.\n",
    "\n"
   ],
   "metadata": {
    "collapsed": false,
    "pycharm": {
     "name": "#%% md\n"
    }
   }
  },
  {
   "cell_type": "markdown",
   "source": [
    "## 2.1 Introducción\n",
    "\n",
    "**¿Qué es la detección de noticias falsas? (*Fake News*)**\n",
    "La detección de noticias falsas (Fake News) es la tarea de evaluar la veracidad de las afirmaciones en las noticias. Este es un problema crítico en el Procesamiento del Lenguaje Natural (PLN) porque tanto en medios de noticias tradicionales como en medios digitales las Fake News generan un gran impacto social y político en cada individuo. Por ejemplo, la exposición a las Fake News puede generar actitudes de ineficacia, alienación y cinismo hacia ciertos candidatos políticos (Balmas, 2014).\n",
    "\n",
    "**Objetivo de la libreta**\n",
    "El objetivo de esta libreta es limpiar los datos para evitar errores durante el análisis, el procesamiento y obtener solo los datos necesarios para las siguientes libretas."
   ],
   "metadata": {
    "collapsed": false,
    "pycharm": {
     "name": "#%% md\n"
    }
   }
  },
  {
   "cell_type": "markdown",
   "source": [
    "## 2.2 Limpieza de los datos\n",
    "\n",
    "**¿Por qué limpiar los datos?**\n",
    "\n",
    "Durante la libreta anterior \"*1. Introducción a los datos*\" se observó casos donde una fuente se encontraba escrita de distintas formas, aumentando la cantidad de fuentes únicas reconocidas. Esto puede pasar con palabras en todos los textos, ya sea por un acento, mayúscula, minúscula, etc. escrita de manera diferente en alguna entrada. Con el fin de prevenir errores en análisis futuros de los datos y en su procesamiento antes de ser utilizados por algún método, los datos deben ser limpiados y como extra serán traducidos al español para evitar inconsistencias en el idioma.\n",
    "\n",
    "**Librerías**\n",
    "Manipulación de datos:\n",
    "- `pandas`: Librería para manipular los datos de forma tabular.\n",
    "- `unicode`: Librería para eliminar acentos de las palabras.\n",
    "- `re`: Librería para utilizar expresiones regulares.\n"
   ],
   "metadata": {
    "collapsed": false,
    "pycharm": {
     "name": "#%% md\n"
    }
   }
  },
  {
   "cell_type": "code",
   "execution_count": 1,
   "outputs": [],
   "source": [
    "import pandas as pd\n",
    "import unidecode\n",
    "import re"
   ],
   "metadata": {
    "collapsed": false,
    "pycharm": {
     "name": "#%%\n"
    }
   }
  },
  {
   "cell_type": "markdown",
   "source": [
    "**Conjunto de datos**\n",
    "Los datos están divididos en dos conjuntos de datos en los archivos `train.xlsx` y `development.xlsx`, con 80% para entrenamiento y 20% para pruebas respectivamente.\n",
    "\n",
    "Para limpiar los datos y ordenarlos para su uso posterior se unirán en un solo dataframe de pandas."
   ],
   "metadata": {
    "collapsed": false,
    "pycharm": {
     "name": "#%% md\n"
    }
   }
  },
  {
   "cell_type": "code",
   "execution_count": 2,
   "outputs": [
    {
     "name": "stdout",
     "output_type": "stream",
     "text": [
      "Noticias, Columnas: (971, 7)\n",
      "Columnas: ['Id', 'Category', 'Topic', 'Source', 'Headline', 'Text', 'Link']\n",
      "Noticias verdaderas: 480\n",
      "Noticias falsas: 491\n"
     ]
    },
    {
     "data": {
      "text/plain": "   Id Category      Topic          Source  \\\n0   1     Fake  Education  El Ruinaversal   \n1   2     Fake  Education     Hay noticia   \n2   3     Fake  Education  El Ruinaversal   \n3   4     True  Education    EL UNIVERSAL   \n4   5     Fake  Education          Lamula   \n\n                                            Headline  \\\n0  RAE INCLUIRÁ LA PALABRA \"LADY\" EN EL DICCIONAR...   \n1            La palabra \"haiga\", aceptada por la RAE   \n2  YORDI ROSADO ESCRIBIRÁ Y DISEÑARÁ LOS NUEVOS L...   \n3  UNAM capacitará a maestros para aprobar prueba...   \n4  pretenden aprobar libros escolares con conteni...   \n\n                                                Text  \\\n0  RAE INCLUIRÁ LA PALABRA \"LADY\" EN EL DICCIONAR...   \n1  La palabra \"haiga\", aceptada por la RAE La Rea...   \n2  YORDI ROSADO ESCRIBIRÁ Y DISEÑARÁ LOS NUEVOS L...   \n3  UNAM capacitará a maestros para aprobar prueba...   \n4  Alerta: pretenden aprobar libros escolares con...   \n\n                                                Link  \n0  http://www.elruinaversal.com/2017/06/10/rae-in...  \n1  https://haynoticia.es/la-palabra-haiga-aceptad...  \n2  http://www.elruinaversal.com/2018/05/06/yordi-...  \n3  http://www.eluniversal.com.mx/articulo/nacion/...  \n4  https://redaccion.lamula.pe/2018/06/19/memoria...  ",
      "text/html": "<div>\n<style scoped>\n    .dataframe tbody tr th:only-of-type {\n        vertical-align: middle;\n    }\n\n    .dataframe tbody tr th {\n        vertical-align: top;\n    }\n\n    .dataframe thead th {\n        text-align: right;\n    }\n</style>\n<table border=\"1\" class=\"dataframe\">\n  <thead>\n    <tr style=\"text-align: right;\">\n      <th></th>\n      <th>Id</th>\n      <th>Category</th>\n      <th>Topic</th>\n      <th>Source</th>\n      <th>Headline</th>\n      <th>Text</th>\n      <th>Link</th>\n    </tr>\n  </thead>\n  <tbody>\n    <tr>\n      <th>0</th>\n      <td>1</td>\n      <td>Fake</td>\n      <td>Education</td>\n      <td>El Ruinaversal</td>\n      <td>RAE INCLUIRÁ LA PALABRA \"LADY\" EN EL DICCIONAR...</td>\n      <td>RAE INCLUIRÁ LA PALABRA \"LADY\" EN EL DICCIONAR...</td>\n      <td>http://www.elruinaversal.com/2017/06/10/rae-in...</td>\n    </tr>\n    <tr>\n      <th>1</th>\n      <td>2</td>\n      <td>Fake</td>\n      <td>Education</td>\n      <td>Hay noticia</td>\n      <td>La palabra \"haiga\", aceptada por la RAE</td>\n      <td>La palabra \"haiga\", aceptada por la RAE La Rea...</td>\n      <td>https://haynoticia.es/la-palabra-haiga-aceptad...</td>\n    </tr>\n    <tr>\n      <th>2</th>\n      <td>3</td>\n      <td>Fake</td>\n      <td>Education</td>\n      <td>El Ruinaversal</td>\n      <td>YORDI ROSADO ESCRIBIRÁ Y DISEÑARÁ LOS NUEVOS L...</td>\n      <td>YORDI ROSADO ESCRIBIRÁ Y DISEÑARÁ LOS NUEVOS L...</td>\n      <td>http://www.elruinaversal.com/2018/05/06/yordi-...</td>\n    </tr>\n    <tr>\n      <th>3</th>\n      <td>4</td>\n      <td>True</td>\n      <td>Education</td>\n      <td>EL UNIVERSAL</td>\n      <td>UNAM capacitará a maestros para aprobar prueba...</td>\n      <td>UNAM capacitará a maestros para aprobar prueba...</td>\n      <td>http://www.eluniversal.com.mx/articulo/nacion/...</td>\n    </tr>\n    <tr>\n      <th>4</th>\n      <td>5</td>\n      <td>Fake</td>\n      <td>Education</td>\n      <td>Lamula</td>\n      <td>pretenden aprobar libros escolares con conteni...</td>\n      <td>Alerta: pretenden aprobar libros escolares con...</td>\n      <td>https://redaccion.lamula.pe/2018/06/19/memoria...</td>\n    </tr>\n  </tbody>\n</table>\n</div>"
     },
     "execution_count": 2,
     "metadata": {},
     "output_type": "execute_result"
    }
   ],
   "source": [
    "# Leer los datos.\n",
    "df_entrenamiento = pd.read_excel('Datos/train.xlsx')\n",
    "df_pruebas = pd.read_excel('Datos/development.xlsx')\n",
    "\n",
    "# Combinar los datos.\n",
    "df_datos = pd.concat([df_entrenamiento, df_pruebas])\n",
    "\n",
    "# Información del dataframe.\n",
    "print(f'Noticias, Columnas: {df_datos.shape}')\n",
    "print(f'Columnas: {list(df_datos.columns)}')\n",
    "print('Noticias verdaderas: {}'.format(df_datos.groupby('Category').size()[0]))\n",
    "print('Noticias falsas: {}'    .format(df_datos.groupby('Category').size()[1]))\n",
    "\n",
    "# Primeros elementos del dataframe.\n",
    "df_datos.head()"
   ],
   "metadata": {
    "collapsed": false,
    "pycharm": {
     "name": "#%%\n"
    }
   }
  },
  {
   "cell_type": "markdown",
   "source": [
    "**Eliminar las columnas `Id` y `Link`**\n",
    "\n",
    "Los datos de la columna:\n",
    "- `Id` son útiles para identificar cada una de las instancias de las noticias.\n",
    "- `Link` son útiles para leer el artículo original o comprobar si la noticia existe.\n",
    "\n",
    "en este caso, no son datos necesarios o útiles para el siguiente análisis.\n"
   ],
   "metadata": {
    "collapsed": false,
    "pycharm": {
     "name": "#%% md\n"
    }
   }
  },
  {
   "cell_type": "code",
   "execution_count": 3,
   "outputs": [
    {
     "name": "stdout",
     "output_type": "stream",
     "text": [
      "Columnas: ['Category', 'Topic', 'Source', 'Headline', 'Text']\n"
     ]
    }
   ],
   "source": [
    "# Eliminar las columnas.\n",
    "df_datos = df_datos.drop(columns=['Id', 'Link'])\n",
    "\n",
    "# Comprobar las columnas del dataframe.\n",
    "print(f'Columnas: {list(df_datos.columns)}')"
   ],
   "metadata": {
    "collapsed": false,
    "pycharm": {
     "name": "#%%\n"
    }
   }
  },
  {
   "cell_type": "markdown",
   "source": [
    "**Procesar las columnas restantes**\n",
    "\n",
    "Con el fin de agilizar el proceso de procesamiento, se definen dos funciones: `procesar_texto` y `procesar_columnas`.\n",
    "\n",
    "- La función `procesar_textos` es la función `procesar_fuentes` de la libreta anterior, solo que renombrada para que se ajuste a su nuevo propósito.\n",
    "- La función `procesar_columnas` aplicará la función `procesar_textos` a las columnas especificadas del conjunto de datos.\n",
    "\n",
    "Como recordatorio la función `procesar_textos` realiza lo siguiente:\n",
    "1. Convertir el texto en minúsculas.\n",
    "2. Eliminar acentos.\n",
    "3. Eliminar todo lo que no sea una palabra.\n"
   ],
   "metadata": {
    "collapsed": false,
    "pycharm": {
     "name": "#%% md\n"
    }
   }
  },
  {
   "cell_type": "code",
   "execution_count": 4,
   "outputs": [
    {
     "data": {
      "text/plain": "  Category      Topic          Source  \\\n0     fake  education  el ruinaversal   \n1     fake  education     hay noticia   \n2     fake  education  el ruinaversal   \n3     true  education    el universal   \n4     fake  education          lamula   \n\n                                            Headline  \\\n0  rae incluira la palabra lady en el diccionario...   \n1               la palabra haiga aceptada por la rae   \n2  yordi rosado escribira y disenara los nuevos l...   \n3  unam capacitara a maestros para aprobar prueba...   \n4  pretenden aprobar libros escolares con conteni...   \n\n                                                Text  \n0  rae incluira la palabra lady en el diccionario...  \n1  la palabra haiga aceptada por la rae la real a...  \n2  yordi rosado escribira y disenara los nuevos l...  \n3  unam capacitara a maestros para aprobar prueba...  \n4  alerta pretenden aprobar libros escolares con ...  ",
      "text/html": "<div>\n<style scoped>\n    .dataframe tbody tr th:only-of-type {\n        vertical-align: middle;\n    }\n\n    .dataframe tbody tr th {\n        vertical-align: top;\n    }\n\n    .dataframe thead th {\n        text-align: right;\n    }\n</style>\n<table border=\"1\" class=\"dataframe\">\n  <thead>\n    <tr style=\"text-align: right;\">\n      <th></th>\n      <th>Category</th>\n      <th>Topic</th>\n      <th>Source</th>\n      <th>Headline</th>\n      <th>Text</th>\n    </tr>\n  </thead>\n  <tbody>\n    <tr>\n      <th>0</th>\n      <td>fake</td>\n      <td>education</td>\n      <td>el ruinaversal</td>\n      <td>rae incluira la palabra lady en el diccionario...</td>\n      <td>rae incluira la palabra lady en el diccionario...</td>\n    </tr>\n    <tr>\n      <th>1</th>\n      <td>fake</td>\n      <td>education</td>\n      <td>hay noticia</td>\n      <td>la palabra haiga aceptada por la rae</td>\n      <td>la palabra haiga aceptada por la rae la real a...</td>\n    </tr>\n    <tr>\n      <th>2</th>\n      <td>fake</td>\n      <td>education</td>\n      <td>el ruinaversal</td>\n      <td>yordi rosado escribira y disenara los nuevos l...</td>\n      <td>yordi rosado escribira y disenara los nuevos l...</td>\n    </tr>\n    <tr>\n      <th>3</th>\n      <td>true</td>\n      <td>education</td>\n      <td>el universal</td>\n      <td>unam capacitara a maestros para aprobar prueba...</td>\n      <td>unam capacitara a maestros para aprobar prueba...</td>\n    </tr>\n    <tr>\n      <th>4</th>\n      <td>fake</td>\n      <td>education</td>\n      <td>lamula</td>\n      <td>pretenden aprobar libros escolares con conteni...</td>\n      <td>alerta pretenden aprobar libros escolares con ...</td>\n    </tr>\n  </tbody>\n</table>\n</div>"
     },
     "execution_count": 4,
     "metadata": {},
     "output_type": "execute_result"
    }
   ],
   "source": [
    "def procesar_texto(texto):\n",
    "    \"\"\"\n",
    "\n",
    "    :param texto: cadena de texto.\n",
    "    :return: Una cadena de texto formada solo por las palabras de la cadena original.\n",
    "    \"\"\"\n",
    "\n",
    "    # 1. Convertir el texto en minúsculas.\n",
    "    texto = texto.lower()\n",
    "\n",
    "    # 2. Eliminar acentos.\n",
    "    texto = unidecode.unidecode(texto)\n",
    "\n",
    "    # 3. Quedarnos solo con las palabras.\n",
    "    texto = re.findall(r'\\w+', texto)\n",
    "    texto = ' '.join(texto)\n",
    "\n",
    "    return texto\n",
    "\n",
    "def procesar_columnas(df, columnas, funcion_procesar):\n",
    "    \"\"\"\n",
    "\n",
    "    :param df: dataframe con las columnas a procesar.\n",
    "    :param columnas: lista de las columnas a procesar.\n",
    "    :param funcion_procesar: función de procesamiento que se aplica a todas las columnas.\n",
    "    :return: El dataframe con los datos de las columnas procesados.\n",
    "    \"\"\"\n",
    "\n",
    "    for col in columnas:\n",
    "        df[col] = df[col].apply(funcion_procesar)\n",
    "    return df\n",
    "\n",
    "# Lista de columnas a procesar.\n",
    "columnas_a_procesar = ['Category', 'Topic', 'Source', 'Headline', 'Text']\n",
    "\n",
    "# Procesamiento.\n",
    "df_datos = procesar_columnas(df_datos, columnas_a_procesar, procesar_texto)\n",
    "df_datos.head()"
   ],
   "metadata": {
    "collapsed": false,
    "pycharm": {
     "name": "#%%\n"
    }
   }
  },
  {
   "cell_type": "markdown",
   "source": [
    "## 2.3 Traducción de los datos\n",
    "\n",
    "**Traducción de las columnas**\n",
    "\n",
    "Las columnas se encuentran en inglés, pero el texto, título y fuente en español, para evitar inconsistencias se traducen todas las columnas."
   ],
   "metadata": {
    "collapsed": false,
    "pycharm": {
     "name": "#%% md\n"
    }
   }
  },
  {
   "cell_type": "code",
   "execution_count": 5,
   "outputs": [
    {
     "name": "stdout",
     "output_type": "stream",
     "text": [
      "Columnas: ['categoria', 'tema', 'fuente', 'encabezado', 'texto']\n"
     ]
    }
   ],
   "source": [
    "columnas_dict = {\n",
    "    'Category': 'categoria',\n",
    "    'Topic':    'tema',\n",
    "    'Source':   'fuente',\n",
    "    'Headline': 'encabezado',\n",
    "    'Text':     'texto'\n",
    "}\n",
    "\n",
    "# Renombrar las columnas.\n",
    "df_datos.rename(columns=columnas_dict, inplace=True)\n",
    "\n",
    "# Imprimir las columnas.\n",
    "print(f'Columnas: {list(df_datos.columns)}')"
   ],
   "metadata": {
    "collapsed": false,
    "pycharm": {
     "name": "#%%\n"
    }
   }
  },
  {
   "cell_type": "markdown",
   "source": [
    "**Traducción de los temas**\n",
    "\n",
    "Los temas también se traducen al español.\n",
    "\n",
    "Como recordatorio los temas abarcados en las noticias son los siguientes:\n",
    "1. Ciencia.\n",
    "2. Deportes.\n",
    "3. Economía.\n",
    "4. Entretenimiento.\n",
    "5. Educación.\n",
    "6. Política.\n",
    "7. Salud.\n",
    "8. Seguridad.\n",
    "9. Sociedad"
   ],
   "metadata": {
    "collapsed": false,
    "pycharm": {
     "name": "#%% md\n"
    }
   }
  },
  {
   "cell_type": "code",
   "execution_count": 6,
   "outputs": [
    {
     "data": {
      "text/plain": "  categoria       tema          fuente  \\\n0      fake  educación  el ruinaversal   \n1      fake  educación     hay noticia   \n2      fake  educación  el ruinaversal   \n3      true  educación    el universal   \n4      fake  educación          lamula   \n\n                                          encabezado  \\\n0  rae incluira la palabra lady en el diccionario...   \n1               la palabra haiga aceptada por la rae   \n2  yordi rosado escribira y disenara los nuevos l...   \n3  unam capacitara a maestros para aprobar prueba...   \n4  pretenden aprobar libros escolares con conteni...   \n\n                                               texto  \n0  rae incluira la palabra lady en el diccionario...  \n1  la palabra haiga aceptada por la rae la real a...  \n2  yordi rosado escribira y disenara los nuevos l...  \n3  unam capacitara a maestros para aprobar prueba...  \n4  alerta pretenden aprobar libros escolares con ...  ",
      "text/html": "<div>\n<style scoped>\n    .dataframe tbody tr th:only-of-type {\n        vertical-align: middle;\n    }\n\n    .dataframe tbody tr th {\n        vertical-align: top;\n    }\n\n    .dataframe thead th {\n        text-align: right;\n    }\n</style>\n<table border=\"1\" class=\"dataframe\">\n  <thead>\n    <tr style=\"text-align: right;\">\n      <th></th>\n      <th>categoria</th>\n      <th>tema</th>\n      <th>fuente</th>\n      <th>encabezado</th>\n      <th>texto</th>\n    </tr>\n  </thead>\n  <tbody>\n    <tr>\n      <th>0</th>\n      <td>fake</td>\n      <td>educación</td>\n      <td>el ruinaversal</td>\n      <td>rae incluira la palabra lady en el diccionario...</td>\n      <td>rae incluira la palabra lady en el diccionario...</td>\n    </tr>\n    <tr>\n      <th>1</th>\n      <td>fake</td>\n      <td>educación</td>\n      <td>hay noticia</td>\n      <td>la palabra haiga aceptada por la rae</td>\n      <td>la palabra haiga aceptada por la rae la real a...</td>\n    </tr>\n    <tr>\n      <th>2</th>\n      <td>fake</td>\n      <td>educación</td>\n      <td>el ruinaversal</td>\n      <td>yordi rosado escribira y disenara los nuevos l...</td>\n      <td>yordi rosado escribira y disenara los nuevos l...</td>\n    </tr>\n    <tr>\n      <th>3</th>\n      <td>true</td>\n      <td>educación</td>\n      <td>el universal</td>\n      <td>unam capacitara a maestros para aprobar prueba...</td>\n      <td>unam capacitara a maestros para aprobar prueba...</td>\n    </tr>\n    <tr>\n      <th>4</th>\n      <td>fake</td>\n      <td>educación</td>\n      <td>lamula</td>\n      <td>pretenden aprobar libros escolares con conteni...</td>\n      <td>alerta pretenden aprobar libros escolares con ...</td>\n    </tr>\n  </tbody>\n</table>\n</div>"
     },
     "execution_count": 6,
     "metadata": {},
     "output_type": "execute_result"
    }
   ],
   "source": [
    "def traducir_temas(df):\n",
    "    df.loc[df['tema'] == 'economy'      , 'tema'] = 'economía'\n",
    "    df.loc[df['tema'] == 'education'    , 'tema'] = 'educación'\n",
    "    df.loc[df['tema'] == 'entertainment', 'tema'] = 'entretenimiento'\n",
    "    df.loc[df['tema'] == 'health'       , 'tema'] = 'salud'\n",
    "    df.loc[df['tema'] == 'politics'     , 'tema'] = 'política'\n",
    "    df.loc[df['tema'] == 'science'      , 'tema'] = 'ciencia'\n",
    "    df.loc[df['tema'] == 'security'     , 'tema'] = 'seguridad'\n",
    "    df.loc[df['tema'] == 'society'      , 'tema'] = 'sociedad'\n",
    "    df.loc[df['tema'] == 'sport'        , 'tema'] = 'deportes'\n",
    "\n",
    "traducir_temas(df_datos)\n",
    "df_datos.head()"
   ],
   "metadata": {
    "collapsed": false,
    "pycharm": {
     "name": "#%%\n"
    }
   }
  },
  {
   "cell_type": "markdown",
   "source": [
    "*Nota*: Los temas se traducen al español para un análisis exploratorio consistente, sin embargo, esto solo es posible debido al número limitado de temas. En caso de existir más temas no se recomienda traducirlos uno a uno como se hizo aquí.\n"
   ],
   "metadata": {
    "collapsed": false,
    "pycharm": {
     "name": "#%% md\n"
    }
   }
  },
  {
   "cell_type": "markdown",
   "source": [
    "**Traducir categorías**\n",
    "\n",
    "Las categorías no son traducidas, en su lugar se convierten en valores numéricos para tener un mejor control durante el análisis y el procesamiento de los datos."
   ],
   "metadata": {
    "collapsed": false,
    "pycharm": {
     "name": "#%% md\n"
    }
   }
  },
  {
   "cell_type": "code",
   "execution_count": 7,
   "outputs": [
    {
     "data": {
      "text/plain": "  categoria       tema          fuente  \\\n0         0  educación  el ruinaversal   \n1         0  educación     hay noticia   \n2         0  educación  el ruinaversal   \n3         1  educación    el universal   \n4         0  educación          lamula   \n\n                                          encabezado  \\\n0  rae incluira la palabra lady en el diccionario...   \n1               la palabra haiga aceptada por la rae   \n2  yordi rosado escribira y disenara los nuevos l...   \n3  unam capacitara a maestros para aprobar prueba...   \n4  pretenden aprobar libros escolares con conteni...   \n\n                                               texto  \n0  rae incluira la palabra lady en el diccionario...  \n1  la palabra haiga aceptada por la rae la real a...  \n2  yordi rosado escribira y disenara los nuevos l...  \n3  unam capacitara a maestros para aprobar prueba...  \n4  alerta pretenden aprobar libros escolares con ...  ",
      "text/html": "<div>\n<style scoped>\n    .dataframe tbody tr th:only-of-type {\n        vertical-align: middle;\n    }\n\n    .dataframe tbody tr th {\n        vertical-align: top;\n    }\n\n    .dataframe thead th {\n        text-align: right;\n    }\n</style>\n<table border=\"1\" class=\"dataframe\">\n  <thead>\n    <tr style=\"text-align: right;\">\n      <th></th>\n      <th>categoria</th>\n      <th>tema</th>\n      <th>fuente</th>\n      <th>encabezado</th>\n      <th>texto</th>\n    </tr>\n  </thead>\n  <tbody>\n    <tr>\n      <th>0</th>\n      <td>0</td>\n      <td>educación</td>\n      <td>el ruinaversal</td>\n      <td>rae incluira la palabra lady en el diccionario...</td>\n      <td>rae incluira la palabra lady en el diccionario...</td>\n    </tr>\n    <tr>\n      <th>1</th>\n      <td>0</td>\n      <td>educación</td>\n      <td>hay noticia</td>\n      <td>la palabra haiga aceptada por la rae</td>\n      <td>la palabra haiga aceptada por la rae la real a...</td>\n    </tr>\n    <tr>\n      <th>2</th>\n      <td>0</td>\n      <td>educación</td>\n      <td>el ruinaversal</td>\n      <td>yordi rosado escribira y disenara los nuevos l...</td>\n      <td>yordi rosado escribira y disenara los nuevos l...</td>\n    </tr>\n    <tr>\n      <th>3</th>\n      <td>1</td>\n      <td>educación</td>\n      <td>el universal</td>\n      <td>unam capacitara a maestros para aprobar prueba...</td>\n      <td>unam capacitara a maestros para aprobar prueba...</td>\n    </tr>\n    <tr>\n      <th>4</th>\n      <td>0</td>\n      <td>educación</td>\n      <td>lamula</td>\n      <td>pretenden aprobar libros escolares con conteni...</td>\n      <td>alerta pretenden aprobar libros escolares con ...</td>\n    </tr>\n  </tbody>\n</table>\n</div>"
     },
     "execution_count": 7,
     "metadata": {},
     "output_type": "execute_result"
    }
   ],
   "source": [
    "def traducir_categorias(df):\n",
    "    df.loc[df['categoria'] == 'fake', 'categoria'] = '0'\n",
    "    df.loc[df['categoria'] == 'true', 'categoria'] = '1'\n",
    "\n",
    "traducir_categorias(df_datos)\n",
    "df_datos.head()"
   ],
   "metadata": {
    "collapsed": false,
    "pycharm": {
     "name": "#%%\n"
    }
   }
  },
  {
   "cell_type": "markdown",
   "source": [
    "## 2.4 Guardar los datos\n",
    "\n",
    "Ahora los datos se encuentran procesados y traducidos al español, es necesario guardarlos en un archivo para poder utilizarlo en las libretas posteriores. Los datos son guardados en un archivo llamado `datos` con extensión `.csv`."
   ],
   "metadata": {
    "collapsed": false,
    "pycharm": {
     "name": "#%% md\n"
    }
   }
  },
  {
   "cell_type": "code",
   "execution_count": 8,
   "outputs": [],
   "source": [
    "df_datos.to_csv('Datos/datos.csv', index=False)"
   ],
   "metadata": {
    "collapsed": false,
    "pycharm": {
     "name": "#%%\n"
    }
   }
  },
  {
   "cell_type": "markdown",
   "source": [],
   "metadata": {
    "collapsed": false,
    "pycharm": {
     "name": "#%% md\n"
    }
   }
  }
 ],
 "metadata": {
  "kernelspec": {
   "name": "python3",
   "language": "python",
   "display_name": "Python 3 (ipykernel)"
  },
  "language_info": {
   "codemirror_mode": {
    "name": "ipython",
    "version": 3
   },
   "file_extension": ".py",
   "mimetype": "text/x-python",
   "name": "python",
   "nbconvert_exporter": "python",
   "pygments_lexer": "ipython3",
   "version": "3.9.10"
  },
  "toc-autonumbering": false,
  "toc-showmarkdowntxt": false,
  "toc-showtags": false
 },
 "nbformat": 4,
 "nbformat_minor": 5
}